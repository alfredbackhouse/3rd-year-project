{
  "cells": [
    {
      "cell_type": "code",
      "execution_count": 657,
      "metadata": {},
      "outputs": [],
      "source": [
        "# Do we need to train the discriminator and generator?\n",
        "# or just load the weights?\n",
        "TRAIN_DISCRIMINATOR = False\n",
        "TRAIN_GENERATOR = True\n",
        "WGAN = False\n",
        "TARGET_DIGIT = 8\n",
        "MUTATE_POOL = True\n",
        "LOSS_TYPE = 'l2'\n",
        "\n",
        "iters_lower, iters_upper = 70, 71\n"
      ]
    },
    {
      "cell_type": "code",
      "execution_count": 658,
      "metadata": {
        "id": "ucAGUcNOXJ91"
      },
      "outputs": [],
      "source": [
        "#@title imports and notebook utils\n",
        "\n",
        "import time\n",
        "import os\n",
        "import io\n",
        "import PIL.Image, PIL.ImageDraw\n",
        "import base64\n",
        "import zipfile\n",
        "import json\n",
        "import requests\n",
        "import numpy as np\n",
        "import matplotlib.pylab as pl\n",
        "import glob\n",
        "import imageio\n",
        "import random\n",
        "\n",
        "\n",
        "\n",
        "import tensorflow as tf\n",
        "\n",
        "from tensorflow.keras.layers import Conv2D\n",
        "from tensorflow.keras import Sequential, backend\n",
        "from tensorflow.keras.layers import Conv2D, Flatten, Dense, BatchNormalization, LeakyReLU, Dropout\n",
        "from tensorflow.keras.optimizers import Adam\n",
        "from tensorflow.keras.initializers import Initializer\n",
        "from tensorflow.keras.regularizers import l2\n",
        "from tensorflow.keras.constraints import Constraint\n",
        "from keras.initializers import RandomNormal\n",
        "\n",
        "from IPython.display import Image, HTML, clear_output\n",
        "import tqdm\n",
        "\n",
        "import os\n",
        "os.environ['FFMPEG_BINARY'] = 'ffmpeg'\n",
        "import moviepy.editor as mvp\n",
        "from moviepy.video.io.ffmpeg_writer import FFMPEG_VideoWriter\n",
        "clear_output()\n",
        "\n",
        "def np2pil(a):\n",
        "  if a.dtype in [np.float32, np.float64]:\n",
        "    a = np.uint8(np.clip(a, 0, 1)*255)\n",
        "  return PIL.Image.fromarray(a)\n",
        "\n",
        "def imwrite(f, a, fmt=None):\n",
        "  a = np.asarray(a)\n",
        "  if isinstance(f, str):\n",
        "    fmt = f.rsplit('.', 1)[-1].lower()\n",
        "    if fmt == 'jpg':\n",
        "      fmt = 'jpeg'\n",
        "    f = open(f, 'wb')\n",
        "  np2pil(a).save(f, fmt, quality=95)\n",
        "\n",
        "def imencode(a, fmt='jpeg'):\n",
        "  a = np.asarray(a)\n",
        "  if len(a.shape) == 3 and a.shape[-1] == 4:\n",
        "    fmt = 'png'\n",
        "  f = io.BytesIO()\n",
        "  imwrite(f, a, fmt)\n",
        "  return f.getvalue()\n",
        "\n",
        "def im2url(a, fmt='jpeg'):\n",
        "  encoded = imencode(a, fmt)\n",
        "  base64_byte_string = base64.b64encode(encoded).decode('ascii')\n",
        "  return 'data:image/' + fmt.upper() + ';base64,' + base64_byte_string\n",
        "\n",
        "def imshow(a, fmt='jpeg'):\n",
        "  display(Image(data=imencode(a, fmt)))\n",
        "\n",
        "def tile2d(a, w=None):\n",
        "  a = np.asarray(a)\n",
        "  if w is None:\n",
        "    w = int(np.ceil(np.sqrt(len(a))))\n",
        "  th, tw = a.shape[1:3]\n",
        "  pad = (w-len(a))%w\n",
        "  a = np.pad(a, [(0, pad)]+[(0, 0)]*(a.ndim-1), 'constant')\n",
        "  h = len(a)//w\n",
        "  a = a.reshape([h, w]+list(a.shape[1:]))\n",
        "  a = np.rollaxis(a, 2, 1).reshape([th*h, tw*w]+list(a.shape[4:]))\n",
        "  return a\n",
        "\n",
        "def zoom(img, scale=4):\n",
        "  img = np.repeat(img, scale, 0)\n",
        "  img = np.repeat(img, scale, 1)\n",
        "  return img\n",
        "\n",
        "class VideoWriter:\n",
        "  def __init__(self, filename, fps=30.0, **kw):\n",
        "    self.writer = None\n",
        "    self.params = dict(filename=filename, fps=fps, **kw)\n",
        "\n",
        "  def add(self, img):\n",
        "    img = np.asarray(img)\n",
        "    if self.writer is None:\n",
        "      h, w = img.shape[:2]\n",
        "      self.writer = FFMPEG_VideoWriter(size=(w, h), **self.params)\n",
        "    if img.dtype in [np.float32, np.float64]:\n",
        "      img = np.uint8(img.clip(0, 1)*255)\n",
        "    if len(img.shape) == 2:\n",
        "      img = np.repeat(img[..., None], 3, -1)\n",
        "    if len(img.shape) == 3 and img.shape[-1] == 4:\n",
        "      img = img[..., :3] * img[..., 3, None]\n",
        "    self.writer.write_frame(img)\n",
        "\n",
        "  def close(self):\n",
        "    if self.writer:\n",
        "      self.writer.close()\n",
        "\n",
        "  def __enter__(self):\n",
        "    return self\n",
        "\n",
        "  def __exit__(self, *kw):\n",
        "    self.close()"
      ]
    },
    {
      "cell_type": "code",
      "execution_count": 659,
      "metadata": {
        "colab": {
          "base_uri": "https://localhost:8080/",
          "height": 601
        },
        "id": "-1D-yCxlX5PX",
        "outputId": "2ce9aaf2-ed40-4dc7-95d0-60d14ac60dd0"
      },
      "outputs": [
        {
          "data": {
            "image/png": "[encoded data removed]",
            "text/plain": [
              "<Figure size 640x480 with 1 Axes>"
            ]
          },
          "metadata": {},
          "output_type": "display_data"
        },
        {
          "data": {
            "image/png": "[encoded data removed]",
            "text/plain": [
              "<Figure size 640x480 with 1 Axes>"
            ]
          },
          "metadata": {},
          "output_type": "display_data"
        }
      ],
      "source": [
        "# @title Generate train/test set from MNIST.\n",
        "\n",
        "(train_images, train_labels), (_, _) = tf.keras.datasets.mnist.load_data()\n",
        "train_images = train_images.reshape(train_images.shape[0], 28, 28, 1).astype('float32')\n",
        "train_images = 1 * ((train_images) / 255)\n",
        "BUFFER_SIZE = 60000\n",
        "BATCH_SIZE = 256\n",
        "\n",
        "# Separate images of '1' and other digits\n",
        "images_of_target = train_images[train_labels == TARGET_DIGIT]\n",
        "images_of_others = train_images[train_labels != TARGET_DIGIT]\n",
        "\n",
        "# Downsample the 'other digits' dataset to match the size of '1s' dataset\n",
        "size_of_targets = images_of_target.shape[0]\n",
        "downsampled_images_of_others = images_of_others[:size_of_targets]\n",
        "\n",
        "# Combine and shuffle the datasets\n",
        "combined_images = np.concatenate((images_of_target, downsampled_images_of_others), axis=0)\n",
        "combined_labels = np.concatenate((np.ones(size_of_targets), np.zeros(size_of_targets)), axis=0)\n",
        "\n",
        "# # Shuffle the combined dataset\n",
        "# shuffled_indices = np.random.permutation(combined_images.shape[0])\n",
        "# combined_images = combined_images[shuffled_indices]\n",
        "# combined_labels = combined_labels[shuffled_indices]\n",
        "\n",
        "# Create the TensorFlow dataset\n",
        "x_train = tf.data.Dataset.from_tensor_slices((combined_images, combined_labels)).shuffle(BUFFER_SIZE).batch(BATCH_SIZE)\n",
        "\n",
        "# take a target image\n",
        "target_image = images_of_target[5]\n",
        "\n",
        "\n",
        "\n",
        "def to_ten_dim_label(x, y):\n",
        "    # x shape is [b, r, c]\n",
        "    # y shape is [b]\n",
        "    y_res = np.zeros(list(x.shape) + [10])\n",
        "    y_expanded = np.broadcast_to(y, x.T.shape).T\n",
        "    y_res[x >= 0.1, y_expanded[x >= 0.1]] = 1.0\n",
        "    return y_res.astype(np.float32)\n",
        "\n",
        "y_train_pic = to_ten_dim_label(train_images, train_labels)\n",
        "\n",
        "def find_bw_legend(x_set, y_set, orientation=\"vertical\"):\n",
        "    result_x = []\n",
        "    for i in range(10):\n",
        "        for x, y in zip(x_set, y_set):\n",
        "            if y == i:\n",
        "                result_x.append(x)\n",
        "                break\n",
        "    assert len(result_x) == 10\n",
        "\n",
        "    if orientation == \"vertical\":\n",
        "        result_x = np.concatenate(result_x, axis=0)\n",
        "    else:\n",
        "        result_x = np.concatenate(result_x, axis=1)\n",
        "\n",
        "    return result_x\n",
        "\n",
        "# Create vertical and horizontal black and white legends\n",
        "bw_legend_vertical = find_bw_legend(train_images, train_labels, orientation=\"vertical\")\n",
        "bw_legend_horizontal = find_bw_legend(train_images, train_labels, orientation=\"horizontal\")\n",
        "\n",
        "# Show the legend using matplotlib or some other library of your choice\n",
        "import matplotlib.pyplot as plt\n",
        "\n",
        "plt.imshow(bw_legend_vertical, cmap='gray')\n",
        "plt.title('Vertical Legend')\n",
        "plt.show()\n",
        "\n",
        "plt.imshow(bw_legend_horizontal, cmap='gray')\n",
        "plt.title('Horizontal Legend')\n",
        "plt.show()\n"
      ]
    },
    {
      "cell_type": "code",
      "execution_count": 660,
      "metadata": {
        "id": "u9zSn7zKX5qC"
      },
      "outputs": [],
      "source": [
        "#@markdown ### Model configuration\n",
        "#@markdown These options configure the model to be used and train in this\n",
        "#@markdown notebook. Please refer to the article for more information.\n",
        "CHANNEL_N = 16 # Number of CA state channels\n",
        "CELL_FIRE_RATE = 0.5\n",
        "\n",
        "EXPERIMENT_TYPE = \"Growing\" #@param [\"Growing\", \"Persistent\", \"Regenerating\"]\n",
        "EXPERIMENT_MAP = {\"Growing\":0, \"Persistent\":1, \"Regenerating\":2}\n",
        "EXPERIMENT_N = EXPERIMENT_MAP[EXPERIMENT_TYPE]\n",
        "\n",
        "USE_PATTERN_POOL = [0, 1, 1][EXPERIMENT_N]\n",
        "DAMAGE_N = [0, 0, 3][EXPERIMENT_N]  # Number of patterns to damage in a batch\n",
        "\n",
        "\n",
        "\n"
      ]
    },
    {
      "cell_type": "code",
      "execution_count": 661,
      "metadata": {
        "colab": {
          "base_uri": "https://localhost:8080/"
        },
        "id": "8tJ6OFmiX6EB",
        "outputId": "aeb32dff-7818-4105-c092-7860e91a2d50"
      },
      "outputs": [],
      "source": [
        "#@title CA model and utils\n",
        "\n",
        "\n",
        "def to_greyscale(x):\n",
        "    return tf.clip_by_value(x[..., 0:1], 0.0, 1.0)\n",
        "\n",
        "def get_living_mask(x):\n",
        "    alpha = x[:, :, :, 0:1]\n",
        "    return tf.nn.max_pool2d(alpha, 3, [1, 1, 1, 1], 'SAME') > 0.1\n",
        "\n",
        "def make_seed(num_examples, height = 9, width = 4):\n",
        "    h, w = 28,28\n",
        "    seed = np.zeros([num_examples, h, w, CHANNEL_N], np.float32)\n",
        "    for i in range(h//2 - height, h//2 + height):\n",
        "        for j in range(w//2-width, w//2 + width):\n",
        "            seed[:, i, j, 0] = np.random.uniform(1, 1, size = num_examples)\n",
        "    return seed\n",
        "\n",
        "class CustomInitializer(Initializer):\n",
        "    def __init__(self, mean=0.0, stddev=0.01):\n",
        "        self.mean = mean\n",
        "        self.stddev = stddev\n",
        "\n",
        "    def __call__(self, shape, dtype=np.float32):\n",
        "        return tf.random.normal(shape, mean=self.mean, stddev=self.stddev, dtype=dtype)\n",
        "\n",
        "# class build_generator(tf.keras.Model):\n",
        "\n",
        "#     def __init__(self, channel_n=CHANNEL_N, fire_rate=CELL_FIRE_RATE, l2_reg = 0):\n",
        "#         super().__init__()\n",
        "#         self.channel_n = channel_n\n",
        "#         self.fire_rate = fire_rate\n",
        "#         self.custom_init = CustomInitializer(mean=0) #was 0.008\n",
        "\n",
        "#         self.dmodel = tf.keras.Sequential([\n",
        "#             Conv2D(128, 1, activation=tf.nn.relu, kernel_initializer=self.custom_init, kernel_regularizer=l2(l2_reg)),\n",
        "#             Conv2D(self.channel_n, 1, activation=None,\n",
        "#                 kernel_initializer=self.custom_init, kernel_regularizer=l2(l2_reg)),\n",
        "#         ])\n",
        "\n",
        "#         self(tf.zeros([1, 3, 3, channel_n]))  # dummy call to build the model\n",
        "\n",
        "#     def reinitialize_weights(self):\n",
        "#         for layer in self.dmodel.layers:\n",
        "#             if hasattr(layer, 'kernel_initializer'):\n",
        "#                 layer.kernel.assign(self.custom_init(layer.kernel.shape))\n",
        "#             if hasattr(layer, 'bias_initializer') and layer.use_bias:\n",
        "#                 layer.bias.assign(self.custom_init(layer.bias.shape))\n",
        "\n",
        "#     @tf.function\n",
        "#     def perceive(self, x, angle=0.0):\n",
        "#         identify = np.float32([0, 1, 0])\n",
        "#         identify = np.outer(identify, identify)\n",
        "#         dx = np.outer([1, 2, 1], [-1, 0, 1]) / 8.0  # Sobel filter\n",
        "#         dy = dx.T\n",
        "#         c, s = tf.cos(angle), tf.sin(angle)\n",
        "#         kernel = tf.stack([identify, c*dx-s*dy, s*dx+c*dy], -1)[:, :, None, :]\n",
        "#         kernel = tf.repeat(kernel, self.channel_n, 2)\n",
        "#         y = tf.nn.depthwise_conv2d(x, kernel, [1, 1, 1, 1], 'SAME')\n",
        "#         return y\n",
        "\n",
        "#     @tf.function\n",
        "#     def call(self, x, fire_rate=None, angle=0.0, step_size=1.0):\n",
        "#         pre_life_mask = get_living_mask(x)\n",
        "\n",
        "#         y = self.perceive(x, angle)\n",
        "#         dx = self.dmodel(y)*step_size\n",
        "#         if fire_rate is None:\n",
        "#             fire_rate = self.fire_rate\n",
        "#         update_mask = tf.random.uniform(tf.shape(x[:, :, :, :1])) <= fire_rate\n",
        "#         x += dx * tf.cast(update_mask, tf.float32)\n",
        "\n",
        "#         post_life_mask = get_living_mask(x)\n",
        "#         life_mask = pre_life_mask & post_life_mask\n",
        "\n",
        "# # TODO reimplement the original training and use sigmoid\n",
        "# # TODO then use this as a warm start\n",
        "\n",
        "#         return x * tf.cast(life_mask, tf.float32)\n",
        "\n",
        "\n",
        "# build_generator().dmodel.summary()"
      ]
    },
    {
      "cell_type": "code",
      "execution_count": 662,
      "metadata": {},
      "outputs": [
        {
          "name": "stdout",
          "output_type": "stream",
          "text": [
            "Model: \"sequential_214\"\n",
            "_________________________________________________________________\n",
            " Layer (type)                Output Shape              Param #   \n",
            "=================================================================\n",
            " conv2d_419 (Conv2D)         (1, 3, 3, 80)             6480      \n",
            "                                                                 \n",
            " conv2d_420 (Conv2D)         (1, 3, 3, 16)             1296      \n",
            "                                                                 \n",
            "=================================================================\n",
            "Total params: 7776 (30.38 KB)\n",
            "Trainable params: 7776 (30.38 KB)\n",
            "Non-trainable params: 0 (0.00 Byte)\n",
            "_________________________________________________________________\n"
          ]
        }
      ],
      "source": [
        "class build_generator(tf.keras.Model):\n",
        "\n",
        "    def __init__(self, channel_n=CHANNEL_N, fire_rate=CELL_FIRE_RATE, l2_reg = 0):\n",
        "        super().__init__()\n",
        "        self.channel_n = channel_n\n",
        "        self.fire_rate = fire_rate\n",
        "        self.custom_init = CustomInitializer(mean=0) #was 0.008\n",
        "\n",
        "        self.perceive = tf.keras.Sequential([\n",
        "            Conv2D(80, 3, activation=tf.nn.relu, padding=\"SAME\"),\n",
        "        ])\n",
        "\n",
        "        self.dmodel = tf.keras.Sequential([\n",
        "            Conv2D(80, 1, activation=tf.nn.relu, kernel_initializer=self.custom_init, kernel_regularizer=l2(l2_reg)),\n",
        "            Conv2D(self.channel_n, 1, activation=None,\n",
        "                kernel_initializer=self.custom_init, kernel_regularizer=l2(l2_reg)),\n",
        "        ])\n",
        "\n",
        "        self(tf.zeros([1, 3, 3, channel_n]))  # dummy call to build the model\n",
        "\n",
        "    def reinitialize_weights(self):\n",
        "        for layer in self.dmodel.layers:\n",
        "            if hasattr(layer, 'kernel_initializer'):\n",
        "                layer.kernel.assign(self.custom_init(layer.kernel.shape))\n",
        "            if hasattr(layer, 'bias_initializer') and layer.use_bias:\n",
        "                layer.bias.assign(self.custom_init(layer.bias.shape))\n",
        "\n",
        "    @tf.function\n",
        "    def call(self, x, fire_rate=None, angle=0.0, step_size=1.0):\n",
        "        pre_life_mask = get_living_mask(x)\n",
        "\n",
        "        y = self.perceive(x)\n",
        "        dx = self.dmodel(y)*step_size\n",
        "        if fire_rate is None:\n",
        "            fire_rate = self.fire_rate\n",
        "        update_mask = tf.random.uniform(tf.shape(x[:, :, :, :1])) <= fire_rate\n",
        "        x += dx * tf.cast(update_mask, tf.float32)\n",
        "\n",
        "        post_life_mask = get_living_mask(x)\n",
        "        life_mask = pre_life_mask & post_life_mask\n",
        "\n",
        "# TODO reimplement the original training and use sigmoid\n",
        "# TODO then use this as a warm start\n",
        "\n",
        "        return x * tf.cast(life_mask, tf.float32)\n",
        "\n",
        "\n",
        "build_generator().dmodel.summary()"
      ]
    },
    {
      "cell_type": "code",
      "execution_count": 663,
      "metadata": {
        "colab": {
          "base_uri": "https://localhost:8080/",
          "height": 1000
        },
        "id": "mTmHNfI6hwhG",
        "outputId": "c6b25c9b-8cf1-4d21-9c06-2d110a7123b1"
      },
      "outputs": [
        {
          "data": {
            "image/png": "[encoded data removed]",
            "text/plain": [
              "<Figure size 640x480 with 1 Axes>"
            ]
          },
          "metadata": {},
          "output_type": "display_data"
        }
      ],
      "source": [
        "#@title Lets generate an image! (basic testing that the generator works, with animation)\n",
        "\n",
        "generator = build_generator()\n",
        "\n",
        "def animate_ca(generator, h=1, w=1):\n",
        "    x = make_seed(1, height=h, width=w)\n",
        "\n",
        "    for i in range(1):\n",
        "        x = generator(x, training=False)\n",
        "        plt.imshow(to_greyscale(x)[0, :, :, 0], cmap='gray')\n",
        "        plt.show()\n",
        "        # print(x[0,:,:,0].numpy().max())\n",
        "\n",
        "    return x\n",
        "\n",
        "x = animate_ca(generator)"
      ]
    },
    {
      "cell_type": "code",
      "execution_count": 664,
      "metadata": {},
      "outputs": [],
      "source": [
        "# clip model weights to a given hypercube\n",
        "class ClipConstraint(Constraint):\n",
        "\t# set clip value when initialized\n",
        "\tdef __init__(self, clip_value):\n",
        "\t\tself.clip_value = clip_value\n",
        " \n",
        "\t# clip model weights to hypercube\n",
        "\tdef __call__(self, weights):\n",
        "\t\treturn backend.clip(weights, -self.clip_value, self.clip_value)"
      ]
    },
    {
      "cell_type": "code",
      "execution_count": 665,
      "metadata": {
        "colab": {
          "base_uri": "https://localhost:8080/"
        },
        "id": "ryiHMo9jaBCX",
        "outputId": "ea62c6ad-dbd8-46ac-d570-59dc80ba6c4c"
      },
      "outputs": [
        {
          "name": "stdout",
          "output_type": "stream",
          "text": [
            "Model: \"sequential_217\"\n",
            "_________________________________________________________________\n",
            " Layer (type)                Output Shape              Param #   \n",
            "=================================================================\n",
            " conv2d_424 (Conv2D)         (None, 14, 14, 64)        1664      \n",
            "                                                                 \n",
            " leaky_re_lu_180 (LeakyReLU  (None, 14, 14, 64)        0         \n",
            " )                                                               \n",
            "                                                                 \n",
            " dropout_180 (Dropout)       (None, 14, 14, 64)        0         \n",
            "                                                                 \n",
            " conv2d_425 (Conv2D)         (None, 7, 7, 128)         204928    \n",
            "                                                                 \n",
            " leaky_re_lu_181 (LeakyReLU  (None, 7, 7, 128)         0         \n",
            " )                                                               \n",
            "                                                                 \n",
            " dropout_181 (Dropout)       (None, 7, 7, 128)         0         \n",
            "                                                                 \n",
            " flatten_90 (Flatten)        (None, 6272)              0         \n",
            "                                                                 \n",
            " dense_90 (Dense)            (None, 1)                 6273      \n",
            "                                                                 \n",
            "=================================================================\n",
            "Total params: 212865 (831.50 KB)\n",
            "Trainable params: 212865 (831.50 KB)\n",
            "Non-trainable params: 0 (0.00 Byte)\n",
            "_________________________________________________________________\n"
          ]
        }
      ],
      "source": [
        "#@title Discriminator model and utils\n",
        "\n",
        "\n",
        "def build_discriminator(input_shape=(28, 28, 1)):\n",
        "\n",
        "    const = ClipConstraint(0.01)\n",
        "    model = tf.keras.Sequential()\n",
        "    model.add(Conv2D(64, (5, 5), strides=(2, 2), padding='same', kernel_constraint=const,\n",
        "                                     input_shape=[28, 28, 1]))\n",
        "    model.add(LeakyReLU())\n",
        "    model.add(Dropout(0.3))\n",
        "    model.add(Conv2D(128, (5, 5), strides=(2, 2), padding='same', kernel_constraint=const))\n",
        "    model.add(LeakyReLU())\n",
        "    model.add(Dropout(0.3))\n",
        "    model.add(Flatten())\n",
        "    model.add(Dense(1))\n",
        "\n",
        "    return model\n",
        "\n",
        "    # # old, simple model\n",
        "    # model = Sequential()\n",
        "\n",
        "    # model.add(Conv2D(32, (3, 3), strides=(2, 2), padding='same', input_shape=input_shape))\n",
        "    # model.add(LeakyReLU())\n",
        "    # model.add(Conv2D(32, (3, 3), strides=(2, 2), padding='same'))\n",
        "    # model.add(LeakyReLU())\n",
        "    # model.add(Flatten())\n",
        "    # model.add(Dense(1))  # No activation because the binary crossentropy loss function does the activation as well (using from logits)\n",
        "\n",
        "    # return model\n",
        "\n",
        "discriminator = build_discriminator()\n",
        "discriminator.compile(optimizer=tf.keras.optimizers.legacy.Adam(0.0002, 0.5), loss='binary_crossentropy', metrics=['accuracy'])\n",
        "\n",
        "discriminator.summary()\n"
      ]
    },
    {
      "cell_type": "code",
      "execution_count": 666,
      "metadata": {
        "colab": {
          "base_uri": "https://localhost:8080/"
        },
        "id": "z_ejq9wEkcpq",
        "outputId": "ea81b30c-0fa0-4305-d0f3-92c1676c4f05"
      },
      "outputs": [
        {
          "name": "stdout",
          "output_type": "stream",
          "text": [
            "tf.Tensor([[0.00231767]], shape=(1, 1), dtype=float32)\n"
          ]
        }
      ],
      "source": [
        "#@title Now let's try discriminate! (basic testing that the disc model works)\n",
        "\n",
        "discriminator = build_discriminator()\n",
        "decision = discriminator(x[:, :, :, :1])\n",
        "print(decision)"
      ]
    },
    {
      "cell_type": "code",
      "execution_count": 667,
      "metadata": {
        "id": "jNIHHVOfX6d1"
      },
      "outputs": [],
      "source": [
        "\n",
        "#@title Train Utilities (SamplePool, Model Export, Damage)\n",
        "from google.protobuf.json_format import MessageToDict\n",
        "from tensorflow.python.framework import convert_to_constants\n",
        "\n",
        "class SamplePool:\n",
        "  def __init__(self, *, _parent=None, _parent_idx=None, **slots):\n",
        "    self._parent = _parent\n",
        "    self._parent_idx = _parent_idx\n",
        "    self._slot_names = slots.keys()\n",
        "    self._size = None\n",
        "    for k, v in slots.items():\n",
        "      if self._size is None:\n",
        "        self._size = len(v)\n",
        "      assert self._size == len(v)\n",
        "      setattr(self, k, np.asarray(v))\n",
        "\n",
        "  def sample(self, n):\n",
        "    idx = np.random.choice(self._size, n, False)\n",
        "    batch = {k: getattr(self, k)[idx] for k in self._slot_names}\n",
        "    batch = SamplePool(**batch, _parent=self, _parent_idx=idx)\n",
        "    return batch\n",
        "\n",
        "  def commit(self):\n",
        "    for k in self._slot_names:\n",
        "      getattr(self._parent, k)[self._parent_idx] = getattr(self, k)\n",
        "\n",
        "@tf.function\n",
        "def make_circle_masks(n, h, w):\n",
        "  x = tf.linspace(-1.0, 1.0, w)[None, None, :]\n",
        "  y = tf.linspace(-1.0, 1.0, h)[None, :, None]\n",
        "  center = tf.random.uniform([2, n, 1, 1], -0.5, 0.5)\n",
        "  r = tf.random.uniform([n, 1, 1], 0.1, 0.4)\n",
        "  x, y = (x-center[0])/r, (y-center[1])/r\n",
        "  mask = tf.cast(x*x+y*y < 1.0, tf.float32)\n",
        "  return mask\n",
        "\n",
        "def export_model(ca, base_fn):\n",
        "  ca.save_weights(base_fn)\n",
        "\n",
        "  cf = ca.call.get_concrete_function(\n",
        "      x=tf.TensorSpec([None, None, None, CHANNEL_N]),\n",
        "      fire_rate=tf.constant(0.5),\n",
        "      angle=tf.constant(0.0),\n",
        "      step_size=tf.constant(1.0))\n",
        "  cf = convert_to_constants.convert_variables_to_constants_v2(cf)\n",
        "  graph_def = cf.graph.as_graph_def()\n",
        "  graph_json = MessageToDict(graph_def)\n",
        "  graph_json['versions'] = dict(producer='1.14', minConsumer='1.14')\n",
        "  model_json = {\n",
        "      'format': 'graph-model',\n",
        "      'modelTopology': graph_json,\n",
        "      'weightsManifest': [],\n",
        "  }\n",
        "  with open(base_fn+'.json', 'w') as f:\n",
        "    json.dump(model_json, f)\n",
        "\n",
        "def generate_pool_figures(pool, step_i):\n",
        "  tiled_pool = tile2d(to_rgb(pool.x[:49]))\n",
        "  fade = np.linspace(1.0, 0.0, 72)\n",
        "  ones = np.ones(72)\n",
        "  tiled_pool[:, :72] += (-tiled_pool[:, :72] + ones[None, :, None]) * fade[None, :, None]\n",
        "  tiled_pool[:, -72:] += (-tiled_pool[:, -72:] + ones[None, :, None]) * fade[None, ::-1, None]\n",
        "  tiled_pool[:72, :] += (-tiled_pool[:72, :] + ones[:, None, None]) * fade[:, None, None]\n",
        "  tiled_pool[-72:, :] += (-tiled_pool[-72:, :] + ones[:, None, None]) * fade[::-1, None, None]\n",
        "  imwrite('train_log/%04d_pool.jpg'%step_i, tiled_pool)\n",
        "\n",
        "def visualize_batch(x0, x, step_i):\n",
        "  vis0 = np.hstack(to_rgb(x0).numpy())\n",
        "  vis1 = np.hstack(to_rgb(x).numpy())\n",
        "  vis = np.vstack([vis0, vis1])\n",
        "  imwrite('train_log/batches_%04d.jpg'%step_i, vis)\n",
        "  print('batch (before/after):')\n",
        "  imshow(vis)\n",
        "\n",
        "def plot_loss(loss_log):\n",
        "  pl.figure(figsize=(10, 4))\n",
        "  pl.title('Loss history (log10)')\n",
        "  pl.plot(np.log10(loss_log), '.', alpha=0.1)\n",
        "  pl.show()\n",
        "\n",
        "def generate_and_save_images(model, epoch, test_input):\n",
        "    # Notice `training` is set to False.\n",
        "    # This is so all layers run in inference mode (batchnorm).\n",
        "\n",
        "    x = test_input\n",
        "\n",
        "    iter_n = tf.random.uniform([], iters_lower, iters_upper, tf.int32)\n",
        "\n",
        "    for i in tf.range(iter_n):\n",
        "        x = model(x)\n",
        "\n",
        "    predictions = x\n",
        "\n",
        "    print(\"Iters: \", iter_n)\n",
        "    plt.imshow(to_greyscale(predictions)[0, :, :, 0] * 127.5 + 127.5, cmap='gray')\n",
        "    plt.savefig('image_at_epoch_{:04d}.png'.format(epoch))\n",
        "    plt.show()\n",
        "\n",
        "    print(x.shape)\n",
        "\n",
        "    return to_greyscale(predictions)[0, :, :, 0]\n"
      ]
    },
    {
      "cell_type": "code",
      "execution_count": 668,
      "metadata": {
        "id": "11B0i5hQDihv"
      },
      "outputs": [
        {
          "name": "stdout",
          "output_type": "stream",
          "text": [
            "WARNING:tensorflow:5 out of the last 75 calls to <function build_generator.call at 0x3bb721120> triggered tf.function retracing. Tracing is expensive and the excessive number of tracings could be due to (1) creating @tf.function repeatedly in a loop, (2) passing tensors with different shapes, (3) passing Python objects instead of tensors. For (1), please define your @tf.function outside of the loop. For (2), @tf.function has reduce_retracing=True option that can avoid unnecessary retracing. For (3), please refer to https://www.tensorflow.org/guide/function#controlling_retracing and https://www.tensorflow.org/api_docs/python/tf/function for  more details.\n",
            "23462.18s - pydevd: Sending message related to process being replaced timed-out after 5 seconds\n",
            "zsh:1: no matches found: train_log/*\n"
          ]
        }
      ],
      "source": [
        "# @title Now let's generate an image, discriminate, and calculate all the losses!\n",
        "\n",
        "EPOCHS = 100\n",
        "num_examples_to_generate = BATCH_SIZE\n",
        "\n",
        "h = 28\n",
        "w = 28\n",
        "seed = make_seed(1, height = 1, width = 1)\n",
        "\n",
        "generator = build_generator()\n",
        "discriminator = build_discriminator()\n",
        "\n",
        "# generator.set_weights(ca.get_weights())\n",
        "\n",
        "# Learning rate and schedule\n",
        "lr_gen = 2e-3\n",
        "lr_disc = 2e-3\n",
        "\n",
        "lr_sched_gen = tf.keras.optimizers.schedules.PiecewiseConstantDecay(\n",
        "    [2000], [lr_gen, lr_gen * 0.1])\n",
        "lr_sched_disc = tf.keras.optimizers.schedules.PiecewiseConstantDecay(\n",
        "    [2000], [lr_disc, lr_disc * 0.1])\n",
        "\n",
        "# Optimizers\n",
        "generator_optimizer = tf.keras.optimizers.legacy.Adam(lr_sched_gen)\n",
        "discriminator_optimizer = tf.keras.optimizers.legacy.Adam(lr_sched_disc)\n",
        "\n",
        "g_loss_log = []\n",
        "d_loss_log = []\n",
        "\n",
        "# loss0 = generator_loss(seed).numpy()\n",
        "!mkdir -p train_log && rm -f train_log/*\n",
        "\n",
        "x = make_seed(1)"
      ]
    },
    {
      "cell_type": "code",
      "execution_count": 669,
      "metadata": {
        "colab": {
          "base_uri": "https://localhost:8080/",
          "height": 447
        },
        "id": "iTEEioLc2vjw",
        "outputId": "8b420f91-475d-42eb-bc2e-7d955f6b073e"
      },
      "outputs": [
        {
          "data": {
            "text/plain": [
              "<matplotlib.image.AxesImage at 0x2dea4a2d0>"
            ]
          },
          "execution_count": 669,
          "metadata": {},
          "output_type": "execute_result"
        },
        {
          "data": {
            "image/png": "[encoded data removed]",
            "text/plain": [
              "<Figure size 640x480 with 1 Axes>"
            ]
          },
          "metadata": {},
          "output_type": "display_data"
        }
      ],
      "source": [
        "rounded_target_image = tf.where(target_image > 0.5, 1.0, 0.0)\n",
        "\n",
        "plt.imshow(rounded_target_image[:, :, :] * 127.5 + 127.5, cmap='gray')"
      ]
    },
    {
      "cell_type": "markdown",
      "metadata": {},
      "source": [
        "Pretrain the generator"
      ]
    },
    {
      "cell_type": "code",
      "execution_count": 670,
      "metadata": {
        "id": "-SLEvu1O197a"
      },
      "outputs": [
        {
          "name": "stdout",
          "output_type": "stream",
          "text": [
            "23467.76s - pydevd: Sending message related to process being replaced timed-out after 5 seconds\n",
            "zsh:1: no matches found: train_log/*\n"
          ]
        }
      ],
      "source": [
        "#@title Reimplement the original training architechture to learn a single exact digit!\n",
        "\n",
        "#@title Initialize Training { vertical-output: true}\n",
        "\n",
        "h = 28\n",
        "w = 28\n",
        "seed = np.zeros([h, w, CHANNEL_N], np.float32)\n",
        "seed[h//2, w//2, 0:1] = 1.0\n",
        "\n",
        "def loss_f(x):\n",
        "  return tf.reduce_mean(tf.square(to_greyscale(x)-rounded_target_image), [-2, -3, -1])\n",
        "\n",
        "ca = build_generator()\n",
        "\n",
        "loss_log = []\n",
        "\n",
        "lr = 2e-4\n",
        "lr_sched = tf.keras.optimizers.schedules.PiecewiseConstantDecay(\n",
        "    [2000], [lr, lr*0.1])\n",
        "trainer = tf.keras.optimizers.legacy.Adam(lr_sched)\n",
        "\n",
        "loss0 = loss_f(seed).numpy()\n",
        "\n",
        "!mkdir -p train_log && rm -f train_log/*"
      ]
    },
    {
      "cell_type": "code",
      "execution_count": 671,
      "metadata": {
        "id": "5dD-dvg64PQM"
      },
      "outputs": [
        {
          "name": "stdout",
          "output_type": "stream",
          "text": [
            "Iters:  tf.Tensor(70, shape=(), dtype=int32)\n"
          ]
        },
        {
          "data": {
            "image/png": "[encoded data removed]",
            "text/plain": [
              "<Figure size 640x480 with 1 Axes>"
            ]
          },
          "metadata": {},
          "output_type": "display_data"
        },
        {
          "name": "stdout",
          "output_type": "stream",
          "text": [
            "(1, 28, 28, 16)\n",
            "Epoch 301, Loss: 0.0680\n"
          ]
        },
        {
          "data": {
            "image/png": "[encoded data removed]",
            "text/plain": [
              "<Figure size 1000x400 with 1 Axes>"
            ]
          },
          "metadata": {},
          "output_type": "display_data"
        },
        {
          "name": "stdout",
          "output_type": "stream",
          "text": [
            " step: 385, log10(loss): -1.284"
          ]
        }
      ],
      "source": [
        "#@title Original Training Loop {vertical-output: false}\n",
        "\n",
        "def plot_loss(loss_log):\n",
        "  pl.figure(figsize=(10, 4))\n",
        "  pl.title('Loss history (log10)')\n",
        "  pl.plot(np.log10(loss_log), '.', alpha=0.1)\n",
        "  pl.show()\n",
        "\n",
        "@tf.function\n",
        "def train_step(x):\n",
        "  iter_n = tf.random.uniform([], iters_lower, iters_upper, tf.int32)\n",
        "  with tf.GradientTape() as g:\n",
        "    for i in tf.range(iter_n):\n",
        "      x = ca(x)\n",
        "    loss = tf.reduce_mean(loss_f(x))\n",
        "    reg_losses = tf.add_n(ca.dmodel.losses)\n",
        "    total_loss = loss + reg_losses\n",
        "  grads = g.gradient(total_loss, ca.weights)\n",
        "  grads = [g/(tf.norm(g)+1e-8) for g in grads]\n",
        "  trainer.apply_gradients(zip(grads, ca.weights))\n",
        "  return x, loss\n",
        "\n",
        "if TRAIN_GENERATOR: \n",
        "  for i in range(1500+1):\n",
        "\n",
        "      x0 = np.repeat(seed[None, ...], 1, 0)\n",
        "\n",
        "      x, loss = train_step(x0)\n",
        "\n",
        "      step_i = len(loss_log)\n",
        "      loss_log.append(loss.numpy())\n",
        "\n",
        "      if step_i%100 == 0:\n",
        "          clear_output(wait=True)\n",
        "          if tf.reduce_all(generate_and_save_images(ca,\n",
        "                                  i + 1,\n",
        "                                  x0) == 0.0): \n",
        "              ca.reinitialize_weights() # restart training if the model collapses\n",
        "          # Print the losses\n",
        "          print(f\"Epoch {i + 1}, Loss: {loss:.4f}\")\n",
        "          plot_loss(loss_log)\n",
        "\n",
        "      print('\\r step: %d, log10(loss): %.3f'%(len(loss_log), np.log10(loss)), end='')"
      ]
    },
    {
      "cell_type": "code",
      "execution_count": null,
      "metadata": {},
      "outputs": [
        {
          "name": "stdout",
          "output_type": "stream",
          "text": [
            "-0.118448086 0.16533498\n"
          ]
        }
      ],
      "source": [
        "# Get the weights of the first layer\n",
        "weights = ca.dmodel.layers[0].weights[0].numpy()\n",
        "\n",
        "# Normalize the weights to range 0-1 for visualization\n",
        "weights_min = weights.min()\n",
        "weights_max = weights.max()\n",
        "\n",
        "print(weights_min, weights_max)"
      ]
    },
    {
      "cell_type": "code",
      "execution_count": null,
      "metadata": {
        "id": "MyEBOSv0I0v4"
      },
      "outputs": [],
      "source": [
        "if TRAIN_GENERATOR: \n",
        "  ca.save_weights(f\"ca_{TARGET_DIGIT}.h5\")"
      ]
    },
    {
      "cell_type": "code",
      "execution_count": null,
      "metadata": {},
      "outputs": [],
      "source": [
        "ca.load_weights(f\"ca_{TARGET_DIGIT}.h5\")"
      ]
    },
    {
      "cell_type": "code",
      "execution_count": null,
      "metadata": {
        "id": "zDJKtHmoI-jh"
      },
      "outputs": [],
      "source": [
        "checkpoint_dir = './training_checkpoints'\n",
        "checkpoint_prefix = os.path.join(checkpoint_dir, \"ckpt\")\n",
        "checkpoint = tf.train.Checkpoint(generator_optimizer=generator_optimizer,\n",
        "                                 discriminator_optimizer=discriminator_optimizer,\n",
        "                                 generator=generator,\n",
        "                                 discriminator=discriminator)"
      ]
    },
    {
      "cell_type": "code",
      "execution_count": null,
      "metadata": {
        "id": "GUFTMS5ru8bv"
      },
      "outputs": [],
      "source": [
        "def print_image_sample(images): \n",
        "    plt.figure(figsize=(10, 10))\n",
        "\n",
        "    for i in range(images.shape[0]):\n",
        "        plt.subplot(4, 4, i+1)\n",
        "        plt.imshow(images[i, :, :, 0] * 127.5 + 127.5, cmap='gray')\n",
        "        plt.axis('off')\n",
        "\n",
        "    plt.show()\n",
        "\n",
        "def noisify(images, noise_factor):\n",
        "\n",
        "    noise = noise_factor * np.random.normal(loc=0.0, scale=1.0, size=images.shape)\n",
        "    noisy_images = images + noise\n",
        "    # Clip the values to be between 0 and 1\n",
        "    noisy_images = tf.clip_by_value(noisy_images, clip_value_min=0.0, clip_value_max=1.0)\n",
        "    return noisy_images\n"
      ]
    },
    {
      "cell_type": "code",
      "execution_count": null,
      "metadata": {},
      "outputs": [],
      "source": [
        "def add_noise_to_weights(model, noise_level=0.01):\n",
        "    for layer in model.layers:\n",
        "        weights = layer.get_weights()\n",
        "        if weights:  # Check if the layer has weights\n",
        "            noisy_weights = [w + noise_level * np.random.randn(*w.shape) for w in weights]\n",
        "            layer.set_weights(noisy_weights)"
      ]
    },
    {
      "cell_type": "code",
      "execution_count": null,
      "metadata": {
        "id": "lY-eZQyRwUWN"
      },
      "outputs": [],
      "source": [
        "#@title New Training Loop {vertical-output: false}\n",
        "\n",
        "noise_factor = 0\n",
        "\n",
        "@tf.function\n",
        "def train_step(images, labels, update_gen=True, update_disc=False, gen_batch_size = 1):\n",
        "    iter_n = tf.random.uniform([], iters_lower, iters_upper, tf.int32)\n",
        "\n",
        "    x = make_seed(gen_batch_size, height=1, width=1)  \n",
        "\n",
        "    with tf.GradientTape() as gen_tape, tf.GradientTape() as disc_tape:\n",
        "        for i in tf.range(iter_n):\n",
        "            x = generator(x, training=True)  # Process the entire batch\n",
        "        real_output = discriminator(noisify(images, noise_factor), training=True)\n",
        "        fake_output = discriminator(noisify(to_greyscale(x)[:, :, :, 0], noise_factor), training=True)\n",
        "        disc_loss = discriminator_loss(real_output, labels,  fake_output)\n",
        "        gen_loss = generator_loss(fake_output)\n",
        "    # tf.print(\"Fake output:\", disc_loss)\n",
        "    # tf.print(\"Real output:\", gen_loss)\n",
        "\n",
        "\n",
        "    # Compute gradients and update\n",
        "    # TODO plot gradient norms\n",
        "    if update_gen:\n",
        "        gradients_of_generator = gen_tape.gradient(gen_loss, generator.trainable_variables)\n",
        "        gradients_of_generator = [g/(tf.norm(g)+1e-8) for g in gradients_of_generator]\n",
        "        generator_optimizer.apply_gradients(zip(gradients_of_generator, generator.trainable_variables))\n",
        "\n",
        "    # if disc_loss > gen_loss / 4 or disc_loss > gen_loss:\n",
        "    if update_disc:\n",
        "        gradients_of_discriminator = disc_tape.gradient(disc_loss, discriminator.trainable_variables)\n",
        "        discriminator_optimizer.apply_gradients(zip(gradients_of_discriminator, discriminator.trainable_variables))\n",
        "\n",
        "    return gen_loss, disc_loss\n",
        "\n",
        "# Function to plot the current losses\n",
        "def plot_losses(generator_losses, discriminator_losses, epoch):\n",
        "    fig, axs = plt.subplots(2, figsize=(10, 10))\n",
        "\n",
        "    axs[0].plot(generator_losses, label='Generator')\n",
        "    axs[0].set_title(f'Generator Loss During Training - Epoch {epoch}')\n",
        "    axs[0].set_xlabel('Epoch')\n",
        "    axs[0].set_ylabel('Loss')\n",
        "    axs[0].legend()\n",
        "\n",
        "    axs[1].plot(discriminator_losses, label='Discriminator')\n",
        "    axs[1].set_title(f'Discriminator Loss During Training - Epoch {epoch}')\n",
        "    axs[1].set_xlabel('Epoch')\n",
        "    axs[1].set_ylabel('Loss')\n",
        "    axs[1].legend()\n",
        "\n",
        "    plt.tight_layout()\n",
        "    plt.show()\n",
        "\n",
        "# Training Loop\n",
        "def train(dataset, epochs, gen_iters_per_disc_iter=1, add_noise_every=1, gen_batch_size=1):\n",
        "\n",
        "    # Initialise lists for storing losses\n",
        "    generator_losses = []\n",
        "    discriminator_losses = []\n",
        "    update_disc = tf.constant(False)\n",
        "    clear_output(wait=True)\n",
        "    generate_and_save_images(generator,\n",
        "                            0,\n",
        "                            seed)\n",
        "\n",
        "    print(\"Getting warmed up...\")\n",
        "\n",
        "    for epoch in range(epochs):\n",
        "        start = time.time()\n",
        "\n",
        "        # Initialise the loss accumulators for the epoch\n",
        "        epoch_gen_loss = 0.0\n",
        "        epoch_disc_loss = 0.0\n",
        "        batch_count = 0\n",
        "\n",
        "        # Determine the number of batches to sample (1/10th of the dataset)\n",
        "        total_batches = len(dataset)\n",
        "        sampled_batches = total_batches // 5\n",
        "\n",
        "        # Sample a subset of batches to iterate over\n",
        "        sampled_dataset = dataset.shuffle(BUFFER_SIZE).take(sampled_batches)\n",
        "        \n",
        "        for image_batch, label_batch in sampled_dataset:\n",
        "            # print_image_sample(image_batch[:16])\n",
        "            # print(label_batch)\n",
        "\n",
        "            if (epoch) % add_noise_every == 0: \n",
        "                add_noise_to_weights(generator, noise_level=0)\n",
        "            \n",
        "            if (epoch) % gen_iters_per_disc_iter == 0: \n",
        "                update_disc = tf.constant(True)\n",
        "            else: \n",
        "                update_disc = tf.constant(False)\n",
        "            gen_loss, disc_loss = train_step(image_batch, label_batch, update_disc=update_disc, gen_batch_size=gen_batch_size)\n",
        "            epoch_gen_loss += gen_loss\n",
        "            epoch_disc_loss += disc_loss\n",
        "            batch_count += 1\n",
        "\n",
        "\n",
        "        # Average the losses over all batches in the epoch\n",
        "        epoch_gen_loss /= batch_count\n",
        "        epoch_disc_loss /= batch_count\n",
        "\n",
        "        epoch_gen_loss = epoch_gen_loss\n",
        "        epoch_disc_loss = epoch_disc_loss\n",
        "\n",
        "        # Append the average losses to their respective lists\n",
        "        generator_losses.append(epoch_gen_loss)\n",
        "        discriminator_losses.append(epoch_disc_loss)\n",
        "\n",
        "        # Produce images for the GIF as you go\n",
        "        clear_output(wait=True)\n",
        "        generate_and_save_images(generator,\n",
        "                                epoch + 1,\n",
        "                                seed)\n",
        "        print(batch_count)\n",
        "        # Print the losses\n",
        "        print(f\"Epoch {epoch + 1}, Generator loss: {epoch_gen_loss:.4f}, Discriminator loss: {epoch_disc_loss:.4f}\")\n",
        "        print(f\"Time for epoch {epoch + 1} is {time.time() - start} sec\")\n",
        "        plot_losses(generator_losses, discriminator_losses, epoch + 1)\n",
        "\n",
        "\n",
        "        # Save the model every 15 epochs\n",
        "        if (epoch + 1) % 15 == 0:\n",
        "            checkpoint.save(file_prefix = checkpoint_prefix)\n",
        "\n",
        "    # Generate after the final epoch\n",
        "    clear_output(wait=True)\n",
        "    generate_and_save_images(generator,\n",
        "                            epochs,\n",
        "                            seed)\n",
        "    plot_losses(generator_losses, discriminator_losses, epoch + 1)\n",
        "\n",
        "    # x, g_loss, d_loss = train_step(real_data)\n",
        "    # Logging, visualisation, etc.\n",
        "\n",
        "    # step_i = len(loss_log)\n",
        "    # g_loss_log.append(g_loss.numpy())\n",
        "    # d_loss_log.append(d_loss.numpy())\n",
        "\n",
        "    # if step_i%10 == 0:\n",
        "    #     generate_pool_figures(pool, step_i)\n",
        "    # if step_i%100 == 0:\n",
        "    #     clear_output()\n",
        "    #     visualize_batch(x, x, step_i)\n",
        "    #     plot_loss(g_loss_log)\n",
        "    #     plot_loss(d_loss_log)\n",
        "    #     export_model(ca, 'train_log/%04d'%step_i)"
      ]
    },
    {
      "cell_type": "code",
      "execution_count": null,
      "metadata": {},
      "outputs": [],
      "source": [
        "#@title Wasserstein loss\n",
        "# calculate wasserstein loss\n",
        "def wasserstein_loss(y_true, y_pred):\n",
        "    y_true = tf.where(y_true == 1., tf.constant(-1., dtype=tf.float32), tf.constant(1., dtype=tf.float32))\n",
        "    return tf.keras.backend.mean(y_true * y_pred)\n",
        "\n",
        "# def build_critic(input_shape=(28, 28, 1)):\n",
        "# \t# weight initialization\n",
        "# \tinit = RandomNormal(stddev=0.02)\n",
        "# \t# weight constraint\n",
        "# \tconst = ClipConstraint(0.01)\n",
        "# \t# define model\n",
        "# \tmodel = tf.keras.Sequential()\n",
        "# \t# downsample to 14x14\n",
        "# \tmodel.add(Conv2D(64, (4,4), strides=(2,2), padding='same', kernel_initializer=init, kernel_constraint=const, input_shape=input_shape))\n",
        "# \tmodel.add(BatchNormalization()) #kernel_constraint=const\n",
        "# \tmodel.add(LeakyReLU(alpha=0.2))\n",
        "# \t# downsample to 7x7\n",
        "# \tmodel.add(Conv2D(64, (4,4), strides=(2,2), padding='same', kernel_initializer=init, kernel_constraint=const))\n",
        "# \tmodel.add(BatchNormalization()) #kernel_constraint=const\n",
        "# \tmodel.add(LeakyReLU(alpha=0.2))\n",
        "# \t# scoring, linear activation\n",
        "# \tmodel.add(Flatten())\n",
        "# \tmodel.add(Dense(1)) #kernel_constraint=const\n",
        "# \t# compile model\n",
        "# \topt = RMSprop(lr=0.00005)\n",
        "# \tmodel.compile(loss=wasserstein_loss, optimizer=opt)\n",
        "# \treturn model\n",
        "\n",
        "# critic = build_critic()\n",
        "# critic.compile(optimizer=tf.keras.optimizers.legacy.Adam(0.0002, 0.5), loss='binary_crossentropy', metrics=['accuracy'])\n",
        "\n",
        "# critic.summary()\n",
        "    \n",
        "\n"
      ]
    },
    {
      "cell_type": "code",
      "execution_count": null,
      "metadata": {},
      "outputs": [],
      "source": [
        "# This method returns a helper function to compute cross entropy loss\n",
        "cross_entropy = tf.keras.losses.BinaryCrossentropy(from_logits=True)\n",
        "\n",
        "def generator_loss(fake_output):\n",
        "    # return -tf.reduce_mean(fake_output) # WGAN\n",
        "    return cross_entropy(tf.ones_like(fake_output), fake_output) # Normal cross entropy\n",
        "\n",
        "def discriminator_loss(real_output, real_labels, fake_output):\n",
        "\n",
        "    # return tf.reduce_mean(fake_output) - tf.reduce_mean(real_output)\n",
        "\n",
        "    # real_targets = tf.where(real_labels == TARGET_DIGIT, tf.ones_like(real_labels), tf.zeros_like(real_labels))\n",
        "    # real_loss = cross_entropy(real_targets, real_output)\n",
        "    # return real_loss\n",
        "\n",
        "    if WGAN:\n",
        "        real_targets = tf.where(real_labels == 1., tf.ones_like(real_labels), tf.zeros_like(real_labels))\n",
        "        \n",
        "        real_loss = wasserstein_loss(real_targets, real_output)\n",
        "        # return real_loss\n",
        "        fake_loss = wasserstein_loss(tf.zeros_like(fake_output), fake_output)\n",
        "\n",
        "        total_loss = fake_loss * 0 + real_loss # TOCHECK do we want to scale the fake loss by the batch size?\n",
        "        return total_loss\n",
        "    else: \n",
        "        real_targets = tf.where(real_labels == 1., tf.ones_like(real_labels), tf.zeros_like(real_labels))\n",
        "        \n",
        "        real_loss = cross_entropy(real_targets, real_output)\n",
        "        # return real_loss\n",
        "        fake_loss = cross_entropy(tf.zeros_like(fake_output), fake_output)\n",
        "\n",
        "        total_loss = fake_loss * 0 + real_loss # TOCHECK do we want to scale the fake loss by the batch size?\n",
        "        return total_loss\n",
        "\n",
        "\n",
        "if TRAIN_DISCRIMINATOR:\n",
        "    EPOCHS = 1000\n",
        "    num_examples_to_generate = BATCH_SIZE\n",
        "\n",
        "\n",
        "    h = 28\n",
        "    w = 28\n",
        "    seed = make_seed(1, height = 1, width = 1)\n",
        "\n",
        "    generator = build_generator()\n",
        "    discriminator = build_discriminator()\n",
        "\n",
        "    generator.set_weights(ca.get_weights())\n",
        "\n",
        "    g_loss_log = []\n",
        "    d_loss_log = []\n",
        "\n",
        "    loss0 = generator_loss(seed).numpy()\n",
        "    !mkdir -p train_log && rm -f train_log/*\n",
        "\n",
        "    noise_factor = 0\n",
        "    lr_gen = 2e-50\n",
        "    lr_disc = 1e-4\n",
        "\n",
        "    lr_sched_gen = tf.keras.optimizers.schedules.PiecewiseConstantDecay(\n",
        "        [2000], [lr_gen, lr_gen * 0.1])\n",
        "    lr_sched_disc = tf.keras.optimizers.schedules.PiecewiseConstantDecay(\n",
        "        [2000], [lr_disc, lr_disc * 0.1])\n",
        "\n",
        "    # Optimizers\n",
        "    generator_optimizer = tf.keras.optimizers.legacy.Adam(lr_sched_gen)\n",
        "    discriminator_optimizer = tf.keras.optimizers.legacy.Adam(lr_sched_disc)\n",
        "\n",
        "    train(x_train, EPOCHS)"
      ]
    },
    {
      "cell_type": "code",
      "execution_count": null,
      "metadata": {},
      "outputs": [],
      "source": [
        "if TRAIN_DISCRIMINATOR:\n",
        "  discriminator.save_weights(f\"disc_{TARGET_DIGIT}.h5\")"
      ]
    },
    {
      "cell_type": "code",
      "execution_count": null,
      "metadata": {},
      "outputs": [],
      "source": [
        "discriminator.load_weights(f\"disc_{TARGET_DIGIT}.h5\")"
      ]
    },
    {
      "cell_type": "markdown",
      "metadata": {},
      "source": [
        "WGAN critic"
      ]
    },
    {
      "cell_type": "code",
      "execution_count": null,
      "metadata": {},
      "outputs": [],
      "source": [
        "#@title Initialize Training\n",
        "\n",
        "def generator_loss(fake_output):\n",
        "    # return -tf.reduce_mean(fake_output) # WGAN\n",
        "    if WGAN: \n",
        "        wgan_loss = wasserstein_loss(tf.ones_like(fake_output), fake_output)\n",
        "        l2_loss = tf.add_n(ca.dmodel.losses)\n",
        "        return wgan_loss + l2_loss\n",
        "    else: \n",
        "        cross_entropy_loss = cross_entropy(tf.ones_like(fake_output), fake_output) # Normal cross entropy\n",
        "        l2_loss = tf.add_n(ca.dmodel.losses)\n",
        "        return cross_entropy_loss + l2_loss\n",
        "\n",
        "def discriminator_loss(real_output, real_labels, fake_output):\n",
        "\n",
        "    if WGAN:\n",
        "        real_targets = tf.where(real_labels == 1., tf.ones_like(real_labels), tf.zeros_like(real_labels))\n",
        "        \n",
        "        real_loss = wasserstein_loss(real_targets, real_output)\n",
        "        # return real_loss\n",
        "        fake_loss = wasserstein_loss(tf.zeros_like(fake_output), fake_output)\n",
        "\n",
        "        total_loss = fake_loss * BATCH_SIZE + real_loss # TOCHECK do we want to scale the fake loss by the batch size?\n",
        "        return total_loss\n",
        "    else: \n",
        "        real_targets = tf.where(real_labels == 1., tf.ones_like(real_labels), tf.zeros_like(real_labels))\n",
        "        \n",
        "        real_loss = cross_entropy(real_targets, real_output)\n",
        "        # return real_loss\n",
        "        fake_loss = cross_entropy(tf.zeros_like(fake_output), fake_output)\n",
        "\n",
        "        total_loss = fake_loss + real_loss # TOCHECK do we want to scale the fake loss by the batch size?\n",
        "        return total_loss"
      ]
    },
    {
      "cell_type": "code",
      "execution_count": null,
      "metadata": {
        "colab": {
          "base_uri": "https://localhost:8080/",
          "height": 1000
        },
        "id": "yMEQk_caJCR8",
        "outputId": "f68e382e-364b-467b-c00b-6a741130fe13"
      },
      "outputs": [
        {
          "name": "stdout",
          "output_type": "stream",
          "text": [
            "22927.93s - pydevd: Sending message related to process being replaced timed-out after 5 seconds\n",
            "zsh:1: no matches found: train_log/*\n"
          ]
        }
      ],
      "source": [
        "EPOCHS = 1000\n",
        "\n",
        "\n",
        "h = 28\n",
        "w = 28\n",
        "seed = make_seed(1, height = 1, width = 1)\n",
        "\n",
        "generator = build_generator(l2_reg = 0)\n",
        "discriminator = build_discriminator()\n",
        "\n",
        "generator.set_weights(ca.get_weights())\n",
        "discriminator.load_weights(f\"disc_{TARGET_DIGIT}.h5\")\n",
        "\n",
        "g_loss_log = []\n",
        "d_loss_log = []\n",
        "\n",
        "loss0 = generator_loss(seed).numpy()\n",
        "!mkdir -p train_log && rm -f train_log/*\n",
        "\n",
        "\n",
        "\n",
        "# TODO consider weights and biases, tensorboard"
      ]
    },
    {
      "cell_type": "code",
      "execution_count": null,
      "metadata": {},
      "outputs": [
        {
          "data": {
            "text/plain": [
              "'\\npretrain on multiple images \\nregularised to keep weights small \\nWGAN with regularisation\\nPlot on different axes\\nproper evaluation\\nexplore adversarial part \\n'"
            ]
          },
          "execution_count": 626,
          "metadata": {},
          "output_type": "execute_result"
        }
      ],
      "source": [
        "noise_factor = 0\n",
        "lr_gen = 2e-5\n",
        "lr_disc = 2e-4\n",
        "\n",
        "lr_sched_gen = tf.keras.optimizers.schedules.PiecewiseConstantDecay(\n",
        "    [2000], [lr_gen, lr_gen * 0.1])\n",
        "lr_sched_disc = tf.keras.optimizers.schedules.PiecewiseConstantDecay(\n",
        "    [2000], [lr_disc, lr_disc * 0.1])\n",
        "\n",
        "# Optimizers\n",
        "generator_optimizer = tf.keras.optimizers.legacy.Adam(lr_sched_gen)\n",
        "discriminator_optimizer = tf.keras.optimizers.legacy.Adam(lr_sched_disc)\n",
        "\n",
        "\"\"\"\n",
        "pretrain on multiple images \n",
        "regularised to keep weights small \n",
        "WGAN with regularisation\n",
        "Plot on different axes\n",
        "proper evaluation\n",
        "explore adversarial part \n",
        "\"\"\"\n"
      ]
    },
    {
      "cell_type": "code",
      "execution_count": null,
      "metadata": {},
      "outputs": [
        {
          "name": "stdout",
          "output_type": "stream",
          "text": [
            "Iters:  tf.Tensor(70, shape=(), dtype=int32)\n"
          ]
        },
        {
          "ename": "KeyboardInterrupt",
          "evalue": "",
          "output_type": "error",
          "traceback": [
            "\u001b[0;31m---------------------------------------------------------------------------\u001b[0m",
            "\u001b[0;31mKeyboardInterrupt\u001b[0m                         Traceback (most recent call last)",
            "Cell \u001b[0;32mIn[627], line 1\u001b[0m\n\u001b[0;32m----> 1\u001b[0m \u001b[43mtrain\u001b[49m\u001b[43m(\u001b[49m\u001b[43mx_train\u001b[49m\u001b[43m,\u001b[49m\u001b[43m \u001b[49m\u001b[43mEPOCHS\u001b[49m\u001b[43m,\u001b[49m\u001b[43m \u001b[49m\u001b[43mgen_iters_per_disc_iter\u001b[49m\u001b[38;5;241;43m=\u001b[39;49m\u001b[38;5;241;43m10\u001b[39;49m\u001b[43m,\u001b[49m\u001b[43m \u001b[49m\u001b[43madd_noise_every\u001b[49m\u001b[38;5;241;43m=\u001b[39;49m\u001b[38;5;241;43m1\u001b[39;49m\u001b[43m,\u001b[49m\u001b[43m \u001b[49m\u001b[43mgen_batch_size\u001b[49m\u001b[38;5;241;43m=\u001b[39;49m\u001b[38;5;241;43m1\u001b[39;49m\u001b[43m)\u001b[49m\n",
            "Cell \u001b[0;32mIn[619], line 114\u001b[0m, in \u001b[0;36mtrain\u001b[0;34m(dataset, epochs, gen_iters_per_disc_iter, add_noise_every, gen_batch_size)\u001b[0m\n\u001b[1;32m    112\u001b[0m \u001b[38;5;66;03m# Produce images for the GIF as you go\u001b[39;00m\n\u001b[1;32m    113\u001b[0m clear_output(wait\u001b[38;5;241m=\u001b[39m\u001b[38;5;28;01mTrue\u001b[39;00m)\n\u001b[0;32m--> 114\u001b[0m \u001b[43mgenerate_and_save_images\u001b[49m\u001b[43m(\u001b[49m\u001b[43mgenerator\u001b[49m\u001b[43m,\u001b[49m\n\u001b[1;32m    115\u001b[0m \u001b[43m                        \u001b[49m\u001b[43mepoch\u001b[49m\u001b[43m \u001b[49m\u001b[38;5;241;43m+\u001b[39;49m\u001b[43m \u001b[49m\u001b[38;5;241;43m1\u001b[39;49m\u001b[43m,\u001b[49m\n\u001b[1;32m    116\u001b[0m \u001b[43m                        \u001b[49m\u001b[43mseed\u001b[49m\u001b[43m)\u001b[49m\n\u001b[1;32m    117\u001b[0m \u001b[38;5;28mprint\u001b[39m(batch_count)\n\u001b[1;32m    118\u001b[0m \u001b[38;5;66;03m# Print the losses\u001b[39;00m\n",
            "Cell \u001b[0;32mIn[608], line 95\u001b[0m, in \u001b[0;36mgenerate_and_save_images\u001b[0;34m(model, epoch, test_input)\u001b[0m\n\u001b[1;32m     92\u001b[0m predictions \u001b[38;5;241m=\u001b[39m x\n\u001b[1;32m     94\u001b[0m \u001b[38;5;28mprint\u001b[39m(\u001b[38;5;124m\"\u001b[39m\u001b[38;5;124mIters: \u001b[39m\u001b[38;5;124m\"\u001b[39m, iter_n)\n\u001b[0;32m---> 95\u001b[0m \u001b[43mplt\u001b[49m\u001b[38;5;241;43m.\u001b[39;49m\u001b[43mimshow\u001b[49m\u001b[43m(\u001b[49m\u001b[43mto_greyscale\u001b[49m\u001b[43m(\u001b[49m\u001b[43mpredictions\u001b[49m\u001b[43m)\u001b[49m\u001b[43m[\u001b[49m\u001b[38;5;241;43m0\u001b[39;49m\u001b[43m,\u001b[49m\u001b[43m \u001b[49m\u001b[43m:\u001b[49m\u001b[43m,\u001b[49m\u001b[43m \u001b[49m\u001b[43m:\u001b[49m\u001b[43m,\u001b[49m\u001b[43m \u001b[49m\u001b[38;5;241;43m0\u001b[39;49m\u001b[43m]\u001b[49m\u001b[43m \u001b[49m\u001b[38;5;241;43m*\u001b[39;49m\u001b[43m \u001b[49m\u001b[38;5;241;43m127.5\u001b[39;49m\u001b[43m \u001b[49m\u001b[38;5;241;43m+\u001b[39;49m\u001b[43m \u001b[49m\u001b[38;5;241;43m127.5\u001b[39;49m\u001b[43m,\u001b[49m\u001b[43m \u001b[49m\u001b[43mcmap\u001b[49m\u001b[38;5;241;43m=\u001b[39;49m\u001b[38;5;124;43m'\u001b[39;49m\u001b[38;5;124;43mgray\u001b[39;49m\u001b[38;5;124;43m'\u001b[39;49m\u001b[43m)\u001b[49m\n\u001b[1;32m     96\u001b[0m plt\u001b[38;5;241m.\u001b[39msavefig(\u001b[38;5;124m'\u001b[39m\u001b[38;5;124mimage_at_epoch_\u001b[39m\u001b[38;5;132;01m{:04d}\u001b[39;00m\u001b[38;5;124m.png\u001b[39m\u001b[38;5;124m'\u001b[39m\u001b[38;5;241m.\u001b[39mformat(epoch))\n\u001b[1;32m     97\u001b[0m plt\u001b[38;5;241m.\u001b[39mshow()\n",
            "File \u001b[0;32m~/ML/lib/python3.11/site-packages/matplotlib/pyplot.py:3343\u001b[0m, in \u001b[0;36mimshow\u001b[0;34m(X, cmap, norm, aspect, interpolation, alpha, vmin, vmax, origin, extent, interpolation_stage, filternorm, filterrad, resample, url, data, **kwargs)\u001b[0m\n\u001b[1;32m   3322\u001b[0m \u001b[38;5;129m@_copy_docstring_and_deprecators\u001b[39m(Axes\u001b[38;5;241m.\u001b[39mimshow)\n\u001b[1;32m   3323\u001b[0m \u001b[38;5;28;01mdef\u001b[39;00m \u001b[38;5;21mimshow\u001b[39m(\n\u001b[1;32m   3324\u001b[0m     X: ArrayLike \u001b[38;5;241m|\u001b[39m PIL\u001b[38;5;241m.\u001b[39mImage\u001b[38;5;241m.\u001b[39mImage,\n\u001b[0;32m   (...)\u001b[0m\n\u001b[1;32m   3341\u001b[0m     \u001b[38;5;241m*\u001b[39m\u001b[38;5;241m*\u001b[39mkwargs,\n\u001b[1;32m   3342\u001b[0m ) \u001b[38;5;241m-\u001b[39m\u001b[38;5;241m>\u001b[39m AxesImage:\n\u001b[0;32m-> 3343\u001b[0m     __ret \u001b[38;5;241m=\u001b[39m \u001b[43mgca\u001b[49m\u001b[43m(\u001b[49m\u001b[43m)\u001b[49m\u001b[38;5;241m.\u001b[39mimshow(\n\u001b[1;32m   3344\u001b[0m         X,\n\u001b[1;32m   3345\u001b[0m         cmap\u001b[38;5;241m=\u001b[39mcmap,\n\u001b[1;32m   3346\u001b[0m         norm\u001b[38;5;241m=\u001b[39mnorm,\n\u001b[1;32m   3347\u001b[0m         aspect\u001b[38;5;241m=\u001b[39maspect,\n\u001b[1;32m   3348\u001b[0m         interpolation\u001b[38;5;241m=\u001b[39minterpolation,\n\u001b[1;32m   3349\u001b[0m         alpha\u001b[38;5;241m=\u001b[39malpha,\n\u001b[1;32m   3350\u001b[0m         vmin\u001b[38;5;241m=\u001b[39mvmin,\n\u001b[1;32m   3351\u001b[0m         vmax\u001b[38;5;241m=\u001b[39mvmax,\n\u001b[1;32m   3352\u001b[0m         origin\u001b[38;5;241m=\u001b[39morigin,\n\u001b[1;32m   3353\u001b[0m         extent\u001b[38;5;241m=\u001b[39mextent,\n\u001b[1;32m   3354\u001b[0m         interpolation_stage\u001b[38;5;241m=\u001b[39minterpolation_stage,\n\u001b[1;32m   3355\u001b[0m         filternorm\u001b[38;5;241m=\u001b[39mfilternorm,\n\u001b[1;32m   3356\u001b[0m         filterrad\u001b[38;5;241m=\u001b[39mfilterrad,\n\u001b[1;32m   3357\u001b[0m         resample\u001b[38;5;241m=\u001b[39mresample,\n\u001b[1;32m   3358\u001b[0m         url\u001b[38;5;241m=\u001b[39murl,\n\u001b[1;32m   3359\u001b[0m         \u001b[38;5;241m*\u001b[39m\u001b[38;5;241m*\u001b[39m({\u001b[38;5;124m\"\u001b[39m\u001b[38;5;124mdata\u001b[39m\u001b[38;5;124m\"\u001b[39m: data} \u001b[38;5;28;01mif\u001b[39;00m data \u001b[38;5;129;01mis\u001b[39;00m \u001b[38;5;129;01mnot\u001b[39;00m \u001b[38;5;28;01mNone\u001b[39;00m \u001b[38;5;28;01melse\u001b[39;00m {}),\n\u001b[1;32m   3360\u001b[0m         \u001b[38;5;241m*\u001b[39m\u001b[38;5;241m*\u001b[39mkwargs,\n\u001b[1;32m   3361\u001b[0m     )\n\u001b[1;32m   3362\u001b[0m     sci(__ret)\n\u001b[1;32m   3363\u001b[0m     \u001b[38;5;28;01mreturn\u001b[39;00m __ret\n",
            "File \u001b[0;32m~/ML/lib/python3.11/site-packages/matplotlib/pyplot.py:2525\u001b[0m, in \u001b[0;36mgca\u001b[0;34m()\u001b[0m\n\u001b[1;32m   2523\u001b[0m \u001b[38;5;129m@_copy_docstring_and_deprecators\u001b[39m(Figure\u001b[38;5;241m.\u001b[39mgca)\n\u001b[1;32m   2524\u001b[0m \u001b[38;5;28;01mdef\u001b[39;00m \u001b[38;5;21mgca\u001b[39m() \u001b[38;5;241m-\u001b[39m\u001b[38;5;241m>\u001b[39m Axes:\n\u001b[0;32m-> 2525\u001b[0m     \u001b[38;5;28;01mreturn\u001b[39;00m \u001b[43mgcf\u001b[49m\u001b[43m(\u001b[49m\u001b[43m)\u001b[49m\u001b[38;5;241m.\u001b[39mgca()\n",
            "File \u001b[0;32m~/ML/lib/python3.11/site-packages/matplotlib/pyplot.py:1000\u001b[0m, in \u001b[0;36mgcf\u001b[0;34m()\u001b[0m\n\u001b[1;32m    998\u001b[0m     \u001b[38;5;28;01mreturn\u001b[39;00m manager\u001b[38;5;241m.\u001b[39mcanvas\u001b[38;5;241m.\u001b[39mfigure\n\u001b[1;32m    999\u001b[0m \u001b[38;5;28;01melse\u001b[39;00m:\n\u001b[0;32m-> 1000\u001b[0m     \u001b[38;5;28;01mreturn\u001b[39;00m \u001b[43mfigure\u001b[49m\u001b[43m(\u001b[49m\u001b[43m)\u001b[49m\n",
            "File \u001b[0;32m~/ML/lib/python3.11/site-packages/matplotlib/pyplot.py:934\u001b[0m, in \u001b[0;36mfigure\u001b[0;34m(num, figsize, dpi, facecolor, edgecolor, frameon, FigureClass, clear, **kwargs)\u001b[0m\n\u001b[1;32m    924\u001b[0m \u001b[38;5;28;01mif\u001b[39;00m \u001b[38;5;28mlen\u001b[39m(allnums) \u001b[38;5;241m==\u001b[39m max_open_warning \u001b[38;5;241m>\u001b[39m\u001b[38;5;241m=\u001b[39m \u001b[38;5;241m1\u001b[39m:\n\u001b[1;32m    925\u001b[0m     _api\u001b[38;5;241m.\u001b[39mwarn_external(\n\u001b[1;32m    926\u001b[0m         \u001b[38;5;124mf\u001b[39m\u001b[38;5;124m\"\u001b[39m\u001b[38;5;124mMore than \u001b[39m\u001b[38;5;132;01m{\u001b[39;00mmax_open_warning\u001b[38;5;132;01m}\u001b[39;00m\u001b[38;5;124m figures have been opened. \u001b[39m\u001b[38;5;124m\"\u001b[39m\n\u001b[1;32m    927\u001b[0m         \u001b[38;5;124mf\u001b[39m\u001b[38;5;124m\"\u001b[39m\u001b[38;5;124mFigures created through the pyplot interface \u001b[39m\u001b[38;5;124m\"\u001b[39m\n\u001b[0;32m   (...)\u001b[0m\n\u001b[1;32m    931\u001b[0m         \u001b[38;5;124mf\u001b[39m\u001b[38;5;124m\"\u001b[39m\u001b[38;5;124mConsider using `matplotlib.pyplot.close()`.\u001b[39m\u001b[38;5;124m\"\u001b[39m,\n\u001b[1;32m    932\u001b[0m         \u001b[38;5;167;01mRuntimeWarning\u001b[39;00m)\n\u001b[0;32m--> 934\u001b[0m manager \u001b[38;5;241m=\u001b[39m \u001b[43mnew_figure_manager\u001b[49m\u001b[43m(\u001b[49m\n\u001b[1;32m    935\u001b[0m \u001b[43m    \u001b[49m\u001b[43mnum\u001b[49m\u001b[43m,\u001b[49m\u001b[43m \u001b[49m\u001b[43mfigsize\u001b[49m\u001b[38;5;241;43m=\u001b[39;49m\u001b[43mfigsize\u001b[49m\u001b[43m,\u001b[49m\u001b[43m \u001b[49m\u001b[43mdpi\u001b[49m\u001b[38;5;241;43m=\u001b[39;49m\u001b[43mdpi\u001b[49m\u001b[43m,\u001b[49m\n\u001b[1;32m    936\u001b[0m \u001b[43m    \u001b[49m\u001b[43mfacecolor\u001b[49m\u001b[38;5;241;43m=\u001b[39;49m\u001b[43mfacecolor\u001b[49m\u001b[43m,\u001b[49m\u001b[43m \u001b[49m\u001b[43medgecolor\u001b[49m\u001b[38;5;241;43m=\u001b[39;49m\u001b[43medgecolor\u001b[49m\u001b[43m,\u001b[49m\u001b[43m \u001b[49m\u001b[43mframeon\u001b[49m\u001b[38;5;241;43m=\u001b[39;49m\u001b[43mframeon\u001b[49m\u001b[43m,\u001b[49m\n\u001b[1;32m    937\u001b[0m \u001b[43m    \u001b[49m\u001b[43mFigureClass\u001b[49m\u001b[38;5;241;43m=\u001b[39;49m\u001b[43mFigureClass\u001b[49m\u001b[43m,\u001b[49m\u001b[43m \u001b[49m\u001b[38;5;241;43m*\u001b[39;49m\u001b[38;5;241;43m*\u001b[39;49m\u001b[43mkwargs\u001b[49m\u001b[43m)\u001b[49m\n\u001b[1;32m    938\u001b[0m fig \u001b[38;5;241m=\u001b[39m manager\u001b[38;5;241m.\u001b[39mcanvas\u001b[38;5;241m.\u001b[39mfigure\n\u001b[1;32m    939\u001b[0m \u001b[38;5;28;01mif\u001b[39;00m fig_label:\n",
            "File \u001b[0;32m~/ML/lib/python3.11/site-packages/matplotlib/pyplot.py:465\u001b[0m, in \u001b[0;36mnew_figure_manager\u001b[0;34m(*args, **kwargs)\u001b[0m\n\u001b[1;32m    463\u001b[0m \u001b[38;5;250m\u001b[39m\u001b[38;5;124;03m\"\"\"Create a new figure manager instance.\"\"\"\u001b[39;00m\n\u001b[1;32m    464\u001b[0m _warn_if_gui_out_of_main_thread()\n\u001b[0;32m--> 465\u001b[0m \u001b[38;5;28;01mreturn\u001b[39;00m \u001b[43m_get_backend_mod\u001b[49m\u001b[43m(\u001b[49m\u001b[43m)\u001b[49m\u001b[38;5;241;43m.\u001b[39;49m\u001b[43mnew_figure_manager\u001b[49m\u001b[43m(\u001b[49m\u001b[38;5;241;43m*\u001b[39;49m\u001b[43margs\u001b[49m\u001b[43m,\u001b[49m\u001b[43m \u001b[49m\u001b[38;5;241;43m*\u001b[39;49m\u001b[38;5;241;43m*\u001b[39;49m\u001b[43mkwargs\u001b[49m\u001b[43m)\u001b[49m\n",
            "File \u001b[0;32m~/ML/lib/python3.11/site-packages/matplotlib_inline/backend_inline.py:27\u001b[0m, in \u001b[0;36mnew_figure_manager\u001b[0;34m(num, FigureClass, *args, **kwargs)\u001b[0m\n\u001b[1;32m     21\u001b[0m \u001b[38;5;28;01mdef\u001b[39;00m \u001b[38;5;21mnew_figure_manager\u001b[39m(num, \u001b[38;5;241m*\u001b[39margs, FigureClass\u001b[38;5;241m=\u001b[39mFigure, \u001b[38;5;241m*\u001b[39m\u001b[38;5;241m*\u001b[39mkwargs):\n\u001b[1;32m     22\u001b[0m \u001b[38;5;250m    \u001b[39m\u001b[38;5;124;03m\"\"\"\u001b[39;00m\n\u001b[1;32m     23\u001b[0m \u001b[38;5;124;03m    Return a new figure manager for a new figure instance.\u001b[39;00m\n\u001b[1;32m     24\u001b[0m \n\u001b[1;32m     25\u001b[0m \u001b[38;5;124;03m    This function is part of the API expected by Matplotlib backends.\u001b[39;00m\n\u001b[1;32m     26\u001b[0m \u001b[38;5;124;03m    \"\"\"\u001b[39;00m\n\u001b[0;32m---> 27\u001b[0m     \u001b[38;5;28;01mreturn\u001b[39;00m new_figure_manager_given_figure(num, \u001b[43mFigureClass\u001b[49m\u001b[43m(\u001b[49m\u001b[38;5;241;43m*\u001b[39;49m\u001b[43margs\u001b[49m\u001b[43m,\u001b[49m\u001b[43m \u001b[49m\u001b[38;5;241;43m*\u001b[39;49m\u001b[38;5;241;43m*\u001b[39;49m\u001b[43mkwargs\u001b[49m\u001b[43m)\u001b[49m)\n",
            "File \u001b[0;32m~/ML/lib/python3.11/site-packages/matplotlib/figure.py:2494\u001b[0m, in \u001b[0;36mFigure.__init__\u001b[0;34m(self, figsize, dpi, facecolor, edgecolor, linewidth, frameon, subplotpars, tight_layout, constrained_layout, layout, **kwargs)\u001b[0m\n\u001b[1;32m   2398\u001b[0m \u001b[38;5;28;01mdef\u001b[39;00m \u001b[38;5;21m__init__\u001b[39m(\u001b[38;5;28mself\u001b[39m,\n\u001b[1;32m   2399\u001b[0m              figsize\u001b[38;5;241m=\u001b[39m\u001b[38;5;28;01mNone\u001b[39;00m,\n\u001b[1;32m   2400\u001b[0m              dpi\u001b[38;5;241m=\u001b[39m\u001b[38;5;28;01mNone\u001b[39;00m,\n\u001b[0;32m   (...)\u001b[0m\n\u001b[1;32m   2410\u001b[0m              \u001b[38;5;241m*\u001b[39m\u001b[38;5;241m*\u001b[39mkwargs\n\u001b[1;32m   2411\u001b[0m              ):\n\u001b[1;32m   2412\u001b[0m \u001b[38;5;250m    \u001b[39m\u001b[38;5;124;03m\"\"\"\u001b[39;00m\n\u001b[1;32m   2413\u001b[0m \u001b[38;5;124;03m    Parameters\u001b[39;00m\n\u001b[1;32m   2414\u001b[0m \u001b[38;5;124;03m    ----------\u001b[39;00m\n\u001b[0;32m   (...)\u001b[0m\n\u001b[1;32m   2492\u001b[0m \u001b[38;5;124;03m        %(Figure:kwdoc)s\u001b[39;00m\n\u001b[1;32m   2493\u001b[0m \u001b[38;5;124;03m    \"\"\"\u001b[39;00m\n\u001b[0;32m-> 2494\u001b[0m     \u001b[38;5;28;43msuper\u001b[39;49m\u001b[43m(\u001b[49m\u001b[43m)\u001b[49m\u001b[38;5;241;43m.\u001b[39;49m\u001b[38;5;21;43m__init__\u001b[39;49m\u001b[43m(\u001b[49m\u001b[38;5;241;43m*\u001b[39;49m\u001b[38;5;241;43m*\u001b[39;49m\u001b[43mkwargs\u001b[49m\u001b[43m)\u001b[49m\n\u001b[1;32m   2495\u001b[0m     \u001b[38;5;28mself\u001b[39m\u001b[38;5;241m.\u001b[39mfigure \u001b[38;5;241m=\u001b[39m \u001b[38;5;28mself\u001b[39m\n\u001b[1;32m   2496\u001b[0m     \u001b[38;5;28mself\u001b[39m\u001b[38;5;241m.\u001b[39m_layout_engine \u001b[38;5;241m=\u001b[39m \u001b[38;5;28;01mNone\u001b[39;00m\n",
            "File \u001b[0;32m~/ML/lib/python3.11/site-packages/matplotlib/figure.py:187\u001b[0m, in \u001b[0;36mFigureBase.__init__\u001b[0;34m(self, **kwargs)\u001b[0m\n\u001b[1;32m    186\u001b[0m \u001b[38;5;28;01mdef\u001b[39;00m \u001b[38;5;21m__init__\u001b[39m(\u001b[38;5;28mself\u001b[39m, \u001b[38;5;241m*\u001b[39m\u001b[38;5;241m*\u001b[39mkwargs):\n\u001b[0;32m--> 187\u001b[0m     \u001b[38;5;28;43msuper\u001b[39;49m\u001b[43m(\u001b[49m\u001b[43m)\u001b[49m\u001b[38;5;241;43m.\u001b[39;49m\u001b[38;5;21;43m__init__\u001b[39;49m\u001b[43m(\u001b[49m\u001b[43m)\u001b[49m\n\u001b[1;32m    188\u001b[0m     \u001b[38;5;66;03m# remove the non-figure artist _axes property\u001b[39;00m\n\u001b[1;32m    189\u001b[0m     \u001b[38;5;66;03m# as it makes no sense for a figure to be _in_ an Axes\u001b[39;00m\n\u001b[1;32m    190\u001b[0m     \u001b[38;5;66;03m# this is used by the property methods in the artist base class\u001b[39;00m\n\u001b[1;32m    191\u001b[0m     \u001b[38;5;66;03m# which are over-ridden in this class\u001b[39;00m\n\u001b[1;32m    192\u001b[0m     \u001b[38;5;28;01mdel\u001b[39;00m \u001b[38;5;28mself\u001b[39m\u001b[38;5;241m.\u001b[39m_axes\n",
            "File \u001b[0;32m~/ML/lib/python3.11/site-packages/matplotlib/artist.py:201\u001b[0m, in \u001b[0;36mArtist.__init__\u001b[0;34m(self)\u001b[0m\n\u001b[1;32m    198\u001b[0m \u001b[38;5;66;03m# Normally, artist classes need to be queried for mouseover info if and\u001b[39;00m\n\u001b[1;32m    199\u001b[0m \u001b[38;5;66;03m# only if they override get_cursor_data.\u001b[39;00m\n\u001b[1;32m    200\u001b[0m \u001b[38;5;28mself\u001b[39m\u001b[38;5;241m.\u001b[39m_mouseover \u001b[38;5;241m=\u001b[39m \u001b[38;5;28mtype\u001b[39m(\u001b[38;5;28mself\u001b[39m)\u001b[38;5;241m.\u001b[39mget_cursor_data \u001b[38;5;241m!=\u001b[39m Artist\u001b[38;5;241m.\u001b[39mget_cursor_data\n\u001b[0;32m--> 201\u001b[0m \u001b[38;5;28mself\u001b[39m\u001b[38;5;241m.\u001b[39m_callbacks \u001b[38;5;241m=\u001b[39m \u001b[43mcbook\u001b[49m\u001b[38;5;241;43m.\u001b[39;49m\u001b[43mCallbackRegistry\u001b[49m\u001b[43m(\u001b[49m\u001b[43msignals\u001b[49m\u001b[38;5;241;43m=\u001b[39;49m\u001b[43m[\u001b[49m\u001b[38;5;124;43m\"\u001b[39;49m\u001b[38;5;124;43mpchanged\u001b[39;49m\u001b[38;5;124;43m\"\u001b[39;49m\u001b[43m]\u001b[49m\u001b[43m)\u001b[49m\n\u001b[1;32m    202\u001b[0m \u001b[38;5;28;01mtry\u001b[39;00m:\n\u001b[1;32m    203\u001b[0m     \u001b[38;5;28mself\u001b[39m\u001b[38;5;241m.\u001b[39maxes \u001b[38;5;241m=\u001b[39m \u001b[38;5;28;01mNone\u001b[39;00m\n",
            "File \u001b[0;32m~/ML/lib/python3.11/site-packages/matplotlib/cbook.py:188\u001b[0m, in \u001b[0;36mCallbackRegistry.__init__\u001b[0;34m(self, exception_handler, signals)\u001b[0m\n\u001b[1;32m    186\u001b[0m \u001b[38;5;28mself\u001b[39m\u001b[38;5;241m.\u001b[39m_func_cid_map \u001b[38;5;241m=\u001b[39m {}\n\u001b[1;32m    187\u001b[0m \u001b[38;5;66;03m# A hidden variable that marks cids that need to be pickled.\u001b[39;00m\n\u001b[0;32m--> 188\u001b[0m \u001b[38;5;28mself\u001b[39m\u001b[38;5;241m.\u001b[39m_pickled_cids \u001b[38;5;241m=\u001b[39m \u001b[38;5;28;43mset\u001b[39;49m\u001b[43m(\u001b[49m\u001b[43m)\u001b[49m\n",
            "\u001b[0;31mKeyboardInterrupt\u001b[0m: "
          ]
        }
      ],
      "source": [
        "train(x_train, EPOCHS, gen_iters_per_disc_iter=10, add_noise_every=1, gen_batch_size=1)"
      ]
    },
    {
      "cell_type": "code",
      "execution_count": null,
      "metadata": {
        "colab": {
          "base_uri": "https://localhost:8080/"
        },
        "id": "_MnwKwVWnZRc",
        "outputId": "1bd209ca-3c70-4852-f0ca-40c4b6dc0612"
      },
      "outputs": [
        {
          "data": {
            "image/png": "[encoded data removed]",
            "text/plain": [
              "<Figure size 1000x1000 with 16 Axes>"
            ]
          },
          "metadata": {},
          "output_type": "display_data"
        },
        {
          "name": "stdout",
          "output_type": "stream",
          "text": [
            "tf.Tensor(\n",
            "[[0.97153336]\n",
            " [0.8682528 ]\n",
            " [0.96420485]\n",
            " [0.9520798 ]\n",
            " [0.9700844 ]\n",
            " [0.90510434]\n",
            " [0.9608536 ]\n",
            " [0.98449695]\n",
            " [0.92040277]\n",
            " [0.8205673 ]\n",
            " [0.8504406 ]\n",
            " [0.88278365]\n",
            " [0.41281202]\n",
            " [0.8887475 ]\n",
            " [0.90634936]\n",
            " [0.86298555]], shape=(16, 1), dtype=float32)\n"
          ]
        }
      ],
      "source": [
        "print_image_sample(noisify(images_of_target[:16], 0))\n",
        "print(tf.sigmoid(discriminator(images_of_target[:16])))"
      ]
    },
    {
      "cell_type": "code",
      "execution_count": null,
      "metadata": {},
      "outputs": [
        {
          "data": {
            "image/png": "[encoded data removed]",
            "text/plain": [
              "<Figure size 1000x1000 with 16 Axes>"
            ]
          },
          "metadata": {},
          "output_type": "display_data"
        },
        {
          "name": "stdout",
          "output_type": "stream",
          "text": [
            "tf.Tensor(\n",
            "[[0.05339272]\n",
            " [0.00971282]\n",
            " [0.00958136]\n",
            " [0.48083043]\n",
            " [0.34559682]\n",
            " [0.57327545]\n",
            " [0.19094017]\n",
            " [0.3342823 ]\n",
            " [0.2498089 ]\n",
            " [0.05236363]\n",
            " [0.21639939]\n",
            " [0.22484137]\n",
            " [0.09962499]\n",
            " [0.05332569]\n",
            " [0.40479288]\n",
            " [0.01612917]], shape=(16, 1), dtype=float32)\n"
          ]
        }
      ],
      "source": [
        "print_image_sample(noisify(images_of_others[:16], 0))\n",
        "print(tf.sigmoid(discriminator(images_of_others[:16])))"
      ]
    },
    {
      "cell_type": "code",
      "execution_count": null,
      "metadata": {
        "colab": {
          "base_uri": "https://localhost:8080/",
          "height": 447
        },
        "id": "FRWSfz4JoYbp",
        "outputId": "7eb86183-0402-4c83-98bf-945769fb47f9"
      },
      "outputs": [
        {
          "name": "stdout",
          "output_type": "stream",
          "text": [
            "Iters:  tf.Tensor(70, shape=(), dtype=int32)\n"
          ]
        },
        {
          "data": {
            "image/png": "[encoded data removed]",
            "text/plain": [
              "<Figure size 640x480 with 1 Axes>"
            ]
          },
          "metadata": {},
          "output_type": "display_data"
        },
        {
          "name": "stdout",
          "output_type": "stream",
          "text": [
            "(1, 28, 28, 16)\n",
            "tf.Tensor([[0.03977384]], shape=(1, 1), dtype=float32)\n"
          ]
        }
      ],
      "source": [
        "image = noisify(generate_and_save_images(generator,0,seed)[None,...], 0)\n",
        "# print_image_sample(image[..., None])\n",
        "\n",
        "print(tf.sigmoid(discriminator(image)))"
      ]
    },
    {
      "cell_type": "code",
      "execution_count": null,
      "metadata": {
        "id": "obtWBBwLJLD1"
      },
      "outputs": [
        {
          "data": {
            "text/plain": [
              "<tensorflow.python.checkpoint.checkpoint.CheckpointLoadStatus at 0x3a4655f50>"
            ]
          },
          "execution_count": 1439,
          "metadata": {},
          "output_type": "execute_result"
        }
      ],
      "source": [
        "checkpoint.restore(tf.train.latest_checkpoint(checkpoint_dir))"
      ]
    },
    {
      "cell_type": "code",
      "execution_count": null,
      "metadata": {
        "id": "rAj81WGEJMdV"
      },
      "outputs": [],
      "source": [
        "# Display a single image using the epoch number\n",
        "def display_image(epoch_no):\n",
        "  return PIL.Image.open('image_at_epoch_{:04d}.png'.format(epoch_no))"
      ]
    },
    {
      "cell_type": "code",
      "execution_count": null,
      "metadata": {
        "id": "iRZgzAMaJOSg"
      },
      "outputs": [],
      "source": [
        "import imageio\n",
        "anim_file = 'dcgan.gif'\n",
        "\n",
        "with imageio.get_writer(anim_file, mode='I') as writer:\n",
        "  filenames = glob.glob('image*.png')\n",
        "  filenames = sorted(filenames)\n",
        "  for filename in filenames:\n",
        "    image = imageio.imread(filename)\n",
        "    writer.append_data(image)\n",
        "  image = imageio.imread(filename)\n",
        "  writer.append_data(image)"
      ]
    },
    {
      "cell_type": "code",
      "execution_count": null,
      "metadata": {
        "id": "gtX48kuzJP-W"
      },
      "outputs": [
        {
          "ename": "ModuleNotFoundError",
          "evalue": "No module named 'tensorflow_docs'",
          "output_type": "error",
          "traceback": [
            "\u001b[0;31m---------------------------------------------------------------------------\u001b[0m",
            "\u001b[0;31mModuleNotFoundError\u001b[0m                       Traceback (most recent call last)",
            "Cell \u001b[0;32mIn[1442], line 1\u001b[0m\n\u001b[0;32m----> 1\u001b[0m \u001b[38;5;28;01mimport\u001b[39;00m \u001b[38;5;21;01mtensorflow_docs\u001b[39;00m\u001b[38;5;21;01m.\u001b[39;00m\u001b[38;5;21;01mvis\u001b[39;00m\u001b[38;5;21;01m.\u001b[39;00m\u001b[38;5;21;01membed\u001b[39;00m \u001b[38;5;28;01mas\u001b[39;00m \u001b[38;5;21;01membed\u001b[39;00m\n\u001b[1;32m      2\u001b[0m embed\u001b[38;5;241m.\u001b[39membed_file(anim_file)\n",
            "\u001b[0;31mModuleNotFoundError\u001b[0m: No module named 'tensorflow_docs'"
          ]
        }
      ],
      "source": [
        "import tensorflow_docs.vis.embed as embed\n",
        "embed.embed_file(anim_file)"
      ]
    },
    {
      "cell_type": "code",
      "execution_count": null,
      "metadata": {
        "id": "kjX1dnp4X7k3"
      },
      "outputs": [],
      "source": []
    },
    {
      "cell_type": "code",
      "execution_count": null,
      "metadata": {
        "id": "ZIUtvziXu2o1"
      },
      "outputs": [],
      "source": []
    },
    {
      "cell_type": "code",
      "execution_count": null,
      "metadata": {
        "id": "pny9xMS-t65y"
      },
      "outputs": [],
      "source": []
    },
    {
      "cell_type": "code",
      "execution_count": null,
      "metadata": {
        "id": "Hzxr2UuCt60H"
      },
      "outputs": [],
      "source": []
    },
    {
      "cell_type": "code",
      "execution_count": null,
      "metadata": {
        "id": "PvIlNJbjt6xg"
      },
      "outputs": [],
      "source": []
    },
    {
      "cell_type": "code",
      "execution_count": null,
      "metadata": {
        "id": "8ezD9UoSt6sP"
      },
      "outputs": [],
      "source": []
    },
    {
      "cell_type": "code",
      "execution_count": null,
      "metadata": {
        "id": "ySejRoQPt6il"
      },
      "outputs": [],
      "source": []
    },
    {
      "cell_type": "code",
      "execution_count": null,
      "metadata": {},
      "outputs": [],
      "source": []
    },
    {
      "cell_type": "code",
      "execution_count": null,
      "metadata": {},
      "outputs": [],
      "source": []
    },
    {
      "cell_type": "code",
      "execution_count": null,
      "metadata": {},
      "outputs": [],
      "source": []
    },
    {
      "cell_type": "code",
      "execution_count": null,
      "metadata": {},
      "outputs": [],
      "source": []
    },
    {
      "cell_type": "code",
      "execution_count": null,
      "metadata": {},
      "outputs": [],
      "source": []
    }
  ],
  "metadata": {
    "accelerator": "GPU",
    "colab": {
      "gpuType": "T4",
      "provenance": []
    },
    "kernelspec": {
      "display_name": "Python 3",
      "name": "python3"
    },
    "language_info": {
      "codemirror_mode": {
        "name": "ipython",
        "version": 3
      },
      "file_extension": ".py",
      "mimetype": "text/x-python",
      "name": "python",
      "nbconvert_exporter": "python",
      "pygments_lexer": "ipython3",
      "version": "3.11.6"
    }
  },
  "nbformat": 4,
  "nbformat_minor": 0
}
