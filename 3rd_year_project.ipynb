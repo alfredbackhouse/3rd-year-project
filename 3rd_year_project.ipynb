{
  "cells": [
    {
      "cell_type": "code",
      "execution_count": 193,
      "metadata": {},
      "outputs": [],
      "source": [
        "# Do we need to train the discriminator and generator?\n",
        "# or just load the weights?\n",
        "TRAIN_DISCRIMINATOR = False\n",
        "TRAIN_GENERATOR = False\n",
        "WGAN = False\n",
        "TARGET_DIGIT = 8\n",
        "MUTATE_POOL = True\n",
        "LOSS_TYPE = 'l2'\n",
        "\n",
        "iters_lower, iters_upper = 70, 71\n"
      ]
    },
    {
      "cell_type": "code",
      "execution_count": 194,
      "metadata": {
        "id": "ucAGUcNOXJ91"
      },
      "outputs": [],
      "source": [
        "#@title imports and notebook utils\n",
        "\n",
        "import time\n",
        "import os\n",
        "import io\n",
        "import PIL.Image, PIL.ImageDraw\n",
        "import base64\n",
        "import zipfile\n",
        "import json\n",
        "import requests\n",
        "import numpy as np\n",
        "import matplotlib.pylab as pl\n",
        "import glob\n",
        "import imageio\n",
        "import random\n",
        "\n",
        "\n",
        "\n",
        "import tensorflow as tf\n",
        "\n",
        "from tensorflow.keras.layers import Conv2D\n",
        "from tensorflow.keras import Sequential, backend\n",
        "from tensorflow.keras.layers import Conv2D, Flatten, Dense, BatchNormalization, LeakyReLU, Dropout\n",
        "from tensorflow.keras.optimizers import Adam\n",
        "from tensorflow.keras.initializers import Initializer\n",
        "from tensorflow.keras.regularizers import l2\n",
        "from tensorflow.keras.constraints import Constraint\n",
        "from keras.initializers import RandomNormal\n",
        "\n",
        "from IPython.display import Image, HTML, clear_output\n",
        "import tqdm\n",
        "\n",
        "import os\n",
        "os.environ['FFMPEG_BINARY'] = 'ffmpeg'\n",
        "import moviepy.editor as mvp\n",
        "from moviepy.video.io.ffmpeg_writer import FFMPEG_VideoWriter\n",
        "clear_output()\n",
        "\n",
        "def np2pil(a):\n",
        "  if a.dtype in [np.float32, np.float64]:\n",
        "    a = np.uint8(np.clip(a, 0, 1)*255)\n",
        "  return PIL.Image.fromarray(a)\n",
        "\n",
        "def imwrite(f, a, fmt=None):\n",
        "  a = np.asarray(a)\n",
        "  if isinstance(f, str):\n",
        "    fmt = f.rsplit('.', 1)[-1].lower()\n",
        "    if fmt == 'jpg':\n",
        "      fmt = 'jpeg'\n",
        "    f = open(f, 'wb')\n",
        "  np2pil(a).save(f, fmt, quality=95)\n",
        "\n",
        "def imencode(a, fmt='jpeg'):\n",
        "  a = np.asarray(a)\n",
        "  if len(a.shape) == 3 and a.shape[-1] == 4:\n",
        "    fmt = 'png'\n",
        "  f = io.BytesIO()\n",
        "  imwrite(f, a, fmt)\n",
        "  return f.getvalue()\n",
        "\n",
        "def im2url(a, fmt='jpeg'):\n",
        "  encoded = imencode(a, fmt)\n",
        "  base64_byte_string = base64.b64encode(encoded).decode('ascii')\n",
        "  return 'data:image/' + fmt.upper() + ';base64,' + base64_byte_string\n",
        "\n",
        "def imshow(a, fmt='jpeg'):\n",
        "  display(Image(data=imencode(a, fmt)))\n",
        "\n",
        "def tile2d(a, w=None):\n",
        "  a = np.asarray(a)\n",
        "  if w is None:\n",
        "    w = int(np.ceil(np.sqrt(len(a))))\n",
        "  th, tw = a.shape[1:3]\n",
        "  pad = (w-len(a))%w\n",
        "  a = np.pad(a, [(0, pad)]+[(0, 0)]*(a.ndim-1), 'constant')\n",
        "  h = len(a)//w\n",
        "  a = a.reshape([h, w]+list(a.shape[1:]))\n",
        "  a = np.rollaxis(a, 2, 1).reshape([th*h, tw*w]+list(a.shape[4:]))\n",
        "  return a\n",
        "\n",
        "def zoom(img, scale=4):\n",
        "  img = np.repeat(img, scale, 0)\n",
        "  img = np.repeat(img, scale, 1)\n",
        "  return img\n",
        "\n",
        "class VideoWriter:\n",
        "  def __init__(self, filename, fps=30.0, **kw):\n",
        "    self.writer = None\n",
        "    self.params = dict(filename=filename, fps=fps, **kw)\n",
        "\n",
        "  def add(self, img):\n",
        "    img = np.asarray(img)\n",
        "    if self.writer is None:\n",
        "      h, w = img.shape[:2]\n",
        "      self.writer = FFMPEG_VideoWriter(size=(w, h), **self.params)\n",
        "    if img.dtype in [np.float32, np.float64]:\n",
        "      img = np.uint8(img.clip(0, 1)*255)\n",
        "    if len(img.shape) == 2:\n",
        "      img = np.repeat(img[..., None], 3, -1)\n",
        "    if len(img.shape) == 3 and img.shape[-1] == 4:\n",
        "      img = img[..., :3] * img[..., 3, None]\n",
        "    self.writer.write_frame(img)\n",
        "\n",
        "  def close(self):\n",
        "    if self.writer:\n",
        "      self.writer.close()\n",
        "\n",
        "  def __enter__(self):\n",
        "    return self\n",
        "\n",
        "  def __exit__(self, *kw):\n",
        "    self.close()"
      ]
    },
    {
      "cell_type": "code",
      "execution_count": 195,
      "metadata": {
        "colab": {
          "base_uri": "https://localhost:8080/",
          "height": 601
        },
        "id": "-1D-yCxlX5PX",
        "outputId": "2ce9aaf2-ed40-4dc7-95d0-60d14ac60dd0"
      },
      "outputs": [
        {
          "data": {
            "image/png": "[encoded data removed]",
            "text/plain": [
              "<Figure size 640x480 with 1 Axes>"
            ]
          },
          "metadata": {},
          "output_type": "display_data"
        },
        {
          "data": {
            "image/png": "[encoded data removed]",
            "text/plain": [
              "<Figure size 640x480 with 1 Axes>"
            ]
          },
          "metadata": {},
          "output_type": "display_data"
        }
      ],
      "source": [
        "# @title Generate train/test set from MNIST.\n",
        "\n",
        "(train_images, train_labels), (_, _) = tf.keras.datasets.mnist.load_data()\n",
        "train_images = train_images.reshape(train_images.shape[0], 28, 28, 1).astype('float32')\n",
        "train_images = 1 * ((train_images) / 255)\n",
        "BUFFER_SIZE = 60000\n",
        "BATCH_SIZE = 256\n",
        "\n",
        "# Separate images of '1' and other digits\n",
        "images_of_target = train_images[train_labels == TARGET_DIGIT]\n",
        "images_of_others = train_images[train_labels != TARGET_DIGIT]\n",
        "\n",
        "# Downsample the 'other digits' dataset to match the size of '1s' dataset\n",
        "size_of_targets = images_of_target.shape[0]\n",
        "downsampled_images_of_others = images_of_others[:size_of_targets]\n",
        "\n",
        "# Combine and shuffle the datasets\n",
        "combined_images = np.concatenate((images_of_target, downsampled_images_of_others), axis=0)\n",
        "combined_labels = np.concatenate((np.ones(size_of_targets), np.zeros(size_of_targets)), axis=0)\n",
        "\n",
        "# # Shuffle the combined dataset\n",
        "# shuffled_indices = np.random.permutation(combined_images.shape[0])\n",
        "# combined_images = combined_images[shuffled_indices]\n",
        "# combined_labels = combined_labels[shuffled_indices]\n",
        "\n",
        "# Create the TensorFlow dataset\n",
        "x_train = tf.data.Dataset.from_tensor_slices((combined_images, combined_labels)).shuffle(BUFFER_SIZE).batch(BATCH_SIZE)\n",
        "\n",
        "# take a target image\n",
        "target_image = images_of_target[5]\n",
        "\n",
        "\n",
        "\n",
        "def to_ten_dim_label(x, y):\n",
        "    # x shape is [b, r, c]\n",
        "    # y shape is [b]\n",
        "    y_res = np.zeros(list(x.shape) + [10])\n",
        "    y_expanded = np.broadcast_to(y, x.T.shape).T\n",
        "    y_res[x >= 0.1, y_expanded[x >= 0.1]] = 1.0\n",
        "    return y_res.astype(np.float32)\n",
        "\n",
        "y_train_pic = to_ten_dim_label(train_images, train_labels)\n",
        "\n",
        "def find_bw_legend(x_set, y_set, orientation=\"vertical\"):\n",
        "    result_x = []\n",
        "    for i in range(10):\n",
        "        for x, y in zip(x_set, y_set):\n",
        "            if y == i:\n",
        "                result_x.append(x)\n",
        "                break\n",
        "    assert len(result_x) == 10\n",
        "\n",
        "    if orientation == \"vertical\":\n",
        "        result_x = np.concatenate(result_x, axis=0)\n",
        "    else:\n",
        "        result_x = np.concatenate(result_x, axis=1)\n",
        "\n",
        "    return result_x\n",
        "\n",
        "# Create vertical and horizontal black and white legends\n",
        "bw_legend_vertical = find_bw_legend(train_images, train_labels, orientation=\"vertical\")\n",
        "bw_legend_horizontal = find_bw_legend(train_images, train_labels, orientation=\"horizontal\")\n",
        "\n",
        "# Show the legend using matplotlib or some other library of your choice\n",
        "import matplotlib.pyplot as plt\n",
        "\n",
        "plt.imshow(bw_legend_vertical, cmap='gray')\n",
        "plt.title('Vertical Legend')\n",
        "plt.show()\n",
        "\n",
        "plt.imshow(bw_legend_horizontal, cmap='gray')\n",
        "plt.title('Horizontal Legend')\n",
        "plt.show()\n"
      ]
    },
    {
      "cell_type": "code",
      "execution_count": 196,
      "metadata": {
        "id": "u9zSn7zKX5qC"
      },
      "outputs": [],
      "source": [
        "#@markdown ### Model configuration\n",
        "#@markdown These options configure the model to be used and train in this\n",
        "#@markdown notebook. Please refer to the article for more information.\n",
        "CHANNEL_N = 16 # Number of CA state channels\n",
        "CELL_FIRE_RATE = 1\n",
        "\n",
        "EXPERIMENT_TYPE = \"Growing\" #@param [\"Growing\", \"Persistent\", \"Regenerating\"]\n",
        "EXPERIMENT_MAP = {\"Growing\":0, \"Persistent\":1, \"Regenerating\":2}\n",
        "EXPERIMENT_N = EXPERIMENT_MAP[EXPERIMENT_TYPE]\n",
        "\n",
        "USE_PATTERN_POOL = [0, 1, 1][EXPERIMENT_N]\n",
        "DAMAGE_N = [0, 0, 3][EXPERIMENT_N]  # Number of patterns to damage in a batch\n",
        "\n",
        "\n",
        "\n"
      ]
    },
    {
      "cell_type": "code",
      "execution_count": 197,
      "metadata": {
        "colab": {
          "base_uri": "https://localhost:8080/"
        },
        "id": "8tJ6OFmiX6EB",
        "outputId": "aeb32dff-7818-4105-c092-7860e91a2d50"
      },
      "outputs": [
        {
          "name": "stdout",
          "output_type": "stream",
          "text": [
            "Model: \"sequential_63\"\n",
            "_________________________________________________________________\n",
            " Layer (type)                Output Shape              Param #   \n",
            "=================================================================\n",
            " conv2d_126 (Conv2D)         (1, 3, 3, 128)            6272      \n",
            "                                                                 \n",
            " conv2d_127 (Conv2D)         (1, 3, 3, 16)             2064      \n",
            "                                                                 \n",
            "=================================================================\n",
            "Total params: 8336 (32.56 KB)\n",
            "Trainable params: 8336 (32.56 KB)\n",
            "Non-trainable params: 0 (0.00 Byte)\n",
            "_________________________________________________________________\n"
          ]
        }
      ],
      "source": [
        "#@title CA model and utils\n",
        "\n",
        "\n",
        "def to_greyscale(x):\n",
        "    return tf.clip_by_value(x[..., 0:1], 0.0, 1.0)\n",
        "\n",
        "def get_living_mask(x):\n",
        "    alpha = x[:, :, :, 0:1]\n",
        "    return tf.nn.max_pool2d(alpha, 3, [1, 1, 1, 1], 'SAME') > 0.1\n",
        "\n",
        "def make_seed(num_examples, height = 9, width = 4):\n",
        "    h, w = 28,28\n",
        "    seed = np.zeros([num_examples, h, w, CHANNEL_N], np.float32)\n",
        "    for i in range(h//2 - height, h//2 + height):\n",
        "        for j in range(w//2-width, w//2 + width):\n",
        "            seed[:, i, j, 0] = np.random.uniform(1, 1, size = num_examples)\n",
        "    return seed\n",
        "\n",
        "class CustomInitializer(Initializer):\n",
        "    def __init__(self, mean=0.0, stddev=0.01):\n",
        "        self.mean = mean\n",
        "        self.stddev = stddev\n",
        "\n",
        "    def __call__(self, shape, dtype=np.float32):\n",
        "        return tf.random.normal(shape, mean=self.mean, stddev=self.stddev, dtype=dtype)\n",
        "\n",
        "class build_generator(tf.keras.Model):\n",
        "\n",
        "    def __init__(self, channel_n=CHANNEL_N, fire_rate=CELL_FIRE_RATE, l2_reg = 0):\n",
        "        super().__init__()\n",
        "        self.channel_n = channel_n\n",
        "        self.fire_rate = fire_rate\n",
        "        self.custom_init = CustomInitializer(mean=0) #was 0.008\n",
        "\n",
        "        self.dmodel = tf.keras.Sequential([\n",
        "            Conv2D(128, 1, activation=tf.nn.relu, kernel_initializer=self.custom_init, kernel_regularizer=l2(l2_reg)),\n",
        "            Conv2D(self.channel_n, 1, activation=None,\n",
        "                kernel_initializer=self.custom_init, kernel_regularizer=l2(l2_reg)),\n",
        "        ])\n",
        "\n",
        "        self(tf.zeros([1, 3, 3, channel_n]))  # dummy call to build the model\n",
        "\n",
        "    def reinitialize_weights(self):\n",
        "        for layer in self.dmodel.layers:\n",
        "            if hasattr(layer, 'kernel_initializer'):\n",
        "                layer.kernel.assign(self.custom_init(layer.kernel.shape))\n",
        "            if hasattr(layer, 'bias_initializer') and layer.use_bias:\n",
        "                layer.bias.assign(self.custom_init(layer.bias.shape))\n",
        "\n",
        "    @tf.function\n",
        "    def perceive(self, x, angle=0.0):\n",
        "        identify = np.float32([0, 1, 0])\n",
        "        identify = np.outer(identify, identify)\n",
        "        dx = np.outer([1, 2, 1], [-1, 0, 1]) / 8.0  # Sobel filter\n",
        "        dy = dx.T\n",
        "        c, s = tf.cos(angle), tf.sin(angle)\n",
        "        kernel = tf.stack([identify, c*dx-s*dy, s*dx+c*dy], -1)[:, :, None, :]\n",
        "        kernel = tf.repeat(kernel, self.channel_n, 2)\n",
        "        y = tf.nn.depthwise_conv2d(x, kernel, [1, 1, 1, 1], 'SAME')\n",
        "        return y\n",
        "\n",
        "    @tf.function\n",
        "    def call(self, x, fire_rate=None, angle=0.0, step_size=1.0):\n",
        "        pre_life_mask = get_living_mask(x)\n",
        "\n",
        "        y = self.perceive(x, angle)\n",
        "        dx = self.dmodel(y)*step_size\n",
        "        if fire_rate is None:\n",
        "            fire_rate = self.fire_rate\n",
        "        update_mask = tf.random.uniform(tf.shape(x[:, :, :, :1])) <= fire_rate\n",
        "        x += dx * tf.cast(update_mask, tf.float32)\n",
        "\n",
        "        post_life_mask = get_living_mask(x)\n",
        "        life_mask = pre_life_mask & post_life_mask\n",
        "\n",
        "# TODO reimplement the original training and use sigmoid\n",
        "# TODO then use this as a warm start\n",
        "\n",
        "        return x * tf.cast(life_mask, tf.float32)\n",
        "\n",
        "\n",
        "build_generator().dmodel.summary()"
      ]
    },
    {
      "cell_type": "code",
      "execution_count": 198,
      "metadata": {
        "colab": {
          "base_uri": "https://localhost:8080/",
          "height": 1000
        },
        "id": "mTmHNfI6hwhG",
        "outputId": "c6b25c9b-8cf1-4d21-9c06-2d110a7123b1"
      },
      "outputs": [
        {
          "data": {
            "image/png": "[encoded data removed]",
            "text/plain": [
              "<Figure size 640x480 with 1 Axes>"
            ]
          },
          "metadata": {},
          "output_type": "display_data"
        }
      ],
      "source": [
        "#@title Lets generate an image! (basic testing that the generator works, with animation)\n",
        "\n",
        "generator = build_generator()\n",
        "\n",
        "def animate_ca(generator, h=1, w=1):\n",
        "    x = make_seed(1, height=h, width=w)\n",
        "\n",
        "    for i in range(1):\n",
        "        x = generator(x, training=False)\n",
        "        plt.imshow(to_greyscale(x)[0, :, :, 0], cmap='gray')\n",
        "        plt.show()\n",
        "        # print(x[0,:,:,0].numpy().max())\n",
        "\n",
        "    return x\n",
        "\n",
        "x = animate_ca(generator)"
      ]
    },
    {
      "cell_type": "code",
      "execution_count": 199,
      "metadata": {},
      "outputs": [],
      "source": [
        "# clip model weights to a given hypercube\n",
        "class ClipConstraint(Constraint):\n",
        "\t# set clip value when initialized\n",
        "\tdef __init__(self, clip_value):\n",
        "\t\tself.clip_value = clip_value\n",
        " \n",
        "\t# clip model weights to hypercube\n",
        "\tdef __call__(self, weights):\n",
        "\t\treturn backend.clip(weights, -self.clip_value, self.clip_value)"
      ]
    },
    {
      "cell_type": "code",
      "execution_count": 200,
      "metadata": {
        "colab": {
          "base_uri": "https://localhost:8080/"
        },
        "id": "ryiHMo9jaBCX",
        "outputId": "ea62c6ad-dbd8-46ac-d570-59dc80ba6c4c"
      },
      "outputs": [
        {
          "name": "stdout",
          "output_type": "stream",
          "text": [
            "Model: \"sequential_65\"\n",
            "_________________________________________________________________\n",
            " Layer (type)                Output Shape              Param #   \n",
            "=================================================================\n",
            " conv2d_130 (Conv2D)         (None, 14, 14, 64)        1664      \n",
            "                                                                 \n",
            " leaky_re_lu_56 (LeakyReLU)  (None, 14, 14, 64)        0         \n",
            "                                                                 \n",
            " dropout_56 (Dropout)        (None, 14, 14, 64)        0         \n",
            "                                                                 \n",
            " conv2d_131 (Conv2D)         (None, 7, 7, 128)         204928    \n",
            "                                                                 \n",
            " leaky_re_lu_57 (LeakyReLU)  (None, 7, 7, 128)         0         \n",
            "                                                                 \n",
            " dropout_57 (Dropout)        (None, 7, 7, 128)         0         \n",
            "                                                                 \n",
            " flatten_28 (Flatten)        (None, 6272)              0         \n",
            "                                                                 \n",
            " dense_28 (Dense)            (None, 1)                 6273      \n",
            "                                                                 \n",
            "=================================================================\n",
            "Total params: 212865 (831.50 KB)\n",
            "Trainable params: 212865 (831.50 KB)\n",
            "Non-trainable params: 0 (0.00 Byte)\n",
            "_________________________________________________________________\n"
          ]
        }
      ],
      "source": [
        "#@title Discriminator model and utils\n",
        "\n",
        "\n",
        "def build_discriminator(input_shape=(28, 28, 1)):\n",
        "\n",
        "    const = ClipConstraint(0.01)\n",
        "    model = tf.keras.Sequential()\n",
        "    model.add(Conv2D(64, (5, 5), strides=(2, 2), padding='same', kernel_constraint=const,\n",
        "                                     input_shape=[28, 28, 1]))\n",
        "    model.add(LeakyReLU())\n",
        "    model.add(Dropout(0.3))\n",
        "    model.add(Conv2D(128, (5, 5), strides=(2, 2), padding='same', kernel_constraint=const))\n",
        "    model.add(LeakyReLU())\n",
        "    model.add(Dropout(0.3))\n",
        "    model.add(Flatten())\n",
        "    model.add(Dense(1))\n",
        "\n",
        "    return model\n",
        "\n",
        "    # # old, simple model\n",
        "    # model = Sequential()\n",
        "\n",
        "    # model.add(Conv2D(32, (3, 3), strides=(2, 2), padding='same', input_shape=input_shape))\n",
        "    # model.add(LeakyReLU())\n",
        "    # model.add(Conv2D(32, (3, 3), strides=(2, 2), padding='same'))\n",
        "    # model.add(LeakyReLU())\n",
        "    # model.add(Flatten())\n",
        "    # model.add(Dense(1))  # No activation because the binary crossentropy loss function does the activation as well (using from logits)\n",
        "\n",
        "    # return model\n",
        "\n",
        "discriminator = build_discriminator()\n",
        "discriminator.compile(optimizer=tf.keras.optimizers.legacy.Adam(0.0002, 0.5), loss='binary_crossentropy', metrics=['accuracy'])\n",
        "\n",
        "discriminator.summary()\n"
      ]
    },
    {
      "cell_type": "code",
      "execution_count": 201,
      "metadata": {
        "colab": {
          "base_uri": "https://localhost:8080/"
        },
        "id": "z_ejq9wEkcpq",
        "outputId": "ea81b30c-0fa0-4305-d0f3-92c1676c4f05"
      },
      "outputs": [
        {
          "name": "stdout",
          "output_type": "stream",
          "text": [
            "tf.Tensor([[-0.01600583]], shape=(1, 1), dtype=float32)\n"
          ]
        }
      ],
      "source": [
        "#@title Now let's try discriminate! (basic testing that the disc model works)\n",
        "\n",
        "discriminator = build_discriminator()\n",
        "decision = discriminator(x[:, :, :, :1])\n",
        "print(decision)"
      ]
    },
    {
      "cell_type": "code",
      "execution_count": 202,
      "metadata": {
        "id": "jNIHHVOfX6d1"
      },
      "outputs": [],
      "source": [
        "\n",
        "#@title Train Utilities (SamplePool, Model Export, Damage)\n",
        "from google.protobuf.json_format import MessageToDict\n",
        "from tensorflow.python.framework import convert_to_constants\n",
        "\n",
        "class SamplePool:\n",
        "  def __init__(self, *, _parent=None, _parent_idx=None, **slots):\n",
        "    self._parent = _parent\n",
        "    self._parent_idx = _parent_idx\n",
        "    self._slot_names = slots.keys()\n",
        "    self._size = None\n",
        "    for k, v in slots.items():\n",
        "      if self._size is None:\n",
        "        self._size = len(v)\n",
        "      assert self._size == len(v)\n",
        "      setattr(self, k, np.asarray(v))\n",
        "\n",
        "  def sample(self, n):\n",
        "    idx = np.random.choice(self._size, n, False)\n",
        "    batch = {k: getattr(self, k)[idx] for k in self._slot_names}\n",
        "    batch = SamplePool(**batch, _parent=self, _parent_idx=idx)\n",
        "    return batch\n",
        "\n",
        "  def commit(self):\n",
        "    for k in self._slot_names:\n",
        "      getattr(self._parent, k)[self._parent_idx] = getattr(self, k)\n",
        "\n",
        "@tf.function\n",
        "def make_circle_masks(n, h, w):\n",
        "  x = tf.linspace(-1.0, 1.0, w)[None, None, :]\n",
        "  y = tf.linspace(-1.0, 1.0, h)[None, :, None]\n",
        "  center = tf.random.uniform([2, n, 1, 1], -0.5, 0.5)\n",
        "  r = tf.random.uniform([n, 1, 1], 0.1, 0.4)\n",
        "  x, y = (x-center[0])/r, (y-center[1])/r\n",
        "  mask = tf.cast(x*x+y*y < 1.0, tf.float32)\n",
        "  return mask\n",
        "\n",
        "def export_model(ca, base_fn):\n",
        "  ca.save_weights(base_fn)\n",
        "\n",
        "  cf = ca.call.get_concrete_function(\n",
        "      x=tf.TensorSpec([None, None, None, CHANNEL_N]),\n",
        "      fire_rate=tf.constant(0.5),\n",
        "      angle=tf.constant(0.0),\n",
        "      step_size=tf.constant(1.0))\n",
        "  cf = convert_to_constants.convert_variables_to_constants_v2(cf)\n",
        "  graph_def = cf.graph.as_graph_def()\n",
        "  graph_json = MessageToDict(graph_def)\n",
        "  graph_json['versions'] = dict(producer='1.14', minConsumer='1.14')\n",
        "  model_json = {\n",
        "      'format': 'graph-model',\n",
        "      'modelTopology': graph_json,\n",
        "      'weightsManifest': [],\n",
        "  }\n",
        "  with open(base_fn+'.json', 'w') as f:\n",
        "    json.dump(model_json, f)\n",
        "\n",
        "def generate_pool_figures(pool, step_i):\n",
        "  tiled_pool = tile2d(to_rgb(pool.x[:49]))\n",
        "  fade = np.linspace(1.0, 0.0, 72)\n",
        "  ones = np.ones(72)\n",
        "  tiled_pool[:, :72] += (-tiled_pool[:, :72] + ones[None, :, None]) * fade[None, :, None]\n",
        "  tiled_pool[:, -72:] += (-tiled_pool[:, -72:] + ones[None, :, None]) * fade[None, ::-1, None]\n",
        "  tiled_pool[:72, :] += (-tiled_pool[:72, :] + ones[:, None, None]) * fade[:, None, None]\n",
        "  tiled_pool[-72:, :] += (-tiled_pool[-72:, :] + ones[:, None, None]) * fade[::-1, None, None]\n",
        "  imwrite('train_log/%04d_pool.jpg'%step_i, tiled_pool)\n",
        "\n",
        "def visualize_batch(x0, x, step_i):\n",
        "  vis0 = np.hstack(to_rgb(x0).numpy())\n",
        "  vis1 = np.hstack(to_rgb(x).numpy())\n",
        "  vis = np.vstack([vis0, vis1])\n",
        "  imwrite('train_log/batches_%04d.jpg'%step_i, vis)\n",
        "  print('batch (before/after):')\n",
        "  imshow(vis)\n",
        "\n",
        "def plot_loss(loss_log):\n",
        "  pl.figure(figsize=(10, 4))\n",
        "  pl.title('Loss history (log10)')\n",
        "  pl.plot(np.log10(loss_log), '.', alpha=0.1)\n",
        "  pl.show()\n",
        "\n",
        "def generate_and_save_images(model, epoch, test_input):\n",
        "    # Notice `training` is set to False.\n",
        "    # This is so all layers run in inference mode (batchnorm).\n",
        "\n",
        "    x = test_input\n",
        "\n",
        "    iter_n = tf.random.uniform([], iters_lower, iters_upper, tf.int32)\n",
        "\n",
        "    for i in tf.range(iter_n):\n",
        "        x = model(x)\n",
        "\n",
        "    predictions = x\n",
        "\n",
        "    print(\"Iters: \", iter_n)\n",
        "    plt.imshow(to_greyscale(predictions)[0, :, :, 0] * 127.5 + 127.5, cmap='gray')\n",
        "    plt.savefig('image_at_epoch_{:04d}.png'.format(epoch))\n",
        "    plt.show()\n",
        "\n",
        "    print(x.shape)\n",
        "\n",
        "    return to_greyscale(predictions)[0, :, :, 0]\n"
      ]
    },
    {
      "cell_type": "code",
      "execution_count": 203,
      "metadata": {
        "id": "11B0i5hQDihv"
      },
      "outputs": [
        {
          "name": "stdout",
          "output_type": "stream",
          "text": [
            "3885.69s - pydevd: Sending message related to process being replaced timed-out after 5 seconds\n",
            "zsh:1: no matches found: train_log/*\n"
          ]
        }
      ],
      "source": [
        "# @title Now let's generate an image, discriminate, and calculate all the losses!\n",
        "\n",
        "EPOCHS = 100\n",
        "num_examples_to_generate = BATCH_SIZE\n",
        "\n",
        "h = 28\n",
        "w = 28\n",
        "seed = make_seed(1, height = 1, width = 1)\n",
        "\n",
        "generator = build_generator()\n",
        "discriminator = build_discriminator()\n",
        "\n",
        "# generator.set_weights(ca.get_weights())\n",
        "\n",
        "# Learning rate and schedule\n",
        "lr_gen = 2e-3\n",
        "lr_disc = 2e-3\n",
        "\n",
        "lr_sched_gen = tf.keras.optimizers.schedules.PiecewiseConstantDecay(\n",
        "    [2000], [lr_gen, lr_gen * 0.1])\n",
        "lr_sched_disc = tf.keras.optimizers.schedules.PiecewiseConstantDecay(\n",
        "    [2000], [lr_disc, lr_disc * 0.1])\n",
        "\n",
        "# Optimizers\n",
        "generator_optimizer = tf.keras.optimizers.legacy.Adam(lr_sched_gen)\n",
        "discriminator_optimizer = tf.keras.optimizers.legacy.Adam(lr_sched_disc)\n",
        "\n",
        "g_loss_log = []\n",
        "d_loss_log = []\n",
        "\n",
        "# loss0 = generator_loss(seed).numpy()\n",
        "!mkdir -p train_log && rm -f train_log/*\n",
        "\n",
        "x = make_seed(1)"
      ]
    },
    {
      "cell_type": "code",
      "execution_count": 204,
      "metadata": {
        "colab": {
          "base_uri": "https://localhost:8080/",
          "height": 447
        },
        "id": "iTEEioLc2vjw",
        "outputId": "8b420f91-475d-42eb-bc2e-7d955f6b073e"
      },
      "outputs": [
        {
          "data": {
            "text/plain": [
              "<matplotlib.image.AxesImage at 0x2d070fb10>"
            ]
          },
          "execution_count": 204,
          "metadata": {},
          "output_type": "execute_result"
        },
        {
          "data": {
            "image/png": "[encoded data removed]",
            "text/plain": [
              "<Figure size 640x480 with 1 Axes>"
            ]
          },
          "metadata": {},
          "output_type": "display_data"
        }
      ],
      "source": [
        "rounded_target_image = tf.where(target_image > 0.5, 1.0, 0.0)\n",
        "\n",
        "plt.imshow(rounded_target_image[:, :, :] * 127.5 + 127.5, cmap='gray')"
      ]
    },
    {
      "cell_type": "markdown",
      "metadata": {},
      "source": [
        "Pretrain the generator"
      ]
    },
    {
      "cell_type": "code",
      "execution_count": 205,
      "metadata": {
        "id": "-SLEvu1O197a"
      },
      "outputs": [
        {
          "name": "stdout",
          "output_type": "stream",
          "text": [
            "3891.30s - pydevd: Sending message related to process being replaced timed-out after 5 seconds\n",
            "zsh:1: no matches found: train_log/*\n"
          ]
        }
      ],
      "source": [
        "#@title Reimplement the original training architechture to learn a single exact digit!\n",
        "\n",
        "#@title Initialize Training { vertical-output: true}\n",
        "\n",
        "h = 28\n",
        "w = 28\n",
        "seed = np.zeros([h, w, CHANNEL_N], np.float32)\n",
        "seed[h//2, w//2, 0:1] = 1.0\n",
        "\n",
        "def loss_f(x):\n",
        "  return tf.reduce_mean(tf.square(to_greyscale(x)-rounded_target_image), [-2, -3, -1])\n",
        "\n",
        "ca = build_generator()\n",
        "\n",
        "loss_log = []\n",
        "\n",
        "lr = 2e-4\n",
        "lr_sched = tf.keras.optimizers.schedules.PiecewiseConstantDecay(\n",
        "    [2000], [lr, lr*0.1])\n",
        "trainer = tf.keras.optimizers.legacy.Adam(lr_sched)\n",
        "\n",
        "loss0 = loss_f(seed).numpy()\n",
        "\n",
        "!mkdir -p train_log && rm -f train_log/*"
      ]
    },
    {
      "cell_type": "code",
      "execution_count": 206,
      "metadata": {
        "id": "5dD-dvg64PQM"
      },
      "outputs": [],
      "source": [
        "#@title Original Training Loop {vertical-output: false}\n",
        "\n",
        "def plot_loss(loss_log):\n",
        "  pl.figure(figsize=(10, 4))\n",
        "  pl.title('Loss history (log10)')\n",
        "  pl.plot(np.log10(loss_log), '.', alpha=0.1)\n",
        "  pl.show()\n",
        "\n",
        "@tf.function\n",
        "def train_step(x):\n",
        "  iter_n = tf.random.uniform([], iters_lower, iters_upper, tf.int32)\n",
        "  with tf.GradientTape() as g:\n",
        "    for i in tf.range(iter_n):\n",
        "      x = ca(x)\n",
        "    loss = tf.reduce_mean(loss_f(x))\n",
        "    reg_losses = tf.add_n(ca.dmodel.losses)\n",
        "    total_loss = loss + reg_losses\n",
        "  grads = g.gradient(total_loss, ca.weights)\n",
        "  grads = [g/(tf.norm(g)+1e-8) for g in grads]\n",
        "  trainer.apply_gradients(zip(grads, ca.weights))\n",
        "  return x, loss\n",
        "\n",
        "if TRAIN_GENERATOR: \n",
        "  for i in range(1500+1):\n",
        "\n",
        "      x0 = np.repeat(seed[None, ...], 1, 0)\n",
        "\n",
        "      x, loss = train_step(x0)\n",
        "\n",
        "      step_i = len(loss_log)\n",
        "      loss_log.append(loss.numpy())\n",
        "\n",
        "      if step_i%100 == 0:\n",
        "          clear_output(wait=True)\n",
        "          if tf.reduce_all(generate_and_save_images(ca,\n",
        "                                  i + 1,\n",
        "                                  x0) == 0.0): \n",
        "              ca.reinitialize_weights() # restart training if the model collapses\n",
        "          # Print the losses\n",
        "          print(f\"Epoch {i + 1}, Loss: {loss:.4f}\")\n",
        "          plot_loss(loss_log)\n",
        "\n",
        "      print('\\r step: %d, log10(loss): %.3f'%(len(loss_log), np.log10(loss)), end='')"
      ]
    },
    {
      "cell_type": "code",
      "execution_count": 207,
      "metadata": {},
      "outputs": [
        {
          "name": "stdout",
          "output_type": "stream",
          "text": [
            "-0.04591365 0.037574746\n"
          ]
        }
      ],
      "source": [
        "# Get the weights of the first layer\n",
        "weights = ca.dmodel.layers[0].weights[0].numpy()\n",
        "\n",
        "# Normalize the weights to range 0-1 for visualization\n",
        "weights_min = weights.min()\n",
        "weights_max = weights.max()\n",
        "\n",
        "print(weights_min, weights_max)"
      ]
    },
    {
      "cell_type": "code",
      "execution_count": 208,
      "metadata": {
        "id": "MyEBOSv0I0v4"
      },
      "outputs": [],
      "source": [
        "if TRAIN_GENERATOR: \n",
        "  ca.save_weights(f\"ca_{TARGET_DIGIT}.h5\")"
      ]
    },
    {
      "cell_type": "code",
      "execution_count": 209,
      "metadata": {},
      "outputs": [],
      "source": [
        "ca.load_weights(f\"ca_{TARGET_DIGIT}.h5\")"
      ]
    },
    {
      "cell_type": "code",
      "execution_count": 210,
      "metadata": {
        "id": "zDJKtHmoI-jh"
      },
      "outputs": [],
      "source": [
        "checkpoint_dir = './training_checkpoints'\n",
        "checkpoint_prefix = os.path.join(checkpoint_dir, \"ckpt\")\n",
        "checkpoint = tf.train.Checkpoint(generator_optimizer=generator_optimizer,\n",
        "                                 discriminator_optimizer=discriminator_optimizer,\n",
        "                                 generator=generator,\n",
        "                                 discriminator=discriminator)"
      ]
    },
    {
      "cell_type": "code",
      "execution_count": 211,
      "metadata": {
        "id": "GUFTMS5ru8bv"
      },
      "outputs": [],
      "source": [
        "def print_image_sample(images): \n",
        "    plt.figure(figsize=(10, 10))\n",
        "\n",
        "    for i in range(images.shape[0]):\n",
        "        plt.subplot(4, 4, i+1)\n",
        "        plt.imshow(images[i, :, :, 0] * 127.5 + 127.5, cmap='gray')\n",
        "        plt.axis('off')\n",
        "\n",
        "    plt.show()\n",
        "\n",
        "def noisify(images, noise_factor):\n",
        "\n",
        "    noise = noise_factor * np.random.normal(loc=0.0, scale=1.0, size=images.shape)\n",
        "    noisy_images = images + noise\n",
        "    # Clip the values to be between 0 and 1\n",
        "    noisy_images = tf.clip_by_value(noisy_images, clip_value_min=0.0, clip_value_max=1.0)\n",
        "    return noisy_images\n"
      ]
    },
    {
      "cell_type": "code",
      "execution_count": 212,
      "metadata": {},
      "outputs": [],
      "source": [
        "def add_noise_to_weights(model, noise_level=0.01):\n",
        "    for layer in model.layers:\n",
        "        weights = layer.get_weights()\n",
        "        if weights:  # Check if the layer has weights\n",
        "            noisy_weights = [w + noise_level * np.random.randn(*w.shape) for w in weights]\n",
        "            layer.set_weights(noisy_weights)"
      ]
    },
    {
      "cell_type": "code",
      "execution_count": 213,
      "metadata": {
        "id": "lY-eZQyRwUWN"
      },
      "outputs": [],
      "source": [
        "#@title New Training Loop {vertical-output: false}\n",
        "\n",
        "noise_factor = 0\n",
        "\n",
        "@tf.function\n",
        "def train_step(images, labels, update_gen=True, update_disc=False, gen_batch_size = 1):\n",
        "    iter_n = tf.random.uniform([], iters_lower, iters_upper, tf.int32)\n",
        "\n",
        "    x = make_seed(gen_batch_size, height=1, width=1)  \n",
        "\n",
        "    with tf.GradientTape() as gen_tape, tf.GradientTape() as disc_tape:\n",
        "        for i in tf.range(iter_n):\n",
        "            x = generator(x, training=True)  # Process the entire batch\n",
        "        print(x)\n",
        "        real_output = discriminator(noisify(images, noise_factor), training=True)\n",
        "        fake_output = discriminator(noisify(to_greyscale(x)[:, :, :, 0], noise_factor), training=True)\n",
        "        disc_loss = discriminator_loss(real_output, labels,  fake_output)\n",
        "        gen_loss = generator_loss(fake_output)\n",
        "    # tf.print(\"Fake output:\", disc_loss)\n",
        "    # tf.print(\"Real output:\", gen_loss)\n",
        "\n",
        "\n",
        "    # Compute gradients and update\n",
        "    # TODO plot gradient norms\n",
        "    if update_gen:\n",
        "        gradients_of_generator = gen_tape.gradient(gen_loss, generator.trainable_variables)\n",
        "        gradients_of_generator = [g/(tf.norm(g)+1e-8) for g in gradients_of_generator]\n",
        "        generator_optimizer.apply_gradients(zip(gradients_of_generator, generator.trainable_variables))\n",
        "\n",
        "    # if disc_loss > gen_loss / 4 or disc_loss > gen_loss:\n",
        "    if update_disc:\n",
        "        gradients_of_discriminator = disc_tape.gradient(disc_loss, discriminator.trainable_variables)\n",
        "        discriminator_optimizer.apply_gradients(zip(gradients_of_discriminator, discriminator.trainable_variables))\n",
        "\n",
        "    return gen_loss, disc_loss\n",
        "\n",
        "# Function to plot the current losses\n",
        "def plot_losses(generator_losses, discriminator_losses, epoch):\n",
        "    fig, axs = plt.subplots(2, figsize=(10, 10))\n",
        "\n",
        "    axs[0].plot(generator_losses, label='Generator')\n",
        "    axs[0].set_title(f'Generator Loss During Training - Epoch {epoch}')\n",
        "    axs[0].set_xlabel('Epoch')\n",
        "    axs[0].set_ylabel('Loss')\n",
        "    axs[0].legend()\n",
        "\n",
        "    axs[1].plot(discriminator_losses, label='Discriminator')\n",
        "    axs[1].set_title(f'Discriminator Loss During Training - Epoch {epoch}')\n",
        "    axs[1].set_xlabel('Epoch')\n",
        "    axs[1].set_ylabel('Loss')\n",
        "    axs[1].legend()\n",
        "\n",
        "    plt.tight_layout()\n",
        "    plt.show()\n",
        "\n",
        "# Training Loop\n",
        "def train(dataset, epochs, gen_iters_per_disc_iter=1):\n",
        "\n",
        "    # Initialise lists for storing losses\n",
        "    generator_losses = []\n",
        "    discriminator_losses = []\n",
        "    update_disc = tf.constant(False)\n",
        "    clear_output(wait=True)\n",
        "    generate_and_save_images(generator,\n",
        "                            0,\n",
        "                            seed)\n",
        "\n",
        "    print(\"Getting warmed up...\")\n",
        "\n",
        "    for epoch in range(epochs):\n",
        "        start = time.time()\n",
        "\n",
        "        # Initialise the loss accumulators for the epoch\n",
        "        epoch_gen_loss = 0.0\n",
        "        epoch_disc_loss = 0.0\n",
        "        batch_count = 0\n",
        "        add_noise_every = 1\n",
        "\n",
        "        # Determine the number of batches to sample (1/10th of the dataset)\n",
        "        total_batches = len(dataset)\n",
        "        sampled_batches = total_batches // 5\n",
        "\n",
        "        # Sample a subset of batches to iterate over\n",
        "        sampled_dataset = dataset.shuffle(BUFFER_SIZE).take(sampled_batches)\n",
        "        \n",
        "        for image_batch, label_batch in sampled_dataset:\n",
        "            # print_image_sample(image_batch[:16])\n",
        "            # print(label_batch)\n",
        "\n",
        "            if (epoch) % add_noise_every == 0: \n",
        "                add_noise_to_weights(generator)\n",
        "            \n",
        "            if (epoch) % gen_iters_per_disc_iter == 0: \n",
        "                update_disc = tf.constant(True)\n",
        "            else: \n",
        "                update_disc = tf.constant(False)\n",
        "            gen_loss, disc_loss = train_step(image_batch, label_batch, update_disc=update_disc)\n",
        "            epoch_gen_loss += gen_loss\n",
        "            epoch_disc_loss += disc_loss\n",
        "            batch_count += 1\n",
        "\n",
        "\n",
        "        # Average the losses over all batches in the epoch\n",
        "        epoch_gen_loss /= batch_count\n",
        "        epoch_disc_loss /= batch_count\n",
        "\n",
        "        epoch_gen_loss = epoch_gen_loss\n",
        "        epoch_disc_loss = epoch_disc_loss\n",
        "\n",
        "        # Append the average losses to their respective lists\n",
        "        generator_losses.append(epoch_gen_loss)\n",
        "        discriminator_losses.append(epoch_disc_loss)\n",
        "\n",
        "        # Produce images for the GIF as you go\n",
        "        clear_output(wait=True)\n",
        "        generate_and_save_images(generator,\n",
        "                                epoch + 1,\n",
        "                                seed)\n",
        "        print(batch_count)\n",
        "        # Print the losses\n",
        "        print(f\"Epoch {epoch + 1}, Generator loss: {epoch_gen_loss:.4f}, Discriminator loss: {epoch_disc_loss:.4f}\")\n",
        "        print(f\"Time for epoch {epoch + 1} is {time.time() - start} sec\")\n",
        "        plot_losses(generator_losses, discriminator_losses, epoch + 1)\n",
        "\n",
        "\n",
        "        # Save the model every 15 epochs\n",
        "        if (epoch + 1) % 15 == 0:\n",
        "            checkpoint.save(file_prefix = checkpoint_prefix)\n",
        "\n",
        "    # Generate after the final epoch\n",
        "    clear_output(wait=True)\n",
        "    generate_and_save_images(generator,\n",
        "                            epochs,\n",
        "                            seed)\n",
        "    plot_losses(generator_losses, discriminator_losses, epoch + 1)\n",
        "\n",
        "    # x, g_loss, d_loss = train_step(real_data)\n",
        "    # Logging, visualisation, etc.\n",
        "\n",
        "    # step_i = len(loss_log)\n",
        "    # g_loss_log.append(g_loss.numpy())\n",
        "    # d_loss_log.append(d_loss.numpy())\n",
        "\n",
        "    # if step_i%10 == 0:\n",
        "    #     generate_pool_figures(pool, step_i)\n",
        "    # if step_i%100 == 0:\n",
        "    #     clear_output()\n",
        "    #     visualize_batch(x, x, step_i)\n",
        "    #     plot_loss(g_loss_log)\n",
        "    #     plot_loss(d_loss_log)\n",
        "    #     export_model(ca, 'train_log/%04d'%step_i)"
      ]
    },
    {
      "cell_type": "code",
      "execution_count": 214,
      "metadata": {},
      "outputs": [],
      "source": [
        "#@title Wasserstein loss\n",
        "# calculate wasserstein loss\n",
        "def wasserstein_loss(y_true, y_pred):\n",
        "    y_true = tf.where(y_true == 1., tf.constant(-1., dtype=tf.float32), tf.constant(1., dtype=tf.float32))\n",
        "    return tf.keras.backend.mean(y_true * y_pred)\n",
        "\n",
        "# def build_critic(input_shape=(28, 28, 1)):\n",
        "# \t# weight initialization\n",
        "# \tinit = RandomNormal(stddev=0.02)\n",
        "# \t# weight constraint\n",
        "# \tconst = ClipConstraint(0.01)\n",
        "# \t# define model\n",
        "# \tmodel = tf.keras.Sequential()\n",
        "# \t# downsample to 14x14\n",
        "# \tmodel.add(Conv2D(64, (4,4), strides=(2,2), padding='same', kernel_initializer=init, kernel_constraint=const, input_shape=input_shape))\n",
        "# \tmodel.add(BatchNormalization()) #kernel_constraint=const\n",
        "# \tmodel.add(LeakyReLU(alpha=0.2))\n",
        "# \t# downsample to 7x7\n",
        "# \tmodel.add(Conv2D(64, (4,4), strides=(2,2), padding='same', kernel_initializer=init, kernel_constraint=const))\n",
        "# \tmodel.add(BatchNormalization()) #kernel_constraint=const\n",
        "# \tmodel.add(LeakyReLU(alpha=0.2))\n",
        "# \t# scoring, linear activation\n",
        "# \tmodel.add(Flatten())\n",
        "# \tmodel.add(Dense(1)) #kernel_constraint=const\n",
        "# \t# compile model\n",
        "# \topt = RMSprop(lr=0.00005)\n",
        "# \tmodel.compile(loss=wasserstein_loss, optimizer=opt)\n",
        "# \treturn model\n",
        "\n",
        "# critic = build_critic()\n",
        "# critic.compile(optimizer=tf.keras.optimizers.legacy.Adam(0.0002, 0.5), loss='binary_crossentropy', metrics=['accuracy'])\n",
        "\n",
        "# critic.summary()\n",
        "    \n",
        "\n"
      ]
    },
    {
      "cell_type": "code",
      "execution_count": 215,
      "metadata": {},
      "outputs": [],
      "source": [
        "# This method returns a helper function to compute cross entropy loss\n",
        "cross_entropy = tf.keras.losses.BinaryCrossentropy(from_logits=True)\n",
        "\n",
        "def generator_loss(fake_output):\n",
        "    # return -tf.reduce_mean(fake_output) # WGAN\n",
        "    return cross_entropy(tf.ones_like(fake_output), fake_output) # Normal cross entropy\n",
        "\n",
        "def discriminator_loss(real_output, real_labels, fake_output):\n",
        "\n",
        "    # return tf.reduce_mean(fake_output) - tf.reduce_mean(real_output)\n",
        "\n",
        "    # real_targets = tf.where(real_labels == TARGET_DIGIT, tf.ones_like(real_labels), tf.zeros_like(real_labels))\n",
        "    # real_loss = cross_entropy(real_targets, real_output)\n",
        "    # return real_loss\n",
        "\n",
        "    if WGAN:\n",
        "        real_targets = tf.where(real_labels == 1., tf.ones_like(real_labels), tf.zeros_like(real_labels))\n",
        "        \n",
        "        real_loss = wasserstein_loss(real_targets, real_output)\n",
        "        # return real_loss\n",
        "        fake_loss = wasserstein_loss(tf.zeros_like(fake_output), fake_output)\n",
        "\n",
        "        total_loss = fake_loss * 0 + real_loss # TOCHECK do we want to scale the fake loss by the batch size?\n",
        "        return total_loss\n",
        "    else: \n",
        "        real_targets = tf.where(real_labels == 1., tf.ones_like(real_labels), tf.zeros_like(real_labels))\n",
        "        \n",
        "        real_loss = cross_entropy(real_targets, real_output)\n",
        "        # return real_loss\n",
        "        fake_loss = cross_entropy(tf.zeros_like(fake_output), fake_output)\n",
        "\n",
        "        total_loss = fake_loss * 0 + real_loss # TOCHECK do we want to scale the fake loss by the batch size?\n",
        "        return total_loss\n",
        "\n",
        "\n",
        "if TRAIN_DISCRIMINATOR:\n",
        "    EPOCHS = 1000\n",
        "    num_examples_to_generate = BATCH_SIZE\n",
        "\n",
        "\n",
        "    h = 28\n",
        "    w = 28\n",
        "    seed = make_seed(1, height = 1, width = 1)\n",
        "\n",
        "    generator = build_generator()\n",
        "    discriminator = build_discriminator()\n",
        "\n",
        "    generator.set_weights(ca.get_weights())\n",
        "\n",
        "    g_loss_log = []\n",
        "    d_loss_log = []\n",
        "\n",
        "    loss0 = generator_loss(seed).numpy()\n",
        "    !mkdir -p train_log && rm -f train_log/*\n",
        "\n",
        "    noise_factor = 0\n",
        "    lr_gen = 2e-50\n",
        "    lr_disc = 1e-4\n",
        "\n",
        "    lr_sched_gen = tf.keras.optimizers.schedules.PiecewiseConstantDecay(\n",
        "        [2000], [lr_gen, lr_gen * 0.1])\n",
        "    lr_sched_disc = tf.keras.optimizers.schedules.PiecewiseConstantDecay(\n",
        "        [2000], [lr_disc, lr_disc * 0.1])\n",
        "\n",
        "    # Optimizers\n",
        "    generator_optimizer = tf.keras.optimizers.legacy.Adam(lr_sched_gen)\n",
        "    discriminator_optimizer = tf.keras.optimizers.legacy.Adam(lr_sched_disc)\n",
        "\n",
        "    train(x_train, EPOCHS)"
      ]
    },
    {
      "cell_type": "code",
      "execution_count": 216,
      "metadata": {},
      "outputs": [],
      "source": [
        "if TRAIN_DISCRIMINATOR:\n",
        "  discriminator.save_weights(f\"disc_{TARGET_DIGIT}.h5\")"
      ]
    },
    {
      "cell_type": "code",
      "execution_count": 217,
      "metadata": {},
      "outputs": [],
      "source": [
        "discriminator.load_weights(f\"disc_{TARGET_DIGIT}.h5\")"
      ]
    },
    {
      "cell_type": "markdown",
      "metadata": {},
      "source": [
        "WGAN critic"
      ]
    },
    {
      "cell_type": "code",
      "execution_count": 218,
      "metadata": {},
      "outputs": [],
      "source": [
        "#@title Initialize Training\n",
        "\n",
        "def generator_loss(fake_output):\n",
        "    # return -tf.reduce_mean(fake_output) # WGAN\n",
        "    if WGAN: \n",
        "        wgan_loss = wasserstein_loss(tf.zeros_like(fake_output), fake_output)\n",
        "        l2_loss = tf.add_n(ca.dmodel.losses)\n",
        "        return wgan_loss + l2_loss\n",
        "    else: \n",
        "        cross_entropy_loss = cross_entropy(tf.ones_like(fake_output), fake_output) # Normal cross entropy\n",
        "        l2_loss = tf.add_n(ca.dmodel.losses)\n",
        "        return cross_entropy_loss + l2_loss\n",
        "\n",
        "def discriminator_loss(real_output, real_labels, fake_output):\n",
        "\n",
        "    if WGAN:\n",
        "        real_targets = tf.where(real_labels == 1., tf.ones_like(real_labels), tf.zeros_like(real_labels))\n",
        "        \n",
        "        real_loss = wasserstein_loss(real_targets, real_output)\n",
        "        # return real_loss\n",
        "        fake_loss = wasserstein_loss(tf.zeros_like(fake_output), fake_output)\n",
        "\n",
        "        total_loss = fake_loss * BATCH_SIZE + real_loss # TOCHECK do we want to scale the fake loss by the batch size?\n",
        "        return total_loss\n",
        "    else: \n",
        "        real_targets = tf.where(real_labels == 1., tf.ones_like(real_labels), tf.zeros_like(real_labels))\n",
        "        \n",
        "        real_loss = cross_entropy(real_targets, real_output)\n",
        "        # return real_loss\n",
        "        fake_loss = cross_entropy(tf.zeros_like(fake_output), fake_output)\n",
        "\n",
        "        total_loss = fake_loss * 1/10 + real_loss # TOCHECK do we want to scale the fake loss by the batch size?\n",
        "        return total_loss"
      ]
    },
    {
      "cell_type": "code",
      "execution_count": 219,
      "metadata": {
        "colab": {
          "base_uri": "https://localhost:8080/",
          "height": 1000
        },
        "id": "yMEQk_caJCR8",
        "outputId": "f68e382e-364b-467b-c00b-6a741130fe13"
      },
      "outputs": [
        {
          "name": "stdout",
          "output_type": "stream",
          "text": [
            "3896.89s - pydevd: Sending message related to process being replaced timed-out after 5 seconds\n",
            "zsh:1: no matches found: train_log/*\n"
          ]
        }
      ],
      "source": [
        "EPOCHS = 1000\n",
        "\n",
        "\n",
        "h = 28\n",
        "w = 28\n",
        "seed = make_seed(1, height = 1, width = 1)\n",
        "\n",
        "generator = build_generator(l2_reg = 0)\n",
        "discriminator = build_discriminator()\n",
        "\n",
        "generator.set_weights(ca.get_weights())\n",
        "discriminator.load_weights(f\"disc_{TARGET_DIGIT}.h5\")\n",
        "\n",
        "g_loss_log = []\n",
        "d_loss_log = []\n",
        "\n",
        "loss0 = generator_loss(seed).numpy()\n",
        "!mkdir -p train_log && rm -f train_log/*\n",
        "\n",
        "\n",
        "\n",
        "# TODO consider weights and biases, tensorboard"
      ]
    },
    {
      "cell_type": "code",
      "execution_count": 220,
      "metadata": {},
      "outputs": [
        {
          "data": {
            "text/plain": [
              "'\\npretrain on multiple images \\nregularised to keep weights small \\nWGAN with regularisation\\nPlot on different axes\\nproper evaluation\\nexplore adversarial part \\n'"
            ]
          },
          "execution_count": 220,
          "metadata": {},
          "output_type": "execute_result"
        }
      ],
      "source": [
        "noise_factor = 0\n",
        "lr_gen = 2e-5\n",
        "lr_disc = 2e-4\n",
        "\n",
        "lr_sched_gen = tf.keras.optimizers.schedules.PiecewiseConstantDecay(\n",
        "    [2000], [lr_gen, lr_gen * 0.1])\n",
        "lr_sched_disc = tf.keras.optimizers.schedules.PiecewiseConstantDecay(\n",
        "    [2000], [lr_disc, lr_disc * 0.1])\n",
        "\n",
        "# Optimizers\n",
        "generator_optimizer = tf.keras.optimizers.legacy.Adam(lr_sched_gen)\n",
        "discriminator_optimizer = tf.keras.optimizers.legacy.Adam(lr_sched_disc)\n",
        "\n",
        "\"\"\"\n",
        "pretrain on multiple images \n",
        "regularised to keep weights small \n",
        "WGAN with regularisation\n",
        "Plot on different axes\n",
        "proper evaluation\n",
        "explore adversarial part \n",
        "\"\"\"\n"
      ]
    },
    {
      "cell_type": "code",
      "execution_count": 221,
      "metadata": {},
      "outputs": [
        {
          "name": "stdout",
          "output_type": "stream",
          "text": [
            "Iters:  tf.Tensor(70, shape=(), dtype=int32)\n"
          ]
        },
        {
          "data": {
            "image/png": "[encoded data removed]",
            "text/plain": [
              "<Figure size 640x480 with 1 Axes>"
            ]
          },
          "metadata": {},
          "output_type": "display_data"
        },
        {
          "name": "stdout",
          "output_type": "stream",
          "text": [
            "(1, 28, 28, 16)\n",
            "9\n",
            "Epoch 64, Generator loss: 9.5220, Discriminator loss: 0.1851\n",
            "Time for epoch 64 is 1.7878761291503906 sec\n"
          ]
        },
        {
          "data": {
            "image/png": "[encoded data removed]",
            "text/plain": [
              "<Figure size 1000x1000 with 2 Axes>"
            ]
          },
          "metadata": {},
          "output_type": "display_data"
        },
        {
          "ename": "KeyboardInterrupt",
          "evalue": "",
          "output_type": "error",
          "traceback": [
            "\u001b[0;31m---------------------------------------------------------------------------\u001b[0m",
            "\u001b[0;31mKeyboardInterrupt\u001b[0m                         Traceback (most recent call last)",
            "Cell \u001b[0;32mIn[221], line 1\u001b[0m\n\u001b[0;32m----> 1\u001b[0m \u001b[43mtrain\u001b[49m\u001b[43m(\u001b[49m\u001b[43mx_train\u001b[49m\u001b[43m,\u001b[49m\u001b[43m \u001b[49m\u001b[43mEPOCHS\u001b[49m\u001b[43m,\u001b[49m\u001b[43m \u001b[49m\u001b[43mgen_iters_per_disc_iter\u001b[49m\u001b[38;5;241;43m=\u001b[39;49m\u001b[38;5;241;43m10\u001b[39;49m\u001b[43m)\u001b[49m\n",
            "Cell \u001b[0;32mIn[213], line 97\u001b[0m, in \u001b[0;36mtrain\u001b[0;34m(dataset, epochs, gen_iters_per_disc_iter)\u001b[0m\n\u001b[1;32m     95\u001b[0m \u001b[38;5;28;01melse\u001b[39;00m: \n\u001b[1;32m     96\u001b[0m     update_disc \u001b[38;5;241m=\u001b[39m tf\u001b[38;5;241m.\u001b[39mconstant(\u001b[38;5;28;01mFalse\u001b[39;00m)\n\u001b[0;32m---> 97\u001b[0m gen_loss, disc_loss \u001b[38;5;241m=\u001b[39m \u001b[43mtrain_step\u001b[49m\u001b[43m(\u001b[49m\u001b[43mimage_batch\u001b[49m\u001b[43m,\u001b[49m\u001b[43m \u001b[49m\u001b[43mlabel_batch\u001b[49m\u001b[43m,\u001b[49m\u001b[43m \u001b[49m\u001b[43mupdate_disc\u001b[49m\u001b[38;5;241;43m=\u001b[39;49m\u001b[43mupdate_disc\u001b[49m\u001b[43m)\u001b[49m\n\u001b[1;32m     98\u001b[0m epoch_gen_loss \u001b[38;5;241m+\u001b[39m\u001b[38;5;241m=\u001b[39m gen_loss\n\u001b[1;32m     99\u001b[0m epoch_disc_loss \u001b[38;5;241m+\u001b[39m\u001b[38;5;241m=\u001b[39m disc_loss\n",
            "File \u001b[0;32m~/ML/lib/python3.11/site-packages/tensorflow/python/util/traceback_utils.py:150\u001b[0m, in \u001b[0;36mfilter_traceback.<locals>.error_handler\u001b[0;34m(*args, **kwargs)\u001b[0m\n\u001b[1;32m    148\u001b[0m filtered_tb \u001b[38;5;241m=\u001b[39m \u001b[38;5;28;01mNone\u001b[39;00m\n\u001b[1;32m    149\u001b[0m \u001b[38;5;28;01mtry\u001b[39;00m:\n\u001b[0;32m--> 150\u001b[0m   \u001b[38;5;28;01mreturn\u001b[39;00m \u001b[43mfn\u001b[49m\u001b[43m(\u001b[49m\u001b[38;5;241;43m*\u001b[39;49m\u001b[43margs\u001b[49m\u001b[43m,\u001b[49m\u001b[43m \u001b[49m\u001b[38;5;241;43m*\u001b[39;49m\u001b[38;5;241;43m*\u001b[39;49m\u001b[43mkwargs\u001b[49m\u001b[43m)\u001b[49m\n\u001b[1;32m    151\u001b[0m \u001b[38;5;28;01mexcept\u001b[39;00m \u001b[38;5;167;01mException\u001b[39;00m \u001b[38;5;28;01mas\u001b[39;00m e:\n\u001b[1;32m    152\u001b[0m   filtered_tb \u001b[38;5;241m=\u001b[39m _process_traceback_frames(e\u001b[38;5;241m.\u001b[39m__traceback__)\n",
            "File \u001b[0;32m~/ML/lib/python3.11/site-packages/tensorflow/python/eager/polymorphic_function/polymorphic_function.py:831\u001b[0m, in \u001b[0;36mFunction.__call__\u001b[0;34m(self, *args, **kwds)\u001b[0m\n\u001b[1;32m    828\u001b[0m compiler \u001b[38;5;241m=\u001b[39m \u001b[38;5;124m\"\u001b[39m\u001b[38;5;124mxla\u001b[39m\u001b[38;5;124m\"\u001b[39m \u001b[38;5;28;01mif\u001b[39;00m \u001b[38;5;28mself\u001b[39m\u001b[38;5;241m.\u001b[39m_jit_compile \u001b[38;5;28;01melse\u001b[39;00m \u001b[38;5;124m\"\u001b[39m\u001b[38;5;124mnonXla\u001b[39m\u001b[38;5;124m\"\u001b[39m\n\u001b[1;32m    830\u001b[0m \u001b[38;5;28;01mwith\u001b[39;00m OptionalXlaContext(\u001b[38;5;28mself\u001b[39m\u001b[38;5;241m.\u001b[39m_jit_compile):\n\u001b[0;32m--> 831\u001b[0m   result \u001b[38;5;241m=\u001b[39m \u001b[38;5;28;43mself\u001b[39;49m\u001b[38;5;241;43m.\u001b[39;49m\u001b[43m_call\u001b[49m\u001b[43m(\u001b[49m\u001b[38;5;241;43m*\u001b[39;49m\u001b[43margs\u001b[49m\u001b[43m,\u001b[49m\u001b[43m \u001b[49m\u001b[38;5;241;43m*\u001b[39;49m\u001b[38;5;241;43m*\u001b[39;49m\u001b[43mkwds\u001b[49m\u001b[43m)\u001b[49m\n\u001b[1;32m    833\u001b[0m new_tracing_count \u001b[38;5;241m=\u001b[39m \u001b[38;5;28mself\u001b[39m\u001b[38;5;241m.\u001b[39mexperimental_get_tracing_count()\n\u001b[1;32m    834\u001b[0m without_tracing \u001b[38;5;241m=\u001b[39m (tracing_count \u001b[38;5;241m==\u001b[39m new_tracing_count)\n",
            "File \u001b[0;32m~/ML/lib/python3.11/site-packages/tensorflow/python/eager/polymorphic_function/polymorphic_function.py:867\u001b[0m, in \u001b[0;36mFunction._call\u001b[0;34m(self, *args, **kwds)\u001b[0m\n\u001b[1;32m    864\u001b[0m   \u001b[38;5;28mself\u001b[39m\u001b[38;5;241m.\u001b[39m_lock\u001b[38;5;241m.\u001b[39mrelease()\n\u001b[1;32m    865\u001b[0m   \u001b[38;5;66;03m# In this case we have created variables on the first call, so we run the\u001b[39;00m\n\u001b[1;32m    866\u001b[0m   \u001b[38;5;66;03m# defunned version which is guaranteed to never create variables.\u001b[39;00m\n\u001b[0;32m--> 867\u001b[0m   \u001b[38;5;28;01mreturn\u001b[39;00m \u001b[43mtracing_compilation\u001b[49m\u001b[38;5;241;43m.\u001b[39;49m\u001b[43mcall_function\u001b[49m\u001b[43m(\u001b[49m\n\u001b[1;32m    868\u001b[0m \u001b[43m      \u001b[49m\u001b[43margs\u001b[49m\u001b[43m,\u001b[49m\u001b[43m \u001b[49m\u001b[43mkwds\u001b[49m\u001b[43m,\u001b[49m\u001b[43m \u001b[49m\u001b[38;5;28;43mself\u001b[39;49m\u001b[38;5;241;43m.\u001b[39;49m\u001b[43m_no_variable_creation_config\u001b[49m\n\u001b[1;32m    869\u001b[0m \u001b[43m  \u001b[49m\u001b[43m)\u001b[49m\n\u001b[1;32m    870\u001b[0m \u001b[38;5;28;01melif\u001b[39;00m \u001b[38;5;28mself\u001b[39m\u001b[38;5;241m.\u001b[39m_variable_creation_config \u001b[38;5;129;01mis\u001b[39;00m \u001b[38;5;129;01mnot\u001b[39;00m \u001b[38;5;28;01mNone\u001b[39;00m:\n\u001b[1;32m    871\u001b[0m   \u001b[38;5;66;03m# Release the lock early so that multiple threads can perform the call\u001b[39;00m\n\u001b[1;32m    872\u001b[0m   \u001b[38;5;66;03m# in parallel.\u001b[39;00m\n\u001b[1;32m    873\u001b[0m   \u001b[38;5;28mself\u001b[39m\u001b[38;5;241m.\u001b[39m_lock\u001b[38;5;241m.\u001b[39mrelease()\n",
            "File \u001b[0;32m~/ML/lib/python3.11/site-packages/tensorflow/python/eager/polymorphic_function/tracing_compilation.py:139\u001b[0m, in \u001b[0;36mcall_function\u001b[0;34m(args, kwargs, tracing_options)\u001b[0m\n\u001b[1;32m    137\u001b[0m bound_args \u001b[38;5;241m=\u001b[39m function\u001b[38;5;241m.\u001b[39mfunction_type\u001b[38;5;241m.\u001b[39mbind(\u001b[38;5;241m*\u001b[39margs, \u001b[38;5;241m*\u001b[39m\u001b[38;5;241m*\u001b[39mkwargs)\n\u001b[1;32m    138\u001b[0m flat_inputs \u001b[38;5;241m=\u001b[39m function\u001b[38;5;241m.\u001b[39mfunction_type\u001b[38;5;241m.\u001b[39munpack_inputs(bound_args)\n\u001b[0;32m--> 139\u001b[0m \u001b[38;5;28;01mreturn\u001b[39;00m \u001b[43mfunction\u001b[49m\u001b[38;5;241;43m.\u001b[39;49m\u001b[43m_call_flat\u001b[49m\u001b[43m(\u001b[49m\u001b[43m  \u001b[49m\u001b[38;5;66;43;03m# pylint: disable=protected-access\u001b[39;49;00m\n\u001b[1;32m    140\u001b[0m \u001b[43m    \u001b[49m\u001b[43mflat_inputs\u001b[49m\u001b[43m,\u001b[49m\u001b[43m \u001b[49m\u001b[43mcaptured_inputs\u001b[49m\u001b[38;5;241;43m=\u001b[39;49m\u001b[43mfunction\u001b[49m\u001b[38;5;241;43m.\u001b[39;49m\u001b[43mcaptured_inputs\u001b[49m\n\u001b[1;32m    141\u001b[0m \u001b[43m\u001b[49m\u001b[43m)\u001b[49m\n",
            "File \u001b[0;32m~/ML/lib/python3.11/site-packages/tensorflow/python/eager/polymorphic_function/concrete_function.py:1264\u001b[0m, in \u001b[0;36mConcreteFunction._call_flat\u001b[0;34m(self, tensor_inputs, captured_inputs)\u001b[0m\n\u001b[1;32m   1260\u001b[0m possible_gradient_type \u001b[38;5;241m=\u001b[39m gradients_util\u001b[38;5;241m.\u001b[39mPossibleTapeGradientTypes(args)\n\u001b[1;32m   1261\u001b[0m \u001b[38;5;28;01mif\u001b[39;00m (possible_gradient_type \u001b[38;5;241m==\u001b[39m gradients_util\u001b[38;5;241m.\u001b[39mPOSSIBLE_GRADIENT_TYPES_NONE\n\u001b[1;32m   1262\u001b[0m     \u001b[38;5;129;01mand\u001b[39;00m executing_eagerly):\n\u001b[1;32m   1263\u001b[0m   \u001b[38;5;66;03m# No tape is watching; skip to running the function.\u001b[39;00m\n\u001b[0;32m-> 1264\u001b[0m   \u001b[38;5;28;01mreturn\u001b[39;00m \u001b[38;5;28;43mself\u001b[39;49m\u001b[38;5;241;43m.\u001b[39;49m\u001b[43m_inference_function\u001b[49m\u001b[38;5;241;43m.\u001b[39;49m\u001b[43mflat_call\u001b[49m\u001b[43m(\u001b[49m\u001b[43margs\u001b[49m\u001b[43m)\u001b[49m\n\u001b[1;32m   1265\u001b[0m forward_backward \u001b[38;5;241m=\u001b[39m \u001b[38;5;28mself\u001b[39m\u001b[38;5;241m.\u001b[39m_select_forward_and_backward_functions(\n\u001b[1;32m   1266\u001b[0m     args,\n\u001b[1;32m   1267\u001b[0m     possible_gradient_type,\n\u001b[1;32m   1268\u001b[0m     executing_eagerly)\n\u001b[1;32m   1269\u001b[0m forward_function, args_with_tangents \u001b[38;5;241m=\u001b[39m forward_backward\u001b[38;5;241m.\u001b[39mforward()\n",
            "File \u001b[0;32m~/ML/lib/python3.11/site-packages/tensorflow/python/eager/polymorphic_function/atomic_function.py:217\u001b[0m, in \u001b[0;36mAtomicFunction.flat_call\u001b[0;34m(self, args)\u001b[0m\n\u001b[1;32m    215\u001b[0m \u001b[38;5;28;01mdef\u001b[39;00m \u001b[38;5;21mflat_call\u001b[39m(\u001b[38;5;28mself\u001b[39m, args: Sequence[core\u001b[38;5;241m.\u001b[39mTensor]) \u001b[38;5;241m-\u001b[39m\u001b[38;5;241m>\u001b[39m Any:\n\u001b[1;32m    216\u001b[0m \u001b[38;5;250m  \u001b[39m\u001b[38;5;124;03m\"\"\"Calls with tensor inputs and returns the structured output.\"\"\"\u001b[39;00m\n\u001b[0;32m--> 217\u001b[0m   flat_outputs \u001b[38;5;241m=\u001b[39m \u001b[38;5;28;43mself\u001b[39;49m\u001b[43m(\u001b[49m\u001b[38;5;241;43m*\u001b[39;49m\u001b[43margs\u001b[49m\u001b[43m)\u001b[49m\n\u001b[1;32m    218\u001b[0m   \u001b[38;5;28;01mreturn\u001b[39;00m \u001b[38;5;28mself\u001b[39m\u001b[38;5;241m.\u001b[39mfunction_type\u001b[38;5;241m.\u001b[39mpack_output(flat_outputs)\n",
            "File \u001b[0;32m~/ML/lib/python3.11/site-packages/tensorflow/python/eager/polymorphic_function/atomic_function.py:252\u001b[0m, in \u001b[0;36mAtomicFunction.__call__\u001b[0;34m(self, *args)\u001b[0m\n\u001b[1;32m    250\u001b[0m \u001b[38;5;28;01mwith\u001b[39;00m record\u001b[38;5;241m.\u001b[39mstop_recording():\n\u001b[1;32m    251\u001b[0m   \u001b[38;5;28;01mif\u001b[39;00m \u001b[38;5;28mself\u001b[39m\u001b[38;5;241m.\u001b[39m_bound_context\u001b[38;5;241m.\u001b[39mexecuting_eagerly():\n\u001b[0;32m--> 252\u001b[0m     outputs \u001b[38;5;241m=\u001b[39m \u001b[38;5;28;43mself\u001b[39;49m\u001b[38;5;241;43m.\u001b[39;49m\u001b[43m_bound_context\u001b[49m\u001b[38;5;241;43m.\u001b[39;49m\u001b[43mcall_function\u001b[49m\u001b[43m(\u001b[49m\n\u001b[1;32m    253\u001b[0m \u001b[43m        \u001b[49m\u001b[38;5;28;43mself\u001b[39;49m\u001b[38;5;241;43m.\u001b[39;49m\u001b[43mname\u001b[49m\u001b[43m,\u001b[49m\n\u001b[1;32m    254\u001b[0m \u001b[43m        \u001b[49m\u001b[38;5;28;43mlist\u001b[39;49m\u001b[43m(\u001b[49m\u001b[43margs\u001b[49m\u001b[43m)\u001b[49m\u001b[43m,\u001b[49m\n\u001b[1;32m    255\u001b[0m \u001b[43m        \u001b[49m\u001b[38;5;28;43mlen\u001b[39;49m\u001b[43m(\u001b[49m\u001b[38;5;28;43mself\u001b[39;49m\u001b[38;5;241;43m.\u001b[39;49m\u001b[43mfunction_type\u001b[49m\u001b[38;5;241;43m.\u001b[39;49m\u001b[43mflat_outputs\u001b[49m\u001b[43m)\u001b[49m\u001b[43m,\u001b[49m\n\u001b[1;32m    256\u001b[0m \u001b[43m    \u001b[49m\u001b[43m)\u001b[49m\n\u001b[1;32m    257\u001b[0m   \u001b[38;5;28;01melse\u001b[39;00m:\n\u001b[1;32m    258\u001b[0m     outputs \u001b[38;5;241m=\u001b[39m make_call_op_in_graph(\n\u001b[1;32m    259\u001b[0m         \u001b[38;5;28mself\u001b[39m,\n\u001b[1;32m    260\u001b[0m         \u001b[38;5;28mlist\u001b[39m(args),\n\u001b[1;32m    261\u001b[0m         \u001b[38;5;28mself\u001b[39m\u001b[38;5;241m.\u001b[39m_bound_context\u001b[38;5;241m.\u001b[39mfunction_call_options\u001b[38;5;241m.\u001b[39mas_attrs(),\n\u001b[1;32m    262\u001b[0m     )\n",
            "File \u001b[0;32m~/ML/lib/python3.11/site-packages/tensorflow/python/eager/context.py:1479\u001b[0m, in \u001b[0;36mContext.call_function\u001b[0;34m(self, name, tensor_inputs, num_outputs)\u001b[0m\n\u001b[1;32m   1477\u001b[0m cancellation_context \u001b[38;5;241m=\u001b[39m cancellation\u001b[38;5;241m.\u001b[39mcontext()\n\u001b[1;32m   1478\u001b[0m \u001b[38;5;28;01mif\u001b[39;00m cancellation_context \u001b[38;5;129;01mis\u001b[39;00m \u001b[38;5;28;01mNone\u001b[39;00m:\n\u001b[0;32m-> 1479\u001b[0m   outputs \u001b[38;5;241m=\u001b[39m \u001b[43mexecute\u001b[49m\u001b[38;5;241;43m.\u001b[39;49m\u001b[43mexecute\u001b[49m\u001b[43m(\u001b[49m\n\u001b[1;32m   1480\u001b[0m \u001b[43m      \u001b[49m\u001b[43mname\u001b[49m\u001b[38;5;241;43m.\u001b[39;49m\u001b[43mdecode\u001b[49m\u001b[43m(\u001b[49m\u001b[38;5;124;43m\"\u001b[39;49m\u001b[38;5;124;43mutf-8\u001b[39;49m\u001b[38;5;124;43m\"\u001b[39;49m\u001b[43m)\u001b[49m\u001b[43m,\u001b[49m\n\u001b[1;32m   1481\u001b[0m \u001b[43m      \u001b[49m\u001b[43mnum_outputs\u001b[49m\u001b[38;5;241;43m=\u001b[39;49m\u001b[43mnum_outputs\u001b[49m\u001b[43m,\u001b[49m\n\u001b[1;32m   1482\u001b[0m \u001b[43m      \u001b[49m\u001b[43minputs\u001b[49m\u001b[38;5;241;43m=\u001b[39;49m\u001b[43mtensor_inputs\u001b[49m\u001b[43m,\u001b[49m\n\u001b[1;32m   1483\u001b[0m \u001b[43m      \u001b[49m\u001b[43mattrs\u001b[49m\u001b[38;5;241;43m=\u001b[39;49m\u001b[43mattrs\u001b[49m\u001b[43m,\u001b[49m\n\u001b[1;32m   1484\u001b[0m \u001b[43m      \u001b[49m\u001b[43mctx\u001b[49m\u001b[38;5;241;43m=\u001b[39;49m\u001b[38;5;28;43mself\u001b[39;49m\u001b[43m,\u001b[49m\n\u001b[1;32m   1485\u001b[0m \u001b[43m  \u001b[49m\u001b[43m)\u001b[49m\n\u001b[1;32m   1486\u001b[0m \u001b[38;5;28;01melse\u001b[39;00m:\n\u001b[1;32m   1487\u001b[0m   outputs \u001b[38;5;241m=\u001b[39m execute\u001b[38;5;241m.\u001b[39mexecute_with_cancellation(\n\u001b[1;32m   1488\u001b[0m       name\u001b[38;5;241m.\u001b[39mdecode(\u001b[38;5;124m\"\u001b[39m\u001b[38;5;124mutf-8\u001b[39m\u001b[38;5;124m\"\u001b[39m),\n\u001b[1;32m   1489\u001b[0m       num_outputs\u001b[38;5;241m=\u001b[39mnum_outputs,\n\u001b[0;32m   (...)\u001b[0m\n\u001b[1;32m   1493\u001b[0m       cancellation_manager\u001b[38;5;241m=\u001b[39mcancellation_context,\n\u001b[1;32m   1494\u001b[0m   )\n",
            "File \u001b[0;32m~/ML/lib/python3.11/site-packages/tensorflow/python/eager/execute.py:60\u001b[0m, in \u001b[0;36mquick_execute\u001b[0;34m(op_name, num_outputs, inputs, attrs, ctx, name)\u001b[0m\n\u001b[1;32m     53\u001b[0m   \u001b[38;5;66;03m# Convert any objects of type core_types.Tensor to Tensor.\u001b[39;00m\n\u001b[1;32m     54\u001b[0m   inputs \u001b[38;5;241m=\u001b[39m [\n\u001b[1;32m     55\u001b[0m       tensor_conversion_registry\u001b[38;5;241m.\u001b[39mconvert(t)\n\u001b[1;32m     56\u001b[0m       \u001b[38;5;28;01mif\u001b[39;00m \u001b[38;5;28misinstance\u001b[39m(t, core_types\u001b[38;5;241m.\u001b[39mTensor)\n\u001b[1;32m     57\u001b[0m       \u001b[38;5;28;01melse\u001b[39;00m t\n\u001b[1;32m     58\u001b[0m       \u001b[38;5;28;01mfor\u001b[39;00m t \u001b[38;5;129;01min\u001b[39;00m inputs\n\u001b[1;32m     59\u001b[0m   ]\n\u001b[0;32m---> 60\u001b[0m   tensors \u001b[38;5;241m=\u001b[39m \u001b[43mpywrap_tfe\u001b[49m\u001b[38;5;241;43m.\u001b[39;49m\u001b[43mTFE_Py_Execute\u001b[49m\u001b[43m(\u001b[49m\u001b[43mctx\u001b[49m\u001b[38;5;241;43m.\u001b[39;49m\u001b[43m_handle\u001b[49m\u001b[43m,\u001b[49m\u001b[43m \u001b[49m\u001b[43mdevice_name\u001b[49m\u001b[43m,\u001b[49m\u001b[43m \u001b[49m\u001b[43mop_name\u001b[49m\u001b[43m,\u001b[49m\n\u001b[1;32m     61\u001b[0m \u001b[43m                                      \u001b[49m\u001b[43minputs\u001b[49m\u001b[43m,\u001b[49m\u001b[43m \u001b[49m\u001b[43mattrs\u001b[49m\u001b[43m,\u001b[49m\u001b[43m \u001b[49m\u001b[43mnum_outputs\u001b[49m\u001b[43m)\u001b[49m\n\u001b[1;32m     62\u001b[0m \u001b[38;5;28;01mexcept\u001b[39;00m core\u001b[38;5;241m.\u001b[39m_NotOkStatusException \u001b[38;5;28;01mas\u001b[39;00m e:\n\u001b[1;32m     63\u001b[0m   \u001b[38;5;28;01mif\u001b[39;00m name \u001b[38;5;129;01mis\u001b[39;00m \u001b[38;5;129;01mnot\u001b[39;00m \u001b[38;5;28;01mNone\u001b[39;00m:\n",
            "\u001b[0;31mKeyboardInterrupt\u001b[0m: "
          ]
        }
      ],
      "source": [
        "train(x_train, EPOCHS, gen_iters_per_disc_iter=10)"
      ]
    },
    {
      "cell_type": "code",
      "execution_count": 222,
      "metadata": {
        "colab": {
          "base_uri": "https://localhost:8080/"
        },
        "id": "_MnwKwVWnZRc",
        "outputId": "1bd209ca-3c70-4852-f0ca-40c4b6dc0612"
      },
      "outputs": [
        {
          "data": {
            "image/png": "[encoded data removed]",
            "text/plain": [
              "<Figure size 1000x1000 with 16 Axes>"
            ]
          },
          "metadata": {},
          "output_type": "display_data"
        },
        {
          "data": {
            "text/plain": [
              "<tf.Tensor: shape=(16, 1), dtype=float32, numpy=\n",
              "array([[ 3.0370553e+00],\n",
              "       [ 4.2407379e+00],\n",
              "       [ 3.5626597e+00],\n",
              "       [ 3.3276715e+00],\n",
              "       [ 3.7000384e+00],\n",
              "       [ 2.9975996e+00],\n",
              "       [ 4.0889387e+00],\n",
              "       [ 4.6311679e+00],\n",
              "       [ 2.3022585e+00],\n",
              "       [ 1.6650288e+00],\n",
              "       [ 2.7189946e+00],\n",
              "       [ 4.6103740e+00],\n",
              "       [-3.6466653e-03],\n",
              "       [ 3.3115740e+00],\n",
              "       [ 3.3550279e+00],\n",
              "       [ 5.9154558e-01]], dtype=float32)>"
            ]
          },
          "execution_count": 222,
          "metadata": {},
          "output_type": "execute_result"
        }
      ],
      "source": [
        "print_image_sample(noisify(images_of_target[:16], 0))\n",
        "discriminator(images_of_target[:16])"
      ]
    },
    {
      "cell_type": "code",
      "execution_count": 223,
      "metadata": {},
      "outputs": [
        {
          "data": {
            "image/png": "[encoded data removed]",
            "text/plain": [
              "<Figure size 1000x1000 with 16 Axes>"
            ]
          },
          "metadata": {},
          "output_type": "display_data"
        },
        {
          "data": {
            "text/plain": [
              "<tf.Tensor: shape=(16, 1), dtype=float32, numpy=\n",
              "array([[-5.17134   ],\n",
              "       [-6.3513675 ],\n",
              "       [-5.774974  ],\n",
              "       [-1.0664159 ],\n",
              "       [-2.3705008 ],\n",
              "       [-2.7216282 ],\n",
              "       [-1.2951933 ],\n",
              "       [-1.2302473 ],\n",
              "       [-2.0417833 ],\n",
              "       [-3.1180115 ],\n",
              "       [-1.9528565 ],\n",
              "       [-1.5790589 ],\n",
              "       [-4.261249  ],\n",
              "       [-3.5394177 ],\n",
              "       [-0.75611687],\n",
              "       [-4.7771316 ]], dtype=float32)>"
            ]
          },
          "execution_count": 223,
          "metadata": {},
          "output_type": "execute_result"
        }
      ],
      "source": [
        "print_image_sample(noisify(images_of_others[:16], 0))\n",
        "discriminator(images_of_others[:16])"
      ]
    },
    {
      "cell_type": "code",
      "execution_count": 224,
      "metadata": {
        "colab": {
          "base_uri": "https://localhost:8080/",
          "height": 447
        },
        "id": "FRWSfz4JoYbp",
        "outputId": "7eb86183-0402-4c83-98bf-945769fb47f9"
      },
      "outputs": [
        {
          "name": "stdout",
          "output_type": "stream",
          "text": [
            "Iters:  tf.Tensor(70, shape=(), dtype=int32)\n"
          ]
        },
        {
          "data": {
            "image/png": "[encoded data removed]",
            "text/plain": [
              "<Figure size 640x480 with 1 Axes>"
            ]
          },
          "metadata": {},
          "output_type": "display_data"
        },
        {
          "name": "stdout",
          "output_type": "stream",
          "text": [
            "(1, 28, 28, 16)\n"
          ]
        },
        {
          "data": {
            "image/png": "[encoded data removed]",
            "text/plain": [
              "<Figure size 1000x1000 with 1 Axes>"
            ]
          },
          "metadata": {},
          "output_type": "display_data"
        },
        {
          "data": {
            "text/plain": [
              "<tf.Tensor: shape=(1, 1), dtype=float32, numpy=array([[-8.278423]], dtype=float32)>"
            ]
          },
          "execution_count": 224,
          "metadata": {},
          "output_type": "execute_result"
        }
      ],
      "source": [
        "image = noisify(generate_and_save_images(generator,0,seed)[None,...], 0)\n",
        "print_image_sample(image[..., None])\n",
        "\n",
        "discriminator(image)"
      ]
    },
    {
      "cell_type": "code",
      "execution_count": null,
      "metadata": {
        "id": "obtWBBwLJLD1"
      },
      "outputs": [
        {
          "data": {
            "text/plain": [
              "<tensorflow.python.checkpoint.checkpoint.CheckpointLoadStatus at 0x3a4655f50>"
            ]
          },
          "execution_count": 1439,
          "metadata": {},
          "output_type": "execute_result"
        }
      ],
      "source": [
        "checkpoint.restore(tf.train.latest_checkpoint(checkpoint_dir))"
      ]
    },
    {
      "cell_type": "code",
      "execution_count": null,
      "metadata": {
        "id": "rAj81WGEJMdV"
      },
      "outputs": [],
      "source": [
        "# Display a single image using the epoch number\n",
        "def display_image(epoch_no):\n",
        "  return PIL.Image.open('image_at_epoch_{:04d}.png'.format(epoch_no))"
      ]
    },
    {
      "cell_type": "code",
      "execution_count": null,
      "metadata": {
        "id": "iRZgzAMaJOSg"
      },
      "outputs": [],
      "source": [
        "import imageio\n",
        "anim_file = 'dcgan.gif'\n",
        "\n",
        "with imageio.get_writer(anim_file, mode='I') as writer:\n",
        "  filenames = glob.glob('image*.png')\n",
        "  filenames = sorted(filenames)\n",
        "  for filename in filenames:\n",
        "    image = imageio.imread(filename)\n",
        "    writer.append_data(image)\n",
        "  image = imageio.imread(filename)\n",
        "  writer.append_data(image)"
      ]
    },
    {
      "cell_type": "code",
      "execution_count": null,
      "metadata": {
        "id": "gtX48kuzJP-W"
      },
      "outputs": [
        {
          "ename": "ModuleNotFoundError",
          "evalue": "No module named 'tensorflow_docs'",
          "output_type": "error",
          "traceback": [
            "\u001b[0;31m---------------------------------------------------------------------------\u001b[0m",
            "\u001b[0;31mModuleNotFoundError\u001b[0m                       Traceback (most recent call last)",
            "Cell \u001b[0;32mIn[1442], line 1\u001b[0m\n\u001b[0;32m----> 1\u001b[0m \u001b[38;5;28;01mimport\u001b[39;00m \u001b[38;5;21;01mtensorflow_docs\u001b[39;00m\u001b[38;5;21;01m.\u001b[39;00m\u001b[38;5;21;01mvis\u001b[39;00m\u001b[38;5;21;01m.\u001b[39;00m\u001b[38;5;21;01membed\u001b[39;00m \u001b[38;5;28;01mas\u001b[39;00m \u001b[38;5;21;01membed\u001b[39;00m\n\u001b[1;32m      2\u001b[0m embed\u001b[38;5;241m.\u001b[39membed_file(anim_file)\n",
            "\u001b[0;31mModuleNotFoundError\u001b[0m: No module named 'tensorflow_docs'"
          ]
        }
      ],
      "source": [
        "import tensorflow_docs.vis.embed as embed\n",
        "embed.embed_file(anim_file)"
      ]
    },
    {
      "cell_type": "code",
      "execution_count": null,
      "metadata": {
        "id": "kjX1dnp4X7k3"
      },
      "outputs": [],
      "source": []
    },
    {
      "cell_type": "code",
      "execution_count": null,
      "metadata": {
        "id": "ZIUtvziXu2o1"
      },
      "outputs": [],
      "source": []
    },
    {
      "cell_type": "code",
      "execution_count": null,
      "metadata": {
        "id": "pny9xMS-t65y"
      },
      "outputs": [],
      "source": []
    },
    {
      "cell_type": "code",
      "execution_count": null,
      "metadata": {
        "id": "Hzxr2UuCt60H"
      },
      "outputs": [],
      "source": []
    },
    {
      "cell_type": "code",
      "execution_count": null,
      "metadata": {
        "id": "PvIlNJbjt6xg"
      },
      "outputs": [],
      "source": []
    },
    {
      "cell_type": "code",
      "execution_count": null,
      "metadata": {
        "id": "8ezD9UoSt6sP"
      },
      "outputs": [],
      "source": []
    },
    {
      "cell_type": "code",
      "execution_count": null,
      "metadata": {
        "id": "ySejRoQPt6il"
      },
      "outputs": [],
      "source": []
    },
    {
      "cell_type": "code",
      "execution_count": null,
      "metadata": {},
      "outputs": [],
      "source": []
    },
    {
      "cell_type": "code",
      "execution_count": null,
      "metadata": {},
      "outputs": [],
      "source": []
    },
    {
      "cell_type": "code",
      "execution_count": null,
      "metadata": {},
      "outputs": [],
      "source": []
    },
    {
      "cell_type": "code",
      "execution_count": null,
      "metadata": {},
      "outputs": [],
      "source": []
    },
    {
      "cell_type": "code",
      "execution_count": null,
      "metadata": {},
      "outputs": [],
      "source": []
    }
  ],
  "metadata": {
    "accelerator": "GPU",
    "colab": {
      "gpuType": "T4",
      "provenance": []
    },
    "kernelspec": {
      "display_name": "Python 3",
      "name": "python3"
    },
    "language_info": {
      "codemirror_mode": {
        "name": "ipython",
        "version": 3
      },
      "file_extension": ".py",
      "mimetype": "text/x-python",
      "name": "python",
      "nbconvert_exporter": "python",
      "pygments_lexer": "ipython3",
      "version": "3.11.6"
    }
  },
  "nbformat": 4,
  "nbformat_minor": 0
}
