{
 "cells": [
  {
   "cell_type": "markdown",
   "metadata": {},
   "source": [
    "# 3rd Year Project - Alfred Backhouse\n",
    "## Training creative cellular automata using GANs. "
   ]
  },
  {
   "cell_type": "markdown",
   "metadata": {},
   "source": [
    "on server: \n",
    "ssh alfred@conway.cs.ox.ac.uk\n",
    "jupyter notebook --no-browser --port 8080\n",
    "on local: ssh -NL 8080:localhost:8080 alfred@conway.cs.ox.ac.uk"
   ]
  },
  {
   "cell_type": "markdown",
   "metadata": {},
   "source": [
    "# Set some initial parameters "
   ]
  },
  {
   "cell_type": "code",
   "execution_count": 1,
   "metadata": {},
   "outputs": [],
   "source": [
    "iter_n = 120\n",
    "CHANNEL_N = 16 # Number of CA state channels\n",
    "CELL_FIRE_RATE = 0.5\n",
    "SEED_STD = 0.1\n",
    "batch_size = 64"
   ]
  },
  {
   "cell_type": "markdown",
   "metadata": {},
   "source": [
    "# Imports and image / video utities "
   ]
  },
  {
   "cell_type": "code",
   "execution_count": 2,
   "metadata": {},
   "outputs": [],
   "source": [
    "import numpy as np\n",
    "import matplotlib.pylab as pl\n",
    "\n",
    "import tensorflow as tf\n",
    "from tensorflow.keras.layers import Conv2D\n",
    "from tensorflow.keras import backend\n",
    "from tensorflow.keras.layers import Conv2D, Flatten, Dense, BatchNormalization, LeakyReLU, Dropout\n",
    "from tensorflow.keras.initializers import Initializer\n",
    "from tensorflow.keras.regularizers import l2\n",
    "from tensorflow.keras.constraints import Constraint\n",
    "import matplotlib.pyplot as plt\n",
    "from IPython.display import clear_output\n",
    "import os"
   ]
  },
  {
   "cell_type": "code",
   "execution_count": null,
   "metadata": {},
   "outputs": [],
   "source": [
    "# os.environ['CUDA_VISIBLE_DEVICES'] = '2'"
   ]
  },
  {
   "cell_type": "markdown",
   "metadata": {},
   "source": [
    "# Load training data"
   ]
  },
  {
   "cell_type": "code",
   "execution_count": 3,
   "metadata": {},
   "outputs": [],
   "source": [
    "# Load MNIST data\n",
    "(original_train_images, original_train_labels), (_, _) = tf.keras.datasets.mnist.load_data()\n",
    "\n",
    "# Normalize and reshape the entire dataset before splitting\n",
    "normalized_images = original_train_images.reshape(original_train_images.shape[0], -1).astype('float32') / 255\n",
    "\n",
    "# Define a split ratio for the dataset\n",
    "split_ratio = 0.8  # e.g., 80% for training, 20% for validation / testing\n",
    "\n",
    "# Calculate the number of images to include in the training set\n",
    "num_train_images = int(len(normalized_images) * split_ratio)\n",
    "\n",
    "# Split the images and labels into training and test sets\n",
    "train_images = normalized_images[:num_train_images]\n",
    "train_labels = original_train_labels[:num_train_images]\n",
    "val_images = normalized_images[num_train_images:]\n",
    "val_labels = original_train_labels[num_train_images:]\n",
    "\n",
    "# Create a TensorFlow dataset for each digit in the training set\n",
    "datasets = []\n",
    "for digit in range(10):\n",
    "    idx = train_labels == digit\n",
    "    digit_images = train_images[idx]\n",
    "    datasets.append(tf.data.Dataset.from_tensor_slices(digit_images).shuffle(1000).batch(60))"
   ]
  },
  {
   "cell_type": "code",
   "execution_count": null,
   "metadata": {},
   "outputs": [],
   "source": [
    "# Check gpu\n",
    "print(\"Num GPUs Available: \", len(tf.config.experimental.list_physical_devices('GPU')))"
   ]
  },
  {
   "cell_type": "markdown",
   "metadata": {},
   "source": [
    "# Build the CA / generator model (with some utitilies for this)"
   ]
  },
  {
   "cell_type": "code",
   "execution_count": 9,
   "metadata": {},
   "outputs": [
    {
     "name": "stdout",
     "output_type": "stream",
     "text": [
      "Model: \"sequential_23\"\n",
      "_________________________________________________________________\n",
      " Layer (type)                Output Shape              Param #   \n",
      "=================================================================\n",
      " conv2d_34 (Conv2D)          (1, 3, 3, 80)             6480      \n",
      "                                                                 \n",
      " conv2d_35 (Conv2D)          (1, 3, 3, 16)             1296      \n",
      "                                                                 \n",
      "=================================================================\n",
      "Total params: 7776 (30.38 KB)\n",
      "Trainable params: 7776 (30.38 KB)\n",
      "Non-trainable params: 0 (0.00 Byte)\n",
      "_________________________________________________________________\n"
     ]
    }
   ],
   "source": [
    "#@title CA model and utils\n",
    "def to_greyscale(x):\n",
    "    y = tf.clip_by_value(x[..., 0:1], 0.0, 1.0)\n",
    "    return y\n",
    "\n",
    "def get_living_mask(x):\n",
    "    alpha = x[:, :, :, 0:1]\n",
    "    return tf.nn.max_pool2d(alpha, 3, [1, 1, 1, 1], 'SAME') > 0.1\n",
    "\n",
    "def make_seed(num_examples):\n",
    "    h, w = 28,28\n",
    "    seed = np.zeros([num_examples, h, w, CHANNEL_N], np.float32)\n",
    "    for i in range(h//2 - 1, h//2 + 1):\n",
    "        for j in range(w//2-1, w//2 + 1):\n",
    "            seed[:, i, j, 0] = np.random.uniform(1, 1, size = num_examples)\n",
    "            seed[:, i, j, 1:] = np.random.normal(0, SEED_STD, size = seed[:, i, j, 1:].shape)\n",
    "    return seed\n",
    "\n",
    "# Gaussian initialization\n",
    "class CustomInitializer(Initializer):\n",
    "    def __init__(self, mean=0.0, stddev=0.01):\n",
    "        self.mean = mean\n",
    "        self.stddev = stddev\n",
    "\n",
    "    def __call__(self, shape, dtype=np.float32):\n",
    "        return tf.random.normal(shape, mean=self.mean, stddev=self.stddev, dtype=dtype)\n",
    "\n",
    "class build_generator(tf.keras.Model):\n",
    "\n",
    "    def __init__(self, channel_n=CHANNEL_N, fire_rate=CELL_FIRE_RATE, l2_reg = 0):\n",
    "        super().__init__()\n",
    "        self.channel_n = channel_n\n",
    "        self.fire_rate = fire_rate\n",
    "        self.custom_init = CustomInitializer(mean=0, stddev=0.05) #was 0.008\n",
    "\n",
    "        self.perceive = tf.keras.Sequential([\n",
    "            Conv2D(80, 3, activation=tf.nn.relu, padding=\"SAME\"), # 80 filters, 3x3 kernel\n",
    "        ])\n",
    "\n",
    "        self.dmodel = tf.keras.Sequential([\n",
    "            Conv2D(80, 1, activation=tf.nn.relu),\n",
    "            Conv2D(self.channel_n, 1, activation=tf.nn.tanh,\n",
    "                kernel_initializer=tf.zeros_initializer),\n",
    "        ])\n",
    "\n",
    "        self(tf.zeros([1, 3, 3, channel_n]))  # dummy call to build the model\n",
    "\n",
    "    @tf.function\n",
    "    def call(self, x, fire_rate=None, angle=0.0, step_size=1.0):\n",
    "        pre_life_mask = get_living_mask(x)\n",
    "\n",
    "        y = self.perceive(x)\n",
    "        dx = self.dmodel(y)*step_size\n",
    "        if fire_rate is None:\n",
    "            fire_rate = self.fire_rate\n",
    "        update_mask = tf.random.uniform(tf.shape(x[:, :, :, :1])) <= fire_rate\n",
    "        x += dx * tf.cast(update_mask, tf.float32)\n",
    "\n",
    "        post_life_mask = get_living_mask(x)\n",
    "        life_mask = pre_life_mask & post_life_mask\n",
    "\n",
    "        return x * tf.cast(life_mask, tf.float32)\n",
    "\n",
    "build_generator().dmodel.summary()\n",
    "\n",
    "# TODO: TRY SIGMOID, square root loss "
   ]
  },
  {
   "cell_type": "markdown",
   "metadata": {},
   "source": [
    "# The kernel functions"
   ]
  },
  {
   "cell_type": "code",
   "execution_count": 5,
   "metadata": {},
   "outputs": [],
   "source": [
    "def compute_kernel(x, y, sigma_list):\n",
    "    \"\"\"Computes a Gaussian kernel between two sets of samples using multiple bandwidth parameters.\"\"\"\n",
    "    beta_list = [1.0 / (2.0 * sigma**2) for sigma in sigma_list]\n",
    "    x_expanded = tf.expand_dims(x, 1)\n",
    "    y_expanded = tf.expand_dims(y, 0)\n",
    "    kernel_val = 0.\n",
    "    for beta in beta_list:\n",
    "        beta = tf.cast(beta, tf.float32)\n",
    "        squared_diff = tf.reduce_sum(tf.square(x_expanded - y_expanded), 2)\n",
    "        kernel_val += tf.exp(-beta * squared_diff)\n",
    "    return kernel_val / tf.cast(tf.size(sigma_list), tf.float32)\n",
    "\n",
    "def compute_mmd(x, y, sigma_list=[2, 5, 10, 20, 40, 80]):\n",
    "    \"\"\"Computes the Maximum Mean Discrepancy (MMD) between two sets of samples, x and y.\"\"\"\n",
    "    x_kernel = compute_kernel(x, x, sigma_list)\n",
    "    y_kernel = compute_kernel(y, y, sigma_list)\n",
    "    xy_kernel = compute_kernel(x, y, sigma_list)\n",
    "    return tf.reduce_mean(x_kernel) + tf.reduce_mean(y_kernel) - 2 * tf.reduce_mean(xy_kernel)\n"
   ]
  },
  {
   "cell_type": "code",
   "execution_count": 6,
   "metadata": {},
   "outputs": [
    {
     "name": "stdout",
     "output_type": "stream",
     "text": [
      "WARNING:tensorflow:5 out of the last 5 calls to <function build_generator.call at 0x2a0d5d620> triggered tf.function retracing. Tracing is expensive and the excessive number of tracings could be due to (1) creating @tf.function repeatedly in a loop, (2) passing tensors with different shapes, (3) passing Python objects instead of tensors. For (1), please define your @tf.function outside of the loop. For (2), @tf.function has reduce_retracing=True option that can avoid unnecessary retracing. For (3), please refer to https://www.tensorflow.org/guide/function#controlling_retracing and https://www.tensorflow.org/api_docs/python/tf/function for  more details.\n",
      "WARNING:tensorflow:6 out of the last 6 calls to <function build_generator.call at 0x2a0ddf240> triggered tf.function retracing. Tracing is expensive and the excessive number of tracings could be due to (1) creating @tf.function repeatedly in a loop, (2) passing tensors with different shapes, (3) passing Python objects instead of tensors. For (1), please define your @tf.function outside of the loop. For (2), @tf.function has reduce_retracing=True option that can avoid unnecessary retracing. For (3), please refer to https://www.tensorflow.org/guide/function#controlling_retracing and https://www.tensorflow.org/api_docs/python/tf/function for  more details.\n"
     ]
    }
   ],
   "source": [
    "models = [build_generator() for _ in range(10)]"
   ]
  },
  {
   "cell_type": "code",
   "execution_count": 7,
   "metadata": {},
   "outputs": [],
   "source": [
    "def generate_images(digit): \n",
    "    model = models[digit]\n",
    "    x = make_seed(16)\n",
    "    for i in range(iter_n):\n",
    "        x = model(x, training=False) \n",
    "    generated_images = x\n",
    "    fig, axes = plt.subplots(1, 16, figsize=(20, 2))\n",
    "    greyscale_images = to_greyscale(generated_images)\n",
    "    for i, ax in enumerate(axes):\n",
    "        ax.imshow(greyscale_images[i, :, :, 0], cmap='gray')\n",
    "        ax.axis('off')\n",
    "    plt.suptitle(f'Generated Images for Digit {digit}')\n",
    "    plt.show()"
   ]
  },
  {
   "cell_type": "code",
   "execution_count": null,
   "metadata": {},
   "outputs": [],
   "source": [
    "def plot_training_metrics(epochs, mmd_losses, parzen_log_likelihoods, parzen_eval_interval, target_digit):\n",
    "    \"\"\"\n",
    "    Plots and saves the training metrics including MMD Loss and Parzen Window Log Likelihood\n",
    "    for a specific target digit.\n",
    "    \n",
    "    Parameters:\n",
    "    - epochs: Total number of epochs trained.\n",
    "    - mmd_losses: List of MMD losses recorded after each epoch.\n",
    "    - parzen_log_likelihoods: List of Parzen window log likelihoods recorded at specified intervals.\n",
    "    - parzen_eval_interval: Interval at which Parzen window log likelihoods were evaluated.\n",
    "    - target_digit: The target digit for which the model was trained.\n",
    "    \"\"\"\n",
    "    \n",
    "    # Create directory if it doesn't exist\n",
    "    save_dir = f'evaluation/{target_digit}'\n",
    "    os.makedirs(save_dir, exist_ok=True)\n",
    "    \n",
    "    plt.figure(figsize=(12, 6))\n",
    "    \n",
    "    # Plotting MMD Loss\n",
    "    plt.subplot(1, 2, 1)\n",
    "    plt.plot(range(1, epochs + 1), mmd_losses, label='MMD Loss')\n",
    "    plt.xlabel('Epoch')\n",
    "    plt.ylabel('MMD Loss')\n",
    "    plt.title('MMD Loss over Epochs')\n",
    "    plt.legend()\n",
    "    \n",
    "    # Plotting Parzen Window Log Likelihood\n",
    "    plt.subplot(1, 2, 2)\n",
    "    epochs_evaluated = list(range(parzen_eval_interval, epochs + 1, parzen_eval_interval))\n",
    "    plt.plot(epochs_evaluated, parzen_log_likelihoods, label='Parzen Log Likelihood', color='orange')\n",
    "    plt.xlabel('Epoch')\n",
    "    plt.ylabel('Log Likelihood')\n",
    "    plt.title('Parzen Window Log Likelihood over Epochs')\n",
    "    plt.legend()\n",
    "    \n",
    "    plt.tight_layout()\n",
    "    \n",
    "    # Save the figure\n",
    "    filename = os.path.join(save_dir, f'training_metrics_for_digit_{target_digit}.png')\n",
    "    plt.savefig(filename)\n",
    "    plt.show()\n",
    "    plt.close()  # Close the figure to free memory\n",
    "    print(f\"Plot saved to {filename}\")\n",
    "    \n"
   ]
  },
  {
   "cell_type": "code",
   "execution_count": 21,
   "metadata": {},
   "outputs": [
    {
     "name": "stdout",
     "output_type": "stream",
     "text": [
      "Training model for digit 4\n"
     ]
    },
    {
     "ename": "KeyboardInterrupt",
     "evalue": "",
     "output_type": "error",
     "traceback": [
      "\u001b[0;31m---------------------------------------------------------------------------\u001b[0m",
      "\u001b[0;31mKeyboardInterrupt\u001b[0m                         Traceback (most recent call last)",
      "Cell \u001b[0;32mIn[21], line 33\u001b[0m\n\u001b[1;32m     31\u001b[0m     \u001b[38;5;28;01mcontinue\u001b[39;00m\n\u001b[1;32m     32\u001b[0m \u001b[38;5;28mprint\u001b[39m(\u001b[38;5;124mf\u001b[39m\u001b[38;5;124m\"\u001b[39m\u001b[38;5;124mTraining model for digit \u001b[39m\u001b[38;5;132;01m{\u001b[39;00mi\u001b[38;5;132;01m}\u001b[39;00m\u001b[38;5;124m\"\u001b[39m)\n\u001b[0;32m---> 33\u001b[0m model \u001b[38;5;241m=\u001b[39m \u001b[43mtrain_model_for_digit\u001b[49m\u001b[43m(\u001b[49m\u001b[43mdataset\u001b[49m\u001b[43m,\u001b[49m\u001b[43m \u001b[49m\u001b[43mi\u001b[49m\u001b[43m)\u001b[49m\n\u001b[1;32m     34\u001b[0m model\u001b[38;5;241m.\u001b[39msave_weights(\u001b[38;5;124mf\u001b[39m\u001b[38;5;124m'\u001b[39m\u001b[38;5;124mgmmn_model_\u001b[39m\u001b[38;5;132;01m{\u001b[39;00mi\u001b[38;5;132;01m}\u001b[39;00m\u001b[38;5;124m.h5\u001b[39m\u001b[38;5;124m'\u001b[39m)\n",
      "Cell \u001b[0;32mIn[21], line 20\u001b[0m, in \u001b[0;36mtrain_model_for_digit\u001b[0;34m(digit_dataset, i)\u001b[0m\n\u001b[1;32m     17\u001b[0m     generated_images \u001b[38;5;241m=\u001b[39m tf\u001b[38;5;241m.\u001b[39mreshape(x[\u001b[38;5;241m.\u001b[39m\u001b[38;5;241m.\u001b[39m\u001b[38;5;241m.\u001b[39m, \u001b[38;5;241m0\u001b[39m], [batch_size, \u001b[38;5;241m28\u001b[39m\u001b[38;5;241m*\u001b[39m\u001b[38;5;241m28\u001b[39m])\n\u001b[1;32m     18\u001b[0m     mmd_loss \u001b[38;5;241m=\u001b[39m compute_mmd(real_images, generated_images)\n\u001b[0;32m---> 20\u001b[0m grads_new \u001b[38;5;241m=\u001b[39m \u001b[43mtape\u001b[49m\u001b[38;5;241;43m.\u001b[39;49m\u001b[43mgradient\u001b[49m\u001b[43m(\u001b[49m\u001b[43mmmd_loss\u001b[49m\u001b[43m,\u001b[49m\u001b[43m \u001b[49m\u001b[43mmodel\u001b[49m\u001b[38;5;241;43m.\u001b[39;49m\u001b[43mweights\u001b[49m\u001b[43m)\u001b[49m\n\u001b[1;32m     21\u001b[0m \u001b[38;5;66;03m# print([tf.norm(g).numpy() for g in grads_new])\u001b[39;00m\n\u001b[1;32m     22\u001b[0m grads \u001b[38;5;241m=\u001b[39m [g\u001b[38;5;241m/\u001b[39m(tf\u001b[38;5;241m.\u001b[39mnorm(g)\u001b[38;5;241m+\u001b[39m\u001b[38;5;241m1e-8\u001b[39m) \u001b[38;5;28;01mfor\u001b[39;00m g \u001b[38;5;129;01min\u001b[39;00m grads_new]\n",
      "File \u001b[0;32m~/ML/lib/python3.11/site-packages/tensorflow/python/eager/backprop.py:1065\u001b[0m, in \u001b[0;36mGradientTape.gradient\u001b[0;34m(self, target, sources, output_gradients, unconnected_gradients)\u001b[0m\n\u001b[1;32m   1059\u001b[0m   output_gradients \u001b[38;5;241m=\u001b[39m (\n\u001b[1;32m   1060\u001b[0m       composite_tensor_gradient\u001b[38;5;241m.\u001b[39mget_flat_tensors_for_gradients(\n\u001b[1;32m   1061\u001b[0m           output_gradients))\n\u001b[1;32m   1062\u001b[0m   output_gradients \u001b[38;5;241m=\u001b[39m [\u001b[38;5;28;01mNone\u001b[39;00m \u001b[38;5;28;01mif\u001b[39;00m x \u001b[38;5;129;01mis\u001b[39;00m \u001b[38;5;28;01mNone\u001b[39;00m \u001b[38;5;28;01melse\u001b[39;00m ops\u001b[38;5;241m.\u001b[39mconvert_to_tensor(x)\n\u001b[1;32m   1063\u001b[0m                       \u001b[38;5;28;01mfor\u001b[39;00m x \u001b[38;5;129;01min\u001b[39;00m output_gradients]\n\u001b[0;32m-> 1065\u001b[0m flat_grad \u001b[38;5;241m=\u001b[39m \u001b[43mimperative_grad\u001b[49m\u001b[38;5;241;43m.\u001b[39;49m\u001b[43mimperative_grad\u001b[49m\u001b[43m(\u001b[49m\n\u001b[1;32m   1066\u001b[0m \u001b[43m    \u001b[49m\u001b[38;5;28;43mself\u001b[39;49m\u001b[38;5;241;43m.\u001b[39;49m\u001b[43m_tape\u001b[49m\u001b[43m,\u001b[49m\n\u001b[1;32m   1067\u001b[0m \u001b[43m    \u001b[49m\u001b[43mflat_targets\u001b[49m\u001b[43m,\u001b[49m\n\u001b[1;32m   1068\u001b[0m \u001b[43m    \u001b[49m\u001b[43mflat_sources\u001b[49m\u001b[43m,\u001b[49m\n\u001b[1;32m   1069\u001b[0m \u001b[43m    \u001b[49m\u001b[43moutput_gradients\u001b[49m\u001b[38;5;241;43m=\u001b[39;49m\u001b[43moutput_gradients\u001b[49m\u001b[43m,\u001b[49m\n\u001b[1;32m   1070\u001b[0m \u001b[43m    \u001b[49m\u001b[43msources_raw\u001b[49m\u001b[38;5;241;43m=\u001b[39;49m\u001b[43mflat_sources_raw\u001b[49m\u001b[43m,\u001b[49m\n\u001b[1;32m   1071\u001b[0m \u001b[43m    \u001b[49m\u001b[43munconnected_gradients\u001b[49m\u001b[38;5;241;43m=\u001b[39;49m\u001b[43munconnected_gradients\u001b[49m\u001b[43m)\u001b[49m\n\u001b[1;32m   1073\u001b[0m \u001b[38;5;28;01mif\u001b[39;00m \u001b[38;5;129;01mnot\u001b[39;00m \u001b[38;5;28mself\u001b[39m\u001b[38;5;241m.\u001b[39m_persistent:\n\u001b[1;32m   1074\u001b[0m   \u001b[38;5;66;03m# Keep track of watched variables before setting tape to None\u001b[39;00m\n\u001b[1;32m   1075\u001b[0m   \u001b[38;5;28mself\u001b[39m\u001b[38;5;241m.\u001b[39m_watched_variables \u001b[38;5;241m=\u001b[39m \u001b[38;5;28mself\u001b[39m\u001b[38;5;241m.\u001b[39m_tape\u001b[38;5;241m.\u001b[39mwatched_variables()\n",
      "File \u001b[0;32m~/ML/lib/python3.11/site-packages/tensorflow/python/eager/imperative_grad.py:67\u001b[0m, in \u001b[0;36mimperative_grad\u001b[0;34m(tape, target, sources, output_gradients, sources_raw, unconnected_gradients)\u001b[0m\n\u001b[1;32m     63\u001b[0m \u001b[38;5;28;01mexcept\u001b[39;00m \u001b[38;5;167;01mValueError\u001b[39;00m:\n\u001b[1;32m     64\u001b[0m   \u001b[38;5;28;01mraise\u001b[39;00m \u001b[38;5;167;01mValueError\u001b[39;00m(\n\u001b[1;32m     65\u001b[0m       \u001b[38;5;124m\"\u001b[39m\u001b[38;5;124mUnknown value for unconnected_gradients: \u001b[39m\u001b[38;5;132;01m%r\u001b[39;00m\u001b[38;5;124m\"\u001b[39m \u001b[38;5;241m%\u001b[39m unconnected_gradients)\n\u001b[0;32m---> 67\u001b[0m \u001b[38;5;28;01mreturn\u001b[39;00m \u001b[43mpywrap_tfe\u001b[49m\u001b[38;5;241;43m.\u001b[39;49m\u001b[43mTFE_Py_TapeGradient\u001b[49m\u001b[43m(\u001b[49m\n\u001b[1;32m     68\u001b[0m \u001b[43m    \u001b[49m\u001b[43mtape\u001b[49m\u001b[38;5;241;43m.\u001b[39;49m\u001b[43m_tape\u001b[49m\u001b[43m,\u001b[49m\u001b[43m  \u001b[49m\u001b[38;5;66;43;03m# pylint: disable=protected-access\u001b[39;49;00m\n\u001b[1;32m     69\u001b[0m \u001b[43m    \u001b[49m\u001b[43mtarget\u001b[49m\u001b[43m,\u001b[49m\n\u001b[1;32m     70\u001b[0m \u001b[43m    \u001b[49m\u001b[43msources\u001b[49m\u001b[43m,\u001b[49m\n\u001b[1;32m     71\u001b[0m \u001b[43m    \u001b[49m\u001b[43moutput_gradients\u001b[49m\u001b[43m,\u001b[49m\n\u001b[1;32m     72\u001b[0m \u001b[43m    \u001b[49m\u001b[43msources_raw\u001b[49m\u001b[43m,\u001b[49m\n\u001b[1;32m     73\u001b[0m \u001b[43m    \u001b[49m\u001b[43mcompat\u001b[49m\u001b[38;5;241;43m.\u001b[39;49m\u001b[43mas_str\u001b[49m\u001b[43m(\u001b[49m\u001b[43munconnected_gradients\u001b[49m\u001b[38;5;241;43m.\u001b[39;49m\u001b[43mvalue\u001b[49m\u001b[43m)\u001b[49m\u001b[43m)\u001b[49m\n",
      "File \u001b[0;32m~/ML/lib/python3.11/site-packages/tensorflow/python/eager/polymorphic_function/concrete_function.py:760\u001b[0m, in \u001b[0;36m_TapeGradientFunctions._wrap_backward_function.<locals>._backward_function_wrapper\u001b[0;34m(*args)\u001b[0m\n\u001b[1;32m    758\u001b[0m   \u001b[38;5;28;01mif\u001b[39;00m input_index \u001b[38;5;241m>\u001b[39m\u001b[38;5;241m=\u001b[39m backward_function_inputs:\n\u001b[1;32m    759\u001b[0m     \u001b[38;5;28;01mbreak\u001b[39;00m\n\u001b[0;32m--> 760\u001b[0m \u001b[38;5;28;01mreturn\u001b[39;00m \u001b[43mbackward\u001b[49m\u001b[38;5;241;43m.\u001b[39;49m\u001b[43m_call_flat\u001b[49m\u001b[43m(\u001b[49m\u001b[43m  \u001b[49m\u001b[38;5;66;43;03m# pylint: disable=protected-access\u001b[39;49;00m\n\u001b[1;32m    761\u001b[0m \u001b[43m    \u001b[49m\u001b[43mprocessed_args\u001b[49m\u001b[43m,\u001b[49m\u001b[43m \u001b[49m\u001b[43mremapped_captures\u001b[49m\u001b[43m)\u001b[49m\n",
      "File \u001b[0;32m~/ML/lib/python3.11/site-packages/tensorflow/python/eager/polymorphic_function/concrete_function.py:1264\u001b[0m, in \u001b[0;36mConcreteFunction._call_flat\u001b[0;34m(self, tensor_inputs, captured_inputs)\u001b[0m\n\u001b[1;32m   1260\u001b[0m possible_gradient_type \u001b[38;5;241m=\u001b[39m gradients_util\u001b[38;5;241m.\u001b[39mPossibleTapeGradientTypes(args)\n\u001b[1;32m   1261\u001b[0m \u001b[38;5;28;01mif\u001b[39;00m (possible_gradient_type \u001b[38;5;241m==\u001b[39m gradients_util\u001b[38;5;241m.\u001b[39mPOSSIBLE_GRADIENT_TYPES_NONE\n\u001b[1;32m   1262\u001b[0m     \u001b[38;5;129;01mand\u001b[39;00m executing_eagerly):\n\u001b[1;32m   1263\u001b[0m   \u001b[38;5;66;03m# No tape is watching; skip to running the function.\u001b[39;00m\n\u001b[0;32m-> 1264\u001b[0m   \u001b[38;5;28;01mreturn\u001b[39;00m \u001b[38;5;28;43mself\u001b[39;49m\u001b[38;5;241;43m.\u001b[39;49m\u001b[43m_inference_function\u001b[49m\u001b[38;5;241;43m.\u001b[39;49m\u001b[43mflat_call\u001b[49m\u001b[43m(\u001b[49m\u001b[43margs\u001b[49m\u001b[43m)\u001b[49m\n\u001b[1;32m   1265\u001b[0m forward_backward \u001b[38;5;241m=\u001b[39m \u001b[38;5;28mself\u001b[39m\u001b[38;5;241m.\u001b[39m_select_forward_and_backward_functions(\n\u001b[1;32m   1266\u001b[0m     args,\n\u001b[1;32m   1267\u001b[0m     possible_gradient_type,\n\u001b[1;32m   1268\u001b[0m     executing_eagerly)\n\u001b[1;32m   1269\u001b[0m forward_function, args_with_tangents \u001b[38;5;241m=\u001b[39m forward_backward\u001b[38;5;241m.\u001b[39mforward()\n",
      "File \u001b[0;32m~/ML/lib/python3.11/site-packages/tensorflow/python/eager/polymorphic_function/atomic_function.py:217\u001b[0m, in \u001b[0;36mAtomicFunction.flat_call\u001b[0;34m(self, args)\u001b[0m\n\u001b[1;32m    215\u001b[0m \u001b[38;5;28;01mdef\u001b[39;00m \u001b[38;5;21mflat_call\u001b[39m(\u001b[38;5;28mself\u001b[39m, args: Sequence[core\u001b[38;5;241m.\u001b[39mTensor]) \u001b[38;5;241m-\u001b[39m\u001b[38;5;241m>\u001b[39m Any:\n\u001b[1;32m    216\u001b[0m \u001b[38;5;250m  \u001b[39m\u001b[38;5;124;03m\"\"\"Calls with tensor inputs and returns the structured output.\"\"\"\u001b[39;00m\n\u001b[0;32m--> 217\u001b[0m   flat_outputs \u001b[38;5;241m=\u001b[39m \u001b[38;5;28;43mself\u001b[39;49m\u001b[43m(\u001b[49m\u001b[38;5;241;43m*\u001b[39;49m\u001b[43margs\u001b[49m\u001b[43m)\u001b[49m\n\u001b[1;32m    218\u001b[0m   \u001b[38;5;28;01mreturn\u001b[39;00m \u001b[38;5;28mself\u001b[39m\u001b[38;5;241m.\u001b[39mfunction_type\u001b[38;5;241m.\u001b[39mpack_output(flat_outputs)\n",
      "File \u001b[0;32m~/ML/lib/python3.11/site-packages/tensorflow/python/eager/polymorphic_function/atomic_function.py:252\u001b[0m, in \u001b[0;36mAtomicFunction.__call__\u001b[0;34m(self, *args)\u001b[0m\n\u001b[1;32m    250\u001b[0m \u001b[38;5;28;01mwith\u001b[39;00m record\u001b[38;5;241m.\u001b[39mstop_recording():\n\u001b[1;32m    251\u001b[0m   \u001b[38;5;28;01mif\u001b[39;00m \u001b[38;5;28mself\u001b[39m\u001b[38;5;241m.\u001b[39m_bound_context\u001b[38;5;241m.\u001b[39mexecuting_eagerly():\n\u001b[0;32m--> 252\u001b[0m     outputs \u001b[38;5;241m=\u001b[39m \u001b[38;5;28;43mself\u001b[39;49m\u001b[38;5;241;43m.\u001b[39;49m\u001b[43m_bound_context\u001b[49m\u001b[38;5;241;43m.\u001b[39;49m\u001b[43mcall_function\u001b[49m\u001b[43m(\u001b[49m\n\u001b[1;32m    253\u001b[0m \u001b[43m        \u001b[49m\u001b[38;5;28;43mself\u001b[39;49m\u001b[38;5;241;43m.\u001b[39;49m\u001b[43mname\u001b[49m\u001b[43m,\u001b[49m\n\u001b[1;32m    254\u001b[0m \u001b[43m        \u001b[49m\u001b[38;5;28;43mlist\u001b[39;49m\u001b[43m(\u001b[49m\u001b[43margs\u001b[49m\u001b[43m)\u001b[49m\u001b[43m,\u001b[49m\n\u001b[1;32m    255\u001b[0m \u001b[43m        \u001b[49m\u001b[38;5;28;43mlen\u001b[39;49m\u001b[43m(\u001b[49m\u001b[38;5;28;43mself\u001b[39;49m\u001b[38;5;241;43m.\u001b[39;49m\u001b[43mfunction_type\u001b[49m\u001b[38;5;241;43m.\u001b[39;49m\u001b[43mflat_outputs\u001b[49m\u001b[43m)\u001b[49m\u001b[43m,\u001b[49m\n\u001b[1;32m    256\u001b[0m \u001b[43m    \u001b[49m\u001b[43m)\u001b[49m\n\u001b[1;32m    257\u001b[0m   \u001b[38;5;28;01melse\u001b[39;00m:\n\u001b[1;32m    258\u001b[0m     outputs \u001b[38;5;241m=\u001b[39m make_call_op_in_graph(\n\u001b[1;32m    259\u001b[0m         \u001b[38;5;28mself\u001b[39m,\n\u001b[1;32m    260\u001b[0m         \u001b[38;5;28mlist\u001b[39m(args),\n\u001b[1;32m    261\u001b[0m         \u001b[38;5;28mself\u001b[39m\u001b[38;5;241m.\u001b[39m_bound_context\u001b[38;5;241m.\u001b[39mfunction_call_options\u001b[38;5;241m.\u001b[39mas_attrs(),\n\u001b[1;32m    262\u001b[0m     )\n",
      "File \u001b[0;32m~/ML/lib/python3.11/site-packages/tensorflow/python/eager/context.py:1479\u001b[0m, in \u001b[0;36mContext.call_function\u001b[0;34m(self, name, tensor_inputs, num_outputs)\u001b[0m\n\u001b[1;32m   1477\u001b[0m cancellation_context \u001b[38;5;241m=\u001b[39m cancellation\u001b[38;5;241m.\u001b[39mcontext()\n\u001b[1;32m   1478\u001b[0m \u001b[38;5;28;01mif\u001b[39;00m cancellation_context \u001b[38;5;129;01mis\u001b[39;00m \u001b[38;5;28;01mNone\u001b[39;00m:\n\u001b[0;32m-> 1479\u001b[0m   outputs \u001b[38;5;241m=\u001b[39m \u001b[43mexecute\u001b[49m\u001b[38;5;241;43m.\u001b[39;49m\u001b[43mexecute\u001b[49m\u001b[43m(\u001b[49m\n\u001b[1;32m   1480\u001b[0m \u001b[43m      \u001b[49m\u001b[43mname\u001b[49m\u001b[38;5;241;43m.\u001b[39;49m\u001b[43mdecode\u001b[49m\u001b[43m(\u001b[49m\u001b[38;5;124;43m\"\u001b[39;49m\u001b[38;5;124;43mutf-8\u001b[39;49m\u001b[38;5;124;43m\"\u001b[39;49m\u001b[43m)\u001b[49m\u001b[43m,\u001b[49m\n\u001b[1;32m   1481\u001b[0m \u001b[43m      \u001b[49m\u001b[43mnum_outputs\u001b[49m\u001b[38;5;241;43m=\u001b[39;49m\u001b[43mnum_outputs\u001b[49m\u001b[43m,\u001b[49m\n\u001b[1;32m   1482\u001b[0m \u001b[43m      \u001b[49m\u001b[43minputs\u001b[49m\u001b[38;5;241;43m=\u001b[39;49m\u001b[43mtensor_inputs\u001b[49m\u001b[43m,\u001b[49m\n\u001b[1;32m   1483\u001b[0m \u001b[43m      \u001b[49m\u001b[43mattrs\u001b[49m\u001b[38;5;241;43m=\u001b[39;49m\u001b[43mattrs\u001b[49m\u001b[43m,\u001b[49m\n\u001b[1;32m   1484\u001b[0m \u001b[43m      \u001b[49m\u001b[43mctx\u001b[49m\u001b[38;5;241;43m=\u001b[39;49m\u001b[38;5;28;43mself\u001b[39;49m\u001b[43m,\u001b[49m\n\u001b[1;32m   1485\u001b[0m \u001b[43m  \u001b[49m\u001b[43m)\u001b[49m\n\u001b[1;32m   1486\u001b[0m \u001b[38;5;28;01melse\u001b[39;00m:\n\u001b[1;32m   1487\u001b[0m   outputs \u001b[38;5;241m=\u001b[39m execute\u001b[38;5;241m.\u001b[39mexecute_with_cancellation(\n\u001b[1;32m   1488\u001b[0m       name\u001b[38;5;241m.\u001b[39mdecode(\u001b[38;5;124m\"\u001b[39m\u001b[38;5;124mutf-8\u001b[39m\u001b[38;5;124m\"\u001b[39m),\n\u001b[1;32m   1489\u001b[0m       num_outputs\u001b[38;5;241m=\u001b[39mnum_outputs,\n\u001b[0;32m   (...)\u001b[0m\n\u001b[1;32m   1493\u001b[0m       cancellation_manager\u001b[38;5;241m=\u001b[39mcancellation_context,\n\u001b[1;32m   1494\u001b[0m   )\n",
      "File \u001b[0;32m~/ML/lib/python3.11/site-packages/tensorflow/python/eager/execute.py:60\u001b[0m, in \u001b[0;36mquick_execute\u001b[0;34m(op_name, num_outputs, inputs, attrs, ctx, name)\u001b[0m\n\u001b[1;32m     53\u001b[0m   \u001b[38;5;66;03m# Convert any objects of type core_types.Tensor to Tensor.\u001b[39;00m\n\u001b[1;32m     54\u001b[0m   inputs \u001b[38;5;241m=\u001b[39m [\n\u001b[1;32m     55\u001b[0m       tensor_conversion_registry\u001b[38;5;241m.\u001b[39mconvert(t)\n\u001b[1;32m     56\u001b[0m       \u001b[38;5;28;01mif\u001b[39;00m \u001b[38;5;28misinstance\u001b[39m(t, core_types\u001b[38;5;241m.\u001b[39mTensor)\n\u001b[1;32m     57\u001b[0m       \u001b[38;5;28;01melse\u001b[39;00m t\n\u001b[1;32m     58\u001b[0m       \u001b[38;5;28;01mfor\u001b[39;00m t \u001b[38;5;129;01min\u001b[39;00m inputs\n\u001b[1;32m     59\u001b[0m   ]\n\u001b[0;32m---> 60\u001b[0m   tensors \u001b[38;5;241m=\u001b[39m \u001b[43mpywrap_tfe\u001b[49m\u001b[38;5;241;43m.\u001b[39;49m\u001b[43mTFE_Py_Execute\u001b[49m\u001b[43m(\u001b[49m\u001b[43mctx\u001b[49m\u001b[38;5;241;43m.\u001b[39;49m\u001b[43m_handle\u001b[49m\u001b[43m,\u001b[49m\u001b[43m \u001b[49m\u001b[43mdevice_name\u001b[49m\u001b[43m,\u001b[49m\u001b[43m \u001b[49m\u001b[43mop_name\u001b[49m\u001b[43m,\u001b[49m\n\u001b[1;32m     61\u001b[0m \u001b[43m                                      \u001b[49m\u001b[43minputs\u001b[49m\u001b[43m,\u001b[49m\u001b[43m \u001b[49m\u001b[43mattrs\u001b[49m\u001b[43m,\u001b[49m\u001b[43m \u001b[49m\u001b[43mnum_outputs\u001b[49m\u001b[43m)\u001b[49m\n\u001b[1;32m     62\u001b[0m \u001b[38;5;28;01mexcept\u001b[39;00m core\u001b[38;5;241m.\u001b[39m_NotOkStatusException \u001b[38;5;28;01mas\u001b[39;00m e:\n\u001b[1;32m     63\u001b[0m   \u001b[38;5;28;01mif\u001b[39;00m name \u001b[38;5;129;01mis\u001b[39;00m \u001b[38;5;129;01mnot\u001b[39;00m \u001b[38;5;28;01mNone\u001b[39;00m:\n",
      "\u001b[0;31mKeyboardInterrupt\u001b[0m: "
     ]
    }
   ],
   "source": [
    "def train_model_for_digit(digit_dataset, target_digit, epochs=100, sigma_range=np.arange(0.1, 0.5, 0.05), parzen_eval_interval=10):\n",
    "    model = models[target_digit]\n",
    "    optimizer = tf.keras.optimizers.Adam(2e-4)\n",
    "    \n",
    "    idx = val_labels == target_digit\n",
    "    digits = val_images[idx]\n",
    "    test_data = digits[:len(digits) // 100]\n",
    "\n",
    "    mmd_losses = []\n",
    "    parzen_log_likelihoods = []\n",
    "\n",
    "    for epoch in range(epochs):\n",
    "        epoch_mmd_losses = []\n",
    "        for real_images in digit_dataset:\n",
    "            x = make_seed(batch_size)\n",
    "            \n",
    "            with tf.GradientTape() as tape:\n",
    "                for i in tf.range(iter_n):\n",
    "                    x = model(x, training=True)\n",
    "                generated_images = tf.reshape(x[..., 0], [batch_size, 28*28])\n",
    "                mmd_loss = compute_mmd(real_images, generated_images)\n",
    "\n",
    "            grads = tape.gradient(mmd_loss, model.weights)\n",
    "            grads = [g/(tf.norm(g)+1e-8) for g in grads]\n",
    "            optimizer.apply_gradients(zip(grads, model.weights))\n",
    "            epoch_mmd_losses.append(mmd_loss.numpy())\n",
    "        \n",
    "        epoch_mmd_loss_avg = np.mean(epoch_mmd_losses)\n",
    "        mmd_losses.append(epoch_mmd_loss_avg)\n",
    "        \n",
    "        # Evaluate using Parzen window estimator periodically\n",
    "        if (epoch+1) % parzen_eval_interval == 0:\n",
    "            x = make_seed(test_data.shape[0])\n",
    "            for i in range(iter_n): \n",
    "                x = model(x, training=False)\n",
    "            samples = tf.reshape(x[..., 0], [x.shape[0], 28*28])\n",
    "            log_likelihood, best_sigma = find_best_sigma(samples, data, sigma_range, verbose=False)\n",
    "            parzen_log_likelihoods.append(log_likelihood.numpy())\n",
    "#             print(f'Epoch {epoch+1}, Parzen Log Likelihood: {log_likelihood.numpy()}')\n",
    "#             print(f'Epoch {epoch+1}, MMD Loss: {epoch_mmd_loss_avg}')\n",
    "    \n",
    "        \n",
    "    generate_images(digit=target_digit)\n",
    "    plot_training_metrics(epochs, mmd_losses, parzen_log_likelihoods, parzen_eval_interval, target_digit)\n",
    "    \n",
    "        \n",
    "    return model\n",
    "\n",
    "# Assuming 'datasets' is defined and contains your digit datasets\n",
    "for i, dataset in enumerate(datasets):\n",
    "    if i != 4:  # Assuming you only want to train on digit 4 for now\n",
    "        continue\n",
    "    print(f\"Training model for digit {i}\")\n",
    "    model = train_model_for_digit(dataset, i, epochs=2, parzen_eval_interval=1)\n",
    "    model.save_weights(f'gmmn_model_{i}.h5')\n"
   ]
  },
  {
   "cell_type": "code",
   "execution_count": 10,
   "metadata": {},
   "outputs": [
    {
     "ename": "ValueError",
     "evalue": "Cannot assign value to variable ' conv2d_15/kernel:0': Shape mismatch.The variable shape (3, 3, 16, 128), and the assigned value shape (80, 16, 3, 3) are incompatible.",
     "output_type": "error",
     "traceback": [
      "\u001b[0;31m---------------------------------------------------------------------------\u001b[0m",
      "\u001b[0;31mValueError\u001b[0m                                Traceback (most recent call last)",
      "Cell \u001b[0;32mIn[10], line 1\u001b[0m\n\u001b[0;32m----> 1\u001b[0m \u001b[43mmodels\u001b[49m\u001b[43m[\u001b[49m\u001b[38;5;241;43m4\u001b[39;49m\u001b[43m]\u001b[49m\u001b[38;5;241;43m.\u001b[39;49m\u001b[43mload_weights\u001b[49m\u001b[43m(\u001b[49m\u001b[38;5;124;43m'\u001b[39;49m\u001b[38;5;124;43mgmmn_model_4.h5\u001b[39;49m\u001b[38;5;124;43m'\u001b[39;49m\u001b[43m)\u001b[49m\n",
      "File \u001b[0;32m~/ML/lib/python3.11/site-packages/keras/src/utils/traceback_utils.py:70\u001b[0m, in \u001b[0;36mfilter_traceback.<locals>.error_handler\u001b[0;34m(*args, **kwargs)\u001b[0m\n\u001b[1;32m     67\u001b[0m     filtered_tb \u001b[38;5;241m=\u001b[39m _process_traceback_frames(e\u001b[38;5;241m.\u001b[39m__traceback__)\n\u001b[1;32m     68\u001b[0m     \u001b[38;5;66;03m# To get the full stack trace, call:\u001b[39;00m\n\u001b[1;32m     69\u001b[0m     \u001b[38;5;66;03m# `tf.debugging.disable_traceback_filtering()`\u001b[39;00m\n\u001b[0;32m---> 70\u001b[0m     \u001b[38;5;28;01mraise\u001b[39;00m e\u001b[38;5;241m.\u001b[39mwith_traceback(filtered_tb) \u001b[38;5;28;01mfrom\u001b[39;00m \u001b[38;5;28;01mNone\u001b[39;00m\n\u001b[1;32m     71\u001b[0m \u001b[38;5;28;01mfinally\u001b[39;00m:\n\u001b[1;32m     72\u001b[0m     \u001b[38;5;28;01mdel\u001b[39;00m filtered_tb\n",
      "File \u001b[0;32m~/ML/lib/python3.11/site-packages/keras/src/backend.py:4361\u001b[0m, in \u001b[0;36m_assign_value_to_variable\u001b[0;34m(variable, value)\u001b[0m\n\u001b[1;32m   4358\u001b[0m     variable\u001b[38;5;241m.\u001b[39massign(d_value)\n\u001b[1;32m   4359\u001b[0m \u001b[38;5;28;01melse\u001b[39;00m:\n\u001b[1;32m   4360\u001b[0m     \u001b[38;5;66;03m# For the normal tf.Variable assign\u001b[39;00m\n\u001b[0;32m-> 4361\u001b[0m     \u001b[43mvariable\u001b[49m\u001b[38;5;241;43m.\u001b[39;49m\u001b[43massign\u001b[49m\u001b[43m(\u001b[49m\u001b[43mvalue\u001b[49m\u001b[43m)\u001b[49m\n",
      "\u001b[0;31mValueError\u001b[0m: Cannot assign value to variable ' conv2d_15/kernel:0': Shape mismatch.The variable shape (3, 3, 16, 128), and the assigned value shape (80, 16, 3, 3) are incompatible."
     ]
    }
   ],
   "source": [
    "models[4].load_weights('gmmn_model_4.h5')"
   ]
  },
  {
   "cell_type": "markdown",
   "metadata": {},
   "source": [
    "# Display the creations"
   ]
  },
  {
   "cell_type": "code",
   "execution_count": null,
   "metadata": {},
   "outputs": [],
   "source": [
    "def print_image_sample(images): \n",
    "    plt.figure(figsize=(10, 10))\n",
    "    images = to_greyscale(images)\n",
    "    for i in range(images.shape[0]):\n",
    "        plt.subplot(4, 4, i+1)\n",
    "        plt.imshow(images[i] * 127.5 + 127.5, cmap='gray')\n",
    "        plt.axis('off')\n",
    "\n",
    "    plt.show()"
   ]
  },
  {
   "cell_type": "code",
   "execution_count": null,
   "metadata": {},
   "outputs": [],
   "source": [
    "def generate_and_save_images(model):\n",
    "    \n",
    "    x = make_seed(16)\n",
    "\n",
    "    for i in tf.range(iter_n):\n",
    "        x = model(x, training=False)\n",
    "    print_image_sample(x)"
   ]
  },
  {
   "cell_type": "code",
   "execution_count": null,
   "metadata": {},
   "outputs": [
    {
     "data": {
      "image/png": "[encoded data removed]",
      "text/plain": [
       "<Figure size 1000x1000 with 16 Axes>"
      ]
     },
     "metadata": {},
     "output_type": "display_data"
    }
   ],
   "source": [
    "generate_and_save_images(models[4])\n"
   ]
  },
  {
   "cell_type": "markdown",
   "metadata": {},
   "source": [
    "## Evaluation"
   ]
  },
  {
   "cell_type": "code",
   "execution_count": 18,
   "metadata": {},
   "outputs": [],
   "source": [
    "# Use the function to find the best sigma\n",
    "target_digit = 4\n",
    "idx = train_labels == target_digit\n",
    "digit_images = train_images[idx]\n",
    "data = digit_images[:1000]\n",
    "\n",
    "model = models[target_digit]\n",
    "x = make_seed(data.shape[0])\n",
    "for i in range(iter_n): \n",
    "    x = model(x, training=False)"
   ]
  },
  {
   "cell_type": "code",
   "execution_count": 19,
   "metadata": {},
   "outputs": [
    {
     "name": "stdout",
     "output_type": "stream",
     "text": [
      "(1000, 28, 28, 16)\n",
      "(1000, 784)\n",
      "784\n",
      "784\n",
      "784\n",
      "784\n",
      "784\n",
      "784\n",
      "784\n",
      "784\n",
      "784\n",
      "784\n",
      "sigma=0.1, log_likelihood=-3045.50\n",
      "784\n",
      "784\n",
      "784\n",
      "784\n",
      "784\n",
      "784\n",
      "784\n",
      "784\n",
      "784\n",
      "784\n",
      "sigma=0.15000000000000002, log_likelihood=-1068.79\n",
      "784\n",
      "784\n",
      "784\n",
      "784\n",
      "784\n",
      "784\n",
      "784\n",
      "784\n",
      "784\n",
      "784\n",
      "sigma=0.20000000000000004, log_likelihood=-491.22\n",
      "784\n",
      "784\n",
      "784\n",
      "784\n",
      "784\n",
      "784\n",
      "784\n",
      "784\n",
      "784\n",
      "784\n",
      "sigma=0.25000000000000006, log_likelihood=-294.44\n",
      "784\n",
      "784\n",
      "784\n",
      "784\n",
      "784\n",
      "784\n",
      "784\n",
      "784\n",
      "784\n",
      "784\n",
      "sigma=0.30000000000000004, log_likelihood=-235.45\n",
      "784\n",
      "784\n",
      "784\n",
      "784\n",
      "784\n",
      "784\n",
      "784\n",
      "784\n",
      "784\n",
      "784\n",
      "sigma=0.3500000000000001, log_likelihood=-234.55\n",
      "784\n",
      "784\n",
      "784\n",
      "784\n",
      "784\n",
      "784\n",
      "784\n",
      "784\n",
      "784\n",
      "784\n",
      "sigma=0.40000000000000013, log_likelihood=-260.22\n",
      "784\n",
      "784\n",
      "784\n",
      "784\n",
      "784\n",
      "784\n",
      "784\n",
      "784\n",
      "784\n",
      "784\n",
      "sigma=0.45000000000000007, log_likelihood=-298.38\n",
      "====================\n",
      "Best log_likelihood=-234.55 for sigma=0.3500000000000001\n",
      "\n",
      "Best Sigma: 0.3500000000000001, Log Likelihood: -234.55296325683594\n"
     ]
    }
   ],
   "source": [
    "import tensorflow as tf\n",
    "import numpy as np\n",
    "\n",
    "def log_mean_exp(a):\n",
    "    \"\"\"Compute the log of the mean of exponentials of input elements.\"\"\"\n",
    "    max_ = tf.reduce_max(a, axis=1, keepdims=True)\n",
    "    return max_ + tf.math.log(tf.reduce_mean(tf.exp(a - max_), axis=1))\n",
    "\n",
    "def tensorflow_parzen_estimator(mu, sigma):\n",
    "    \"\"\"Constructs a Parzen window estimator using TensorFlow.\"\"\"\n",
    "    mu = tf.convert_to_tensor(mu, dtype=tf.float32)\n",
    "    sigma = tf.constant(sigma, dtype=tf.float32)\n",
    "    \n",
    "    def parzen_estimator(x):\n",
    "        x = tf.convert_to_tensor(x, dtype=tf.float32)\n",
    "        a = (tf.expand_dims(x, 1) - tf.expand_dims(mu, 0)) / sigma\n",
    "        E = log_mean_exp(-0.5 * tf.reduce_sum(tf.square(a), axis=2))\n",
    "        Z = mu.shape[1] * tf.math.log(sigma * tf.sqrt(2 * np.pi))\n",
    "        print(mu.shape[1])\n",
    "        return E - Z\n",
    "    \n",
    "    return parzen_estimator\n",
    "\n",
    "def compute_log_likelihood(parzen, data, batch_size=100):\n",
    "    \"\"\"Computes log-likelihood of data given a Parzen window estimator.\"\"\"\n",
    "    n_batches = int(np.ceil(data.shape[0] / batch_size))\n",
    "    log_likelihoods = []\n",
    "    for i in range(n_batches):\n",
    "        batch = data[i*batch_size:(i+1)*batch_size]\n",
    "        log_likelihood = parzen(batch)\n",
    "        log_likelihoods.append(log_likelihood)\n",
    "    return tf.reduce_mean(log_likelihoods)\n",
    "\n",
    "def find_best_sigma(samples, data, sigma_range, batch_size=100, verbose=True):\n",
    "    \"\"\"Finds the best sigma value over a range by optimizing log-likelihood.\"\"\"\n",
    "    best_log_likelihood = float('-inf')\n",
    "    best_sigma = 0\n",
    "    \n",
    "    for sigma in sigma_range:\n",
    "        parzen = tensorflow_parzen_estimator(samples, sigma)\n",
    "        log_likelihood = compute_log_likelihood(parzen, data, batch_size)\n",
    "        \n",
    "        if log_likelihood > best_log_likelihood:\n",
    "            best_log_likelihood = log_likelihood\n",
    "            best_sigma = sigma\n",
    "            \n",
    "        if verbose:\n",
    "            print(f'sigma={sigma}, log_likelihood={log_likelihood.numpy():.2f}')\n",
    "    \n",
    "    if verbose:\n",
    "        print('====================')\n",
    "        print(f'Best log_likelihood={best_log_likelihood.numpy():.2f} for sigma={best_sigma}')\n",
    "        print('')\n",
    "    \n",
    "    return best_log_likelihood, best_sigma\n",
    "\n",
    "# Example usage\n",
    "# Assuming `samples` are your generated samples and `data` is the dataset you want to evaluate\n",
    "sigma_range = np.arange(0.1, 0.5, 0.05)  # Adjust this as necessary\n",
    "\n",
    "print(x.shape)\n",
    "samples = tf.reshape(x[..., 0], [x.shape[0], 28*28])\n",
    "print(samples.shape)\n",
    "best_log_likelihood, best_sigma = find_best_sigma(samples, data, sigma_range)\n",
    "print(f\"Best Sigma: {best_sigma}, Log Likelihood: {best_log_likelihood.numpy()}\")\n"
   ]
  },
  {
   "cell_type": "markdown",
   "metadata": {},
   "source": [
    "more parameters\n",
    "LSTMs\n",
    "Comparison between models - gradients, norm, ablation study, baseline, \n",
    "Start writeup, read papers, "
   ]
  },
  {
   "cell_type": "markdown",
   "metadata": {},
   "source": [
    "conda create -n nca1 python=3.11\n",
    "conda activate nca1\n",
    "conda install -c conda-forge matplotlib\n",
    "pip install tensorflow[and-cuda]\n",
    "conda install ipykernel\n"
   ]
  }
 ],
 "metadata": {
  "kernelspec": {
   "display_name": "ML",
   "language": "python",
   "name": "python3"
  },
  "language_info": {
   "codemirror_mode": {
    "name": "ipython",
    "version": 3
   },
   "file_extension": ".py",
   "mimetype": "text/x-python",
   "name": "python",
   "nbconvert_exporter": "python",
   "pygments_lexer": "ipython3",
   "version": "3.11.6"
  }
 },
 "nbformat": 4,
 "nbformat_minor": 2
}
