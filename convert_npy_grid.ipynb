{
 "cells": [
  {
   "cell_type": "code",
   "execution_count": 1,
   "metadata": {},
   "outputs": [],
   "source": [
    "import numpy as np\n",
    "import matplotlib.pylab as plt\n",
    "\n",
    "import tensorflow as tf\n",
    "from tensorflow.keras.layers import Conv2D\n",
    "from tensorflow.keras import backend\n",
    "from tensorflow.keras.layers import Conv2D, Flatten, Dense, BatchNormalization, LeakyReLU, Dropout\n",
    "from tensorflow.keras.initializers import Initializer\n",
    "from tensorflow.keras.regularizers import l2\n",
    "from tensorflow.keras.constraints import Constraint\n",
    "import matplotlib.pyplot as plt\n",
    "from IPython.display import clear_output\n",
    "import os\n",
    "from datetime import datetime\n",
    "# Get the current date in YYYYMMDD format\n",
    "current_date = datetime.now().strftime(\"%Y%m%d\")"
   ]
  },
  {
   "cell_type": "code",
   "execution_count": 73,
   "metadata": {},
   "outputs": [],
   "source": [
    "# saved_originals = np.repeat(np.load('f_test_images.npy'), 3, axis=-1)\n",
    "saved_images = np.load('npys/npys/gmmn/m_gmmn_images.npy')\n",
    "\n",
    "# print(saved_images.shape)\n",
    "# print(\"Original shape of saved_images:\", saved_images.shape)\n",
    "if saved_images.ndim == 2 and saved_images.shape[1] == 784:\n",
    "    saved_images = saved_images.reshape(saved_images.shape[0], 28, 28, 1)\n",
    "# saved_images = saved_images[:len(saved_originals)]\n",
    "# saved_images = np.repeat(saved_images, 3, axis=-1)\n",
    "# print(\"Shape after processing:\", saved_images.shape)\n",
    "# saved_images = np.clip(saved_images, 0, 1)\n",
    "# print(\"Shape after clipping:\", saved_images.shape)"
   ]
  },
  {
   "cell_type": "markdown",
   "metadata": {},
   "source": []
  },
  {
   "cell_type": "code",
   "execution_count": 74,
   "metadata": {},
   "outputs": [],
   "source": [
    "def generate_images(x):\n",
    "    fig, axes = plt.subplots(4, 4, figsize=(10, 10))  # 4x4 grid with larger size\n",
    "    greyscale_images = np.clip(x[:16], 0, 1)\n",
    "    for i, ax in enumerate(axes.flatten()):  # Flatten the 2D axes array\n",
    "        ax.imshow(greyscale_images[i], cmap='gray')\n",
    "        ax.axis('off')  # Remove axes\n",
    "    return fig, axes"
   ]
  },
  {
   "cell_type": "code",
   "execution_count": 75,
   "metadata": {},
   "outputs": [
    {
     "data": {
      "text/plain": [
       "(<Figure size 1000x1000 with 16 Axes>,\n",
       " array([[<Axes: >, <Axes: >, <Axes: >, <Axes: >],\n",
       "        [<Axes: >, <Axes: >, <Axes: >, <Axes: >],\n",
       "        [<Axes: >, <Axes: >, <Axes: >, <Axes: >],\n",
       "        [<Axes: >, <Axes: >, <Axes: >, <Axes: >]], dtype=object))"
      ]
     },
     "execution_count": 75,
     "metadata": {},
     "output_type": "execute_result"
    },
    {
     "data": {
      "image/png": "[encoded data removed]",
      "text/plain": [
       "<Figure size 1000x1000 with 16 Axes>"
      ]
     },
     "metadata": {},
     "output_type": "display_data"
    }
   ],
   "source": [
    "generate_images(saved_images)"
   ]
  },
  {
   "cell_type": "code",
   "execution_count": 55,
   "metadata": {},
   "outputs": [],
   "source": [
    "CHANNEL_N = 16\n",
    "SEED_STD = 0.1\n",
    "CELL_FIRE_RATE = 0.5\n",
    "target_digit = 0"
   ]
  },
  {
   "cell_type": "code",
   "execution_count": 56,
   "metadata": {},
   "outputs": [
    {
     "name": "stdout",
     "output_type": "stream",
     "text": [
      "Model: \"sequential_49\"\n",
      "_________________________________________________________________\n",
      " Layer (type)                Output Shape              Param #   \n",
      "=================================================================\n",
      " conv2d_73 (Conv2D)          (1, 3, 3, 256)            25856     \n",
      "                                                                 \n",
      " conv2d_74 (Conv2D)          (1, 3, 3, 16)             4112      \n",
      "                                                                 \n",
      "=================================================================\n",
      "Total params: 29968 (117.06 KB)\n",
      "Trainable params: 29968 (117.06 KB)\n",
      "Non-trainable params: 0 (0.00 Byte)\n",
      "_________________________________________________________________\n"
     ]
    }
   ],
   "source": [
    "#@title CA model and utils\n",
    "def to_greyscale(x):\n",
    "    y = tf.clip_by_value(x[..., 0:1], 0.0, 1.0)\n",
    "    return y\n",
    "\n",
    "def get_living_mask(x):\n",
    "    alpha = x[:, :, :, 0:1]\n",
    "    return tf.nn.max_pool2d(alpha, 3, [1, 1, 1, 1], 'SAME') > 0.1\n",
    "\n",
    "def make_seed(num_examples, channel_n=CHANNEL_N, seed_std=SEED_STD):\n",
    "    h, w = 28,28\n",
    "    seed = np.zeros([num_examples, h, w, channel_n], np.float32)\n",
    "    for i in range(h//2 - 1, h//2 + 1):\n",
    "        for j in range(w//2-1, w//2 + 1):\n",
    "            seed[:, i, j, 0] = np.random.uniform(1, 1, size = num_examples)\n",
    "            seed[:, i, j, 1:] = np.random.normal(0, seed_std, size = seed[:, i, j, 1:].shape)\n",
    "    return seed\n",
    "\n",
    "# Gaussian initialization\n",
    "class CustomInitializer(Initializer):\n",
    "    def __init__(self, mean=0.0, stddev=0.01):\n",
    "        self.mean = mean\n",
    "        self.stddev = stddev\n",
    "\n",
    "    def __call__(self, shape, dtype=np.float32):\n",
    "        return tf.random.normal(shape, mean=self.mean, stddev=self.stddev, dtype=dtype)\n",
    "\n",
    "class build_generator(tf.keras.Model):\n",
    "\n",
    "    def __init__(self, channel_n=CHANNEL_N, fire_rate=CELL_FIRE_RATE):\n",
    "        super().__init__()\n",
    "        self.channel_n = channel_n\n",
    "        self.fire_rate = fire_rate\n",
    "\n",
    "        self.perceive = tf.keras.Sequential([\n",
    "            Conv2D(100, 3, activation=tf.nn.relu, padding=\"SAME\"), # 80 filters, 3x3 kernel\n",
    "        ])\n",
    "\n",
    "        self.dmodel = tf.keras.Sequential([\n",
    "            Conv2D(256, 1, activation=tf.nn.relu),\n",
    "            Conv2D(self.channel_n, 1, activation=tf.nn.tanh,\n",
    "                kernel_initializer=tf.zeros_initializer),\n",
    "        ])\n",
    "\n",
    "        self(tf.zeros([1, 3, 3, channel_n]))  # dummy call to build the model\n",
    "\n",
    "    @tf.function\n",
    "    def call(self, x, fire_rate=None, angle=0.0, step_size=1.0):\n",
    "        pre_life_mask = get_living_mask(x)\n",
    "\n",
    "        y = self.perceive(x)\n",
    "        dx = self.dmodel(y)*step_size\n",
    "        if fire_rate is None:\n",
    "            fire_rate = self.fire_rate\n",
    "        update_mask = tf.random.uniform(tf.shape(x[:, :, :, :1])) <= fire_rate\n",
    "        x += dx * tf.cast(update_mask, tf.float32)\n",
    "\n",
    "        post_life_mask = get_living_mask(x)\n",
    "        life_mask = pre_life_mask & post_life_mask\n",
    "\n",
    "        return x * tf.cast(life_mask, tf.float32)\n",
    "\n",
    "build_generator().dmodel.summary()\n",
    "\n",
    "# TODO: TRY SIGMOID, square root loss "
   ]
  },
  {
   "cell_type": "code",
   "execution_count": 72,
   "metadata": {},
   "outputs": [
    {
     "name": "stdout",
     "output_type": "stream",
     "text": [
      "Model: \"build_generator_26\"\n",
      "_________________________________________________________________\n",
      " Layer (type)                Output Shape              Param #   \n",
      "=================================================================\n",
      " sequential_52 (Sequential)  (1, 3, 3, 100)            14500     \n",
      "                                                                 \n",
      " sequential_53 (Sequential)  (1, 3, 3, 16)             29968     \n",
      "                                                                 \n",
      "=================================================================\n",
      "Total params: 44468 (173.70 KB)\n",
      "Trainable params: 44468 (173.70 KB)\n",
      "Non-trainable params: 0 (0.00 Byte)\n",
      "_________________________________________________________________\n"
     ]
    },
    {
     "ename": "ValueError",
     "evalue": "Received incompatible tensor with shape (64,) when attempting to restore variable with shape (16,) and name conv2d_80/bias:0.",
     "output_type": "error",
     "traceback": [
      "\u001b[0;31m---------------------------------------------------------------------------\u001b[0m",
      "\u001b[0;31mValueError\u001b[0m                                Traceback (most recent call last)",
      "Cell \u001b[0;32mIn[72], line 4\u001b[0m\n\u001b[1;32m      2\u001b[0m model\u001b[38;5;241m.\u001b[39msummary()\n\u001b[1;32m      3\u001b[0m checkpoint_path \u001b[38;5;241m=\u001b[39m \u001b[38;5;124m\"\u001b[39m\u001b[38;5;124mmodel_weights/tuples\u001b[39m\u001b[38;5;124m\"\u001b[39m\n\u001b[0;32m----> 4\u001b[0m \u001b[43mmodel\u001b[49m\u001b[38;5;241;43m.\u001b[39;49m\u001b[43mload_weights\u001b[49m\u001b[43m(\u001b[49m\u001b[43mcheckpoint_path\u001b[49m\u001b[43m)\u001b[49m\n",
      "File \u001b[0;32m~/ML/lib/python3.11/site-packages/keras/src/utils/traceback_utils.py:70\u001b[0m, in \u001b[0;36mfilter_traceback.<locals>.error_handler\u001b[0;34m(*args, **kwargs)\u001b[0m\n\u001b[1;32m     67\u001b[0m     filtered_tb \u001b[38;5;241m=\u001b[39m _process_traceback_frames(e\u001b[38;5;241m.\u001b[39m__traceback__)\n\u001b[1;32m     68\u001b[0m     \u001b[38;5;66;03m# To get the full stack trace, call:\u001b[39;00m\n\u001b[1;32m     69\u001b[0m     \u001b[38;5;66;03m# `tf.debugging.disable_traceback_filtering()`\u001b[39;00m\n\u001b[0;32m---> 70\u001b[0m     \u001b[38;5;28;01mraise\u001b[39;00m e\u001b[38;5;241m.\u001b[39mwith_traceback(filtered_tb) \u001b[38;5;28;01mfrom\u001b[39;00m \u001b[38;5;28;01mNone\u001b[39;00m\n\u001b[1;32m     71\u001b[0m \u001b[38;5;28;01mfinally\u001b[39;00m:\n\u001b[1;32m     72\u001b[0m     \u001b[38;5;28;01mdel\u001b[39;00m filtered_tb\n",
      "File \u001b[0;32m~/ML/lib/python3.11/site-packages/tensorflow/python/ops/resource_variable_ops.py:760\u001b[0m, in \u001b[0;36mBaseResourceVariable._restore_from_tensors\u001b[0;34m(self, restored_tensors)\u001b[0m\n\u001b[1;32m    757\u001b[0m   assigned_variable \u001b[38;5;241m=\u001b[39m shape_safe_assign_variable_handle(\n\u001b[1;32m    758\u001b[0m       \u001b[38;5;28mself\u001b[39m\u001b[38;5;241m.\u001b[39mhandle, \u001b[38;5;28mself\u001b[39m\u001b[38;5;241m.\u001b[39mshape, restored_tensor)\n\u001b[1;32m    759\u001b[0m \u001b[38;5;28;01mexcept\u001b[39;00m \u001b[38;5;167;01mValueError\u001b[39;00m \u001b[38;5;28;01mas\u001b[39;00m e:\n\u001b[0;32m--> 760\u001b[0m   \u001b[38;5;28;01mraise\u001b[39;00m \u001b[38;5;167;01mValueError\u001b[39;00m(\n\u001b[1;32m    761\u001b[0m       \u001b[38;5;124mf\u001b[39m\u001b[38;5;124m\"\u001b[39m\u001b[38;5;124mReceived incompatible tensor with shape \u001b[39m\u001b[38;5;132;01m{\u001b[39;00mrestored_tensor\u001b[38;5;241m.\u001b[39mshape\u001b[38;5;132;01m}\u001b[39;00m\u001b[38;5;124m \u001b[39m\u001b[38;5;124m\"\u001b[39m\n\u001b[1;32m    762\u001b[0m       \u001b[38;5;124mf\u001b[39m\u001b[38;5;124m\"\u001b[39m\u001b[38;5;124mwhen attempting to restore variable with shape \u001b[39m\u001b[38;5;132;01m{\u001b[39;00m\u001b[38;5;28mself\u001b[39m\u001b[38;5;241m.\u001b[39mshape\u001b[38;5;132;01m}\u001b[39;00m\u001b[38;5;124m \u001b[39m\u001b[38;5;124m\"\u001b[39m\n\u001b[1;32m    763\u001b[0m       \u001b[38;5;124mf\u001b[39m\u001b[38;5;124m\"\u001b[39m\u001b[38;5;124mand name \u001b[39m\u001b[38;5;132;01m{\u001b[39;00m\u001b[38;5;28mself\u001b[39m\u001b[38;5;241m.\u001b[39mname\u001b[38;5;132;01m}\u001b[39;00m\u001b[38;5;124m.\u001b[39m\u001b[38;5;124m\"\u001b[39m) \u001b[38;5;28;01mfrom\u001b[39;00m \u001b[38;5;21;01me\u001b[39;00m\n\u001b[1;32m    764\u001b[0m \u001b[38;5;28;01mreturn\u001b[39;00m assigned_variable\n",
      "\u001b[0;31mValueError\u001b[0m: Received incompatible tensor with shape (64,) when attempting to restore variable with shape (16,) and name conv2d_80/bias:0."
     ]
    }
   ],
   "source": [
    "\n",
    "\n",
    "model = build_generator()\n",
    "model.summary()\n",
    "checkpoint_path = \"model_weights/tuples\"\n",
    "model.load_weights(checkpoint_path)"
   ]
  },
  {
   "cell_type": "code",
   "execution_count": 77,
   "metadata": {},
   "outputs": [],
   "source": [
    "x = make_seed(16, channel_n=CHANNEL_N, seed_std=0.1)\n",
    "for i in range(250):\n",
    "    x = model(x, training=False) \n",
    "generated_images = x\n",
    "fig, axes = plt.subplots(4, 4, figsize=(10, 10))  # 4x4 grid with larger size\n",
    "greyscale_images = to_greyscale(generated_images)\n",
    "for i, ax in enumerate(axes.flatten()):  # Flatten the 2D axes array\n",
    "    ax.imshow(greyscale_images[i, :, :, 0], cmap='gray')\n",
    "    ax.axis('off')  # Remove axes"
   ]
  },
  {
   "cell_type": "code",
   "execution_count": 35,
   "metadata": {},
   "outputs": [
    {
     "data": {
      "text/plain": [
       "<tensorflow.python.checkpoint.checkpoint.CheckpointLoadStatus at 0x294476510>"
      ]
     },
     "execution_count": 35,
     "metadata": {},
     "output_type": "execute_result"
    }
   ],
   "source": []
  },
  {
   "cell_type": "code",
   "execution_count": 30,
   "metadata": {},
   "outputs": [
    {
     "ename": "ValueError",
     "evalue": "Couldn't find 'checkpoint' file or checkpoints in given directory model_weights/",
     "output_type": "error",
     "traceback": [
      "\u001b[0;31m---------------------------------------------------------------------------\u001b[0m",
      "\u001b[0;31mValueError\u001b[0m                                Traceback (most recent call last)",
      "Cell \u001b[0;32mIn[30], line 1\u001b[0m\n\u001b[0;32m----> 1\u001b[0m ckpt \u001b[38;5;241m=\u001b[39m \u001b[43mtf\u001b[49m\u001b[38;5;241;43m.\u001b[39;49m\u001b[43mtrain\u001b[49m\u001b[38;5;241;43m.\u001b[39;49m\u001b[43mload_checkpoint\u001b[49m\u001b[43m(\u001b[49m\u001b[38;5;124;43m\"\u001b[39;49m\u001b[38;5;124;43mmodel_weights/\u001b[39;49m\u001b[38;5;124;43m\"\u001b[39;49m\u001b[43m)\u001b[49m\n\u001b[1;32m      3\u001b[0m \u001b[38;5;66;03m# Get all tensor names stored in the checkpoint\u001b[39;00m\n\u001b[1;32m      4\u001b[0m tensor_names \u001b[38;5;241m=\u001b[39m ckpt\u001b[38;5;241m.\u001b[39mget_variable_to_shape_map()\n",
      "File \u001b[0;32m~/ML/lib/python3.11/site-packages/tensorflow/python/training/checkpoint_utils.py:78\u001b[0m, in \u001b[0;36mload_checkpoint\u001b[0;34m(ckpt_dir_or_file)\u001b[0m\n\u001b[1;32m     76\u001b[0m filename \u001b[38;5;241m=\u001b[39m _get_checkpoint_filename(ckpt_dir_or_file)\n\u001b[1;32m     77\u001b[0m \u001b[38;5;28;01mif\u001b[39;00m filename \u001b[38;5;129;01mis\u001b[39;00m \u001b[38;5;28;01mNone\u001b[39;00m:\n\u001b[0;32m---> 78\u001b[0m   \u001b[38;5;28;01mraise\u001b[39;00m \u001b[38;5;167;01mValueError\u001b[39;00m(\u001b[38;5;124m\"\u001b[39m\u001b[38;5;124mCouldn\u001b[39m\u001b[38;5;124m'\u001b[39m\u001b[38;5;124mt find \u001b[39m\u001b[38;5;124m'\u001b[39m\u001b[38;5;124mcheckpoint\u001b[39m\u001b[38;5;124m'\u001b[39m\u001b[38;5;124m file or checkpoints in \u001b[39m\u001b[38;5;124m\"\u001b[39m\n\u001b[1;32m     79\u001b[0m                    \u001b[38;5;124m\"\u001b[39m\u001b[38;5;124mgiven directory \u001b[39m\u001b[38;5;132;01m%s\u001b[39;00m\u001b[38;5;124m\"\u001b[39m \u001b[38;5;241m%\u001b[39m ckpt_dir_or_file)\n\u001b[1;32m     80\u001b[0m \u001b[38;5;28;01mreturn\u001b[39;00m py_checkpoint_reader\u001b[38;5;241m.\u001b[39mNewCheckpointReader(filename)\n",
      "\u001b[0;31mValueError\u001b[0m: Couldn't find 'checkpoint' file or checkpoints in given directory model_weights/"
     ]
    }
   ],
   "source": [
    "print(\", Tensor shape:\", ckpt.get_tensor(name).shape)"
   ]
  },
  {
   "cell_type": "code",
   "execution_count": null,
   "metadata": {},
   "outputs": [],
   "source": []
  }
 ],
 "metadata": {
  "kernelspec": {
   "display_name": "ML",
   "language": "python",
   "name": "python3"
  },
  "language_info": {
   "codemirror_mode": {
    "name": "ipython",
    "version": 3
   },
   "file_extension": ".py",
   "mimetype": "text/x-python",
   "name": "python",
   "nbconvert_exporter": "python",
   "pygments_lexer": "ipython3",
   "version": "3.11.6"
  }
 },
 "nbformat": 4,
 "nbformat_minor": 2
}
